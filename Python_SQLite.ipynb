{
  "nbformat": 4,
  "nbformat_minor": 0,
  "metadata": {
    "colab": {
      "name": "Mufaddal_IAF603_ assignment3.ipynb",
      "provenance": [],
      "collapsed_sections": []
    },
    "kernelspec": {
      "name": "python3",
      "display_name": "Python 3"
    },
    "language_info": {
      "name": "python"
    }
  },
  "cells": [
    {
      "cell_type": "markdown",
      "metadata": {
        "id": "ewXH8tSqZgCN"
     
    {
      "cell_type": "markdown",
      "metadata": {
        "id": "UhPw2wwjZWQO"
      },
      "source": [
        "# TASK 1:\n",
        "The Chicago public dataset mentions are the parameters of the public school relevant public school evaluations. There are totally 78 columns and 566 rows. It a pretty huge data with multiple parameters (Variables) of public schools. Not all the variables look significantly relevant. \n",
        "\n",
        "The Census dataset is a small dataset with just 9 columns and 78 rows. The dataset is about the parameters to evaluate the population of different locality. Both the dataset can be used to understand which locality should prefer which school under different circumstances."
      ]
    },
    {
      "cell_type": "code",
      "metadata": {
        "id": "cbFYIppV48-d"
      },
      "source": [
        "import pandas as pd\n",
        "import numpy as np\n"
      ],
      "execution_count": 1,
      "outputs": []
    },
    {
      "cell_type": "code",
      "metadata": {
        "colab": {
          "resources": {
            "http://localhost:8080/nbextensions/google.colab/files.js": {
              "data": "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",
              "ok": true,
              "headers": [
                [
                  "content-type",
                  "application/javascript"
                ]
              ],
              "status": 200,
              "status_text": ""
            }
          },
          "base_uri": "https://localhost:8080/",
          "height": 73
        },
        "id": "404UuURQW4qd",
        "outputId": "313d9a81-c639-46cb-a58c-c7ae085a2515"
      },
      "source": [
        "from google.colab import files\n",
        "uploaded = files.upload()"
      ],
      "execution_count": 2,
      "outputs": [
        {
          "output_type": "display_data",
          "data": {
            "text/html": [
              "\n",
              "     <input type=\"file\" id=\"files-f142f467-93cb-4591-a32a-c26091db0a4a\" name=\"files[]\" multiple disabled\n",
              "        style=\"border:none\" />\n",
              "     <output id=\"result-f142f467-93cb-4591-a32a-c26091db0a4a\">\n",
              "      Upload widget is only available when the cell has been executed in the\n",
              "      current browser session. Please rerun this cell to enable.\n",
              "      </output>\n",
              "      <script src=\"/nbextensions/google.colab/files.js\"></script> "
            ],
            "text/plain": [
              "<IPython.core.display.HTML object>"
            ]
          },
          "metadata": {}
        },
        {
          "output_type": "stream",
          "name": "stdout",
          "text": [
            "Saving Chicago_Public_Schools_-_Progress_Report_Cards__2011-2012-v3.csv to Chicago_Public_Schools_-_Progress_Report_Cards__2011-2012-v3.csv\n"
          ]
        }
      ]
    },
    {
      "cell_type": "code",
      "metadata": {
        "colab": {
          "base_uri": "https://localhost:8080/",
          "height": 538
        },
        "id": "DNaRBSMEWqGB",
        "outputId": "26025580-97d0-4094-d6a7-12d9f2ee6a31"
      },
      "source": [
        "chicago_df = pd.read_csv(\"Chicago_Public_Schools_-_Progress_Report_Cards__2011-2012-v3.csv\")\n",
        "chicago_df.head()"
      ],
      "execution_count": 3,
      "outputs": [
        {
          "output_type": "execute_result",
          "data": {
            "text/html": [
              "<div>\n",
              "<style scoped>\n",
              "    .dataframe tbody tr th:only-of-type {\n",
              "        vertical-align: middle;\n",
              "    }\n",
              "\n",
              "    .dataframe tbody tr th {\n",
              "        vertical-align: top;\n",
              "    }\n",
              "\n",
              "    .dataframe thead th {\n",
              "        text-align: right;\n",
              "    }\n",
              "</style>\n",
              "<table border=\"1\" class=\"dataframe\">\n",
              "  <thead>\n",
              "    <tr style=\"text-align: right;\">\n",
              "      <th></th>\n",
              "      <th>School ID</th>\n",
              "      <th>NAME_OF_SCHOOL</th>\n",
              "      <th>Elementary, Middle, or High School</th>\n",
              "      <th>Street Address</th>\n",
              "      <th>City</th>\n",
              "      <th>State</th>\n",
              "      <th>ZIP Code</th>\n",
              "      <th>Phone Number</th>\n",
              "      <th>Link</th>\n",
              "      <th>Network Manager</th>\n",
              "      <th>Collaborative Name</th>\n",
              "      <th>Adequate Yearly Progress Made?</th>\n",
              "      <th>Track Schedule</th>\n",
              "      <th>CPS Performance Policy Status</th>\n",
              "      <th>CPS Performance Policy Level</th>\n",
              "      <th>HEALTHY_SCHOOL_CERTIFIED</th>\n",
              "      <th>Safety Icon</th>\n",
              "      <th>SAFETY_SCORE</th>\n",
              "      <th>Family Involvement Icon</th>\n",
              "      <th>Family Involvement Score</th>\n",
              "      <th>Environment Icon</th>\n",
              "      <th>Environment Score</th>\n",
              "      <th>Instruction Icon</th>\n",
              "      <th>Instruction Score</th>\n",
              "      <th>Leaders Icon</th>\n",
              "      <th>Leaders Score</th>\n",
              "      <th>Teachers Icon</th>\n",
              "      <th>Teachers Score</th>\n",
              "      <th>Parent Engagement Icon</th>\n",
              "      <th>Parent Engagement Score</th>\n",
              "      <th>Parent Environment Icon</th>\n",
              "      <th>Parent Environment Score</th>\n",
              "      <th>AVERAGE_STUDENT_ATTENDANCE</th>\n",
              "      <th>Rate of Misconducts (per 100 students)</th>\n",
              "      <th>Average Teacher Attendance</th>\n",
              "      <th>Individualized Education Program Compliance Rate</th>\n",
              "      <th>Pk-2 Literacy %</th>\n",
              "      <th>Pk-2 Math %</th>\n",
              "      <th>Gr3-5 Grade Level Math %</th>\n",
              "      <th>Gr3-5 Grade Level Read %</th>\n",
              "      <th>Gr3-5 Keep Pace Read %</th>\n",
              "      <th>Gr3-5 Keep Pace Math %</th>\n",
              "      <th>Gr6-8 Grade Level Math %</th>\n",
              "      <th>Gr6-8 Grade Level Read %</th>\n",
              "      <th>Gr6-8 Keep Pace Math%</th>\n",
              "      <th>Gr6-8 Keep Pace Read %</th>\n",
              "      <th>Gr-8 Explore Math %</th>\n",
              "      <th>Gr-8 Explore Read %</th>\n",
              "      <th>ISAT Exceeding Math %</th>\n",
              "      <th>ISAT Exceeding Reading %</th>\n",
              "      <th>ISAT Value Add Math</th>\n",
              "      <th>ISAT Value Add Read</th>\n",
              "      <th>ISAT Value Add Color Math</th>\n",
              "      <th>ISAT Value Add Color Read</th>\n",
              "      <th>Students Taking  Algebra %</th>\n",
              "      <th>Students Passing  Algebra %</th>\n",
              "      <th>9th Grade EXPLORE (2009)</th>\n",
              "      <th>9th Grade EXPLORE (2010)</th>\n",
              "      <th>10th Grade PLAN (2009)</th>\n",
              "      <th>10th Grade PLAN (2010)</th>\n",
              "      <th>Net Change EXPLORE and PLAN</th>\n",
              "      <th>11th Grade Average ACT (2011)</th>\n",
              "      <th>Net Change PLAN and ACT</th>\n",
              "      <th>College Eligibility %</th>\n",
              "      <th>Graduation Rate %</th>\n",
              "      <th>College Enrollment Rate %</th>\n",
              "      <th>COLLEGE_ENROLLMENT</th>\n",
              "      <th>General Services Route</th>\n",
              "      <th>Freshman on Track Rate %</th>\n",
              "      <th>X_COORDINATE</th>\n",
              "      <th>Y_COORDINATE</th>\n",
              "      <th>Latitude</th>\n",
              "      <th>Longitude</th>\n",
              "      <th>COMMUNITY_AREA_NUMBER</th>\n",
              "      <th>COMMUNITY_AREA_NAME</th>\n",
              "      <th>Ward</th>\n",
              "      <th>Police District</th>\n",
              "      <th>Location</th>\n",
              "    </tr>\n",
              "  </thead>\n",
              "  <tbody>\n",
              "    <tr>\n",
              "      <th>0</th>\n",
              "      <td>610038</td>\n",
              "      <td>Abraham Lincoln Elementary School</td>\n",
              "      <td>ES</td>\n",
              "      <td>615 W Kemper Pl</td>\n",
              "      <td>Chicago</td>\n",
              "      <td>IL</td>\n",
              "      <td>60614</td>\n",
              "      <td>(773) 534-5720</td>\n",
              "      <td>http://schoolreports.cps.edu/SchoolProgressRep...</td>\n",
              "      <td>Fullerton Elementary Network</td>\n",
              "      <td>NORTH-NORTHWEST SIDE COLLABORATIVE</td>\n",
              "      <td>No</td>\n",
              "      <td>Standard</td>\n",
              "      <td>Not on Probation</td>\n",
              "      <td>Level 1</td>\n",
              "      <td>Yes</td>\n",
              "      <td>Very Strong</td>\n",
              "      <td>99.0</td>\n",
              "      <td>Very Strong</td>\n",
              "      <td>99</td>\n",
              "      <td>Strong</td>\n",
              "      <td>74.0</td>\n",
              "      <td>Strong</td>\n",
              "      <td>66.0</td>\n",
              "      <td>Strong</td>\n",
              "      <td>65</td>\n",
              "      <td>Strong</td>\n",
              "      <td>70</td>\n",
              "      <td>Strong</td>\n",
              "      <td>56</td>\n",
              "      <td>Average</td>\n",
              "      <td>47</td>\n",
              "      <td>96.00%</td>\n",
              "      <td>2.0</td>\n",
              "      <td>96.40%</td>\n",
              "      <td>95.80%</td>\n",
              "      <td>80.1</td>\n",
              "      <td>43.3</td>\n",
              "      <td>89.6</td>\n",
              "      <td>84.9</td>\n",
              "      <td>60.7</td>\n",
              "      <td>62.6</td>\n",
              "      <td>81.9</td>\n",
              "      <td>85.2</td>\n",
              "      <td>52</td>\n",
              "      <td>62.4</td>\n",
              "      <td>66.3</td>\n",
              "      <td>77.9</td>\n",
              "      <td>69.7</td>\n",
              "      <td>64.4</td>\n",
              "      <td>0.2</td>\n",
              "      <td>0.9</td>\n",
              "      <td>Yellow</td>\n",
              "      <td>Green</td>\n",
              "      <td>67.1</td>\n",
              "      <td>54.5</td>\n",
              "      <td>NDA</td>\n",
              "      <td>NDA</td>\n",
              "      <td>NDA</td>\n",
              "      <td>NDA</td>\n",
              "      <td>NDA</td>\n",
              "      <td>NDA</td>\n",
              "      <td>NDA</td>\n",
              "      <td>NDA</td>\n",
              "      <td>NDA</td>\n",
              "      <td>NDA</td>\n",
              "      <td>813</td>\n",
              "      <td>33</td>\n",
              "      <td>NDA</td>\n",
              "      <td>1171699.458</td>\n",
              "      <td>1915829.428</td>\n",
              "      <td>41.924497</td>\n",
              "      <td>-87.644522</td>\n",
              "      <td>7</td>\n",
              "      <td>LINCOLN PARK</td>\n",
              "      <td>43</td>\n",
              "      <td>18</td>\n",
              "      <td>(41.92449696, -87.64452163)</td>\n",
              "    </tr>\n",
              "    <tr>\n",
              "      <th>1</th>\n",
              "      <td>610281</td>\n",
              "      <td>Adam Clayton Powell Paideia Community Academy ...</td>\n",
              "      <td>ES</td>\n",
              "      <td>7511 S South Shore Dr</td>\n",
              "      <td>Chicago</td>\n",
              "      <td>IL</td>\n",
              "      <td>60649</td>\n",
              "      <td>(773) 535-6650</td>\n",
              "      <td>http://schoolreports.cps.edu/SchoolProgressRep...</td>\n",
              "      <td>Skyway Elementary Network</td>\n",
              "      <td>SOUTH SIDE COLLABORATIVE</td>\n",
              "      <td>No</td>\n",
              "      <td>Track_E</td>\n",
              "      <td>Not on Probation</td>\n",
              "      <td>Level 1</td>\n",
              "      <td>No</td>\n",
              "      <td>Average</td>\n",
              "      <td>54.0</td>\n",
              "      <td>Strong</td>\n",
              "      <td>66</td>\n",
              "      <td>Strong</td>\n",
              "      <td>74.0</td>\n",
              "      <td>Very Strong</td>\n",
              "      <td>84.0</td>\n",
              "      <td>Strong</td>\n",
              "      <td>63</td>\n",
              "      <td>Strong</td>\n",
              "      <td>76</td>\n",
              "      <td>Weak</td>\n",
              "      <td>46</td>\n",
              "      <td>Average</td>\n",
              "      <td>50</td>\n",
              "      <td>95.60%</td>\n",
              "      <td>15.7</td>\n",
              "      <td>95.30%</td>\n",
              "      <td>100.00%</td>\n",
              "      <td>62.4</td>\n",
              "      <td>51.7</td>\n",
              "      <td>21.9</td>\n",
              "      <td>15.1</td>\n",
              "      <td>29</td>\n",
              "      <td>42.8</td>\n",
              "      <td>38.5</td>\n",
              "      <td>27.4</td>\n",
              "      <td>44.8</td>\n",
              "      <td>42.7</td>\n",
              "      <td>14.1</td>\n",
              "      <td>34.4</td>\n",
              "      <td>16.8</td>\n",
              "      <td>16.5</td>\n",
              "      <td>0.7</td>\n",
              "      <td>1.4</td>\n",
              "      <td>Green</td>\n",
              "      <td>Green</td>\n",
              "      <td>17.2</td>\n",
              "      <td>27.3</td>\n",
              "      <td>NDA</td>\n",
              "      <td>NDA</td>\n",
              "      <td>NDA</td>\n",
              "      <td>NDA</td>\n",
              "      <td>NDA</td>\n",
              "      <td>NDA</td>\n",
              "      <td>NDA</td>\n",
              "      <td>NDA</td>\n",
              "      <td>NDA</td>\n",
              "      <td>NDA</td>\n",
              "      <td>521</td>\n",
              "      <td>46</td>\n",
              "      <td>NDA</td>\n",
              "      <td>1196129.985</td>\n",
              "      <td>1856209.466</td>\n",
              "      <td>41.760324</td>\n",
              "      <td>-87.556736</td>\n",
              "      <td>43</td>\n",
              "      <td>SOUTH SHORE</td>\n",
              "      <td>7</td>\n",
              "      <td>4</td>\n",
              "      <td>(41.76032435, -87.55673627)</td>\n",
              "    </tr>\n",
              "    <tr>\n",
              "      <th>2</th>\n",
              "      <td>610185</td>\n",
              "      <td>Adlai E Stevenson Elementary School</td>\n",
              "      <td>ES</td>\n",
              "      <td>8010 S Kostner Ave</td>\n",
              "      <td>Chicago</td>\n",
              "      <td>IL</td>\n",
              "      <td>60652</td>\n",
              "      <td>(773) 535-2280</td>\n",
              "      <td>http://schoolreports.cps.edu/SchoolProgressRep...</td>\n",
              "      <td>Midway Elementary Network</td>\n",
              "      <td>SOUTHWEST SIDE COLLABORATIVE</td>\n",
              "      <td>No</td>\n",
              "      <td>Standard</td>\n",
              "      <td>Not on Probation</td>\n",
              "      <td>Level 2</td>\n",
              "      <td>No</td>\n",
              "      <td>Strong</td>\n",
              "      <td>61.0</td>\n",
              "      <td>NDA</td>\n",
              "      <td>NDA</td>\n",
              "      <td>Average</td>\n",
              "      <td>50.0</td>\n",
              "      <td>Weak</td>\n",
              "      <td>36.0</td>\n",
              "      <td>NDA</td>\n",
              "      <td>NDA</td>\n",
              "      <td>NDA</td>\n",
              "      <td>NDA</td>\n",
              "      <td>Average</td>\n",
              "      <td>47</td>\n",
              "      <td>Weak</td>\n",
              "      <td>41</td>\n",
              "      <td>95.70%</td>\n",
              "      <td>2.3</td>\n",
              "      <td>94.70%</td>\n",
              "      <td>98.30%</td>\n",
              "      <td>53.7</td>\n",
              "      <td>26.6</td>\n",
              "      <td>38.3</td>\n",
              "      <td>34.7</td>\n",
              "      <td>43.7</td>\n",
              "      <td>57.3</td>\n",
              "      <td>48.8</td>\n",
              "      <td>39.2</td>\n",
              "      <td>46.8</td>\n",
              "      <td>44</td>\n",
              "      <td>7.5</td>\n",
              "      <td>21.9</td>\n",
              "      <td>18.3</td>\n",
              "      <td>15.5</td>\n",
              "      <td>-0.9</td>\n",
              "      <td>-1.0</td>\n",
              "      <td>Red</td>\n",
              "      <td>Red</td>\n",
              "      <td>NDA</td>\n",
              "      <td>NDA</td>\n",
              "      <td>NDA</td>\n",
              "      <td>NDA</td>\n",
              "      <td>NDA</td>\n",
              "      <td>NDA</td>\n",
              "      <td>NDA</td>\n",
              "      <td>NDA</td>\n",
              "      <td>NDA</td>\n",
              "      <td>NDA</td>\n",
              "      <td>NDA</td>\n",
              "      <td>NDA</td>\n",
              "      <td>1324</td>\n",
              "      <td>44</td>\n",
              "      <td>NDA</td>\n",
              "      <td>1148427.165</td>\n",
              "      <td>1851012.215</td>\n",
              "      <td>41.747111</td>\n",
              "      <td>-87.731702</td>\n",
              "      <td>70</td>\n",
              "      <td>ASHBURN</td>\n",
              "      <td>13</td>\n",
              "      <td>8</td>\n",
              "      <td>(41.74711093, -87.73170248)</td>\n",
              "    </tr>\n",
              "    <tr>\n",
              "      <th>3</th>\n",
              "      <td>609993</td>\n",
              "      <td>Agustin Lara Elementary Academy</td>\n",
              "      <td>ES</td>\n",
              "      <td>4619 S Wolcott Ave</td>\n",
              "      <td>Chicago</td>\n",
              "      <td>IL</td>\n",
              "      <td>60609</td>\n",
              "      <td>(773) 535-4389</td>\n",
              "      <td>http://schoolreports.cps.edu/SchoolProgressRep...</td>\n",
              "      <td>Pershing Elementary Network</td>\n",
              "      <td>SOUTHWEST SIDE COLLABORATIVE</td>\n",
              "      <td>No</td>\n",
              "      <td>Track_E</td>\n",
              "      <td>Not on Probation</td>\n",
              "      <td>Level 1</td>\n",
              "      <td>No</td>\n",
              "      <td>Average</td>\n",
              "      <td>56.0</td>\n",
              "      <td>Average</td>\n",
              "      <td>44</td>\n",
              "      <td>Average</td>\n",
              "      <td>45.0</td>\n",
              "      <td>Weak</td>\n",
              "      <td>37.0</td>\n",
              "      <td>Strong</td>\n",
              "      <td>65</td>\n",
              "      <td>Average</td>\n",
              "      <td>48</td>\n",
              "      <td>Average</td>\n",
              "      <td>53</td>\n",
              "      <td>Strong</td>\n",
              "      <td>58</td>\n",
              "      <td>95.50%</td>\n",
              "      <td>10.4</td>\n",
              "      <td>95.80%</td>\n",
              "      <td>100.00%</td>\n",
              "      <td>76.9</td>\n",
              "      <td>NDA</td>\n",
              "      <td>26</td>\n",
              "      <td>24.7</td>\n",
              "      <td>61.8</td>\n",
              "      <td>49.7</td>\n",
              "      <td>39.2</td>\n",
              "      <td>27.2</td>\n",
              "      <td>69.7</td>\n",
              "      <td>60.6</td>\n",
              "      <td>9.1</td>\n",
              "      <td>18.2</td>\n",
              "      <td>11.1</td>\n",
              "      <td>9.6</td>\n",
              "      <td>0.9</td>\n",
              "      <td>2.4</td>\n",
              "      <td>Green</td>\n",
              "      <td>Green</td>\n",
              "      <td>42.9</td>\n",
              "      <td>25</td>\n",
              "      <td>NDA</td>\n",
              "      <td>NDA</td>\n",
              "      <td>NDA</td>\n",
              "      <td>NDA</td>\n",
              "      <td>NDA</td>\n",
              "      <td>NDA</td>\n",
              "      <td>NDA</td>\n",
              "      <td>NDA</td>\n",
              "      <td>NDA</td>\n",
              "      <td>NDA</td>\n",
              "      <td>556</td>\n",
              "      <td>42</td>\n",
              "      <td>NDA</td>\n",
              "      <td>1164504.290</td>\n",
              "      <td>1873959.199</td>\n",
              "      <td>41.809757</td>\n",
              "      <td>-87.672145</td>\n",
              "      <td>61</td>\n",
              "      <td>NEW CITY</td>\n",
              "      <td>20</td>\n",
              "      <td>9</td>\n",
              "      <td>(41.8097569, -87.6721446)</td>\n",
              "    </tr>\n",
              "    <tr>\n",
              "      <th>4</th>\n",
              "      <td>610513</td>\n",
              "      <td>Air Force Academy High School</td>\n",
              "      <td>HS</td>\n",
              "      <td>3630 S Wells St</td>\n",
              "      <td>Chicago</td>\n",
              "      <td>IL</td>\n",
              "      <td>60609</td>\n",
              "      <td>(773) 535-1590</td>\n",
              "      <td>http://schoolreports.cps.edu/SchoolProgressRep...</td>\n",
              "      <td>Southwest Side High School Network</td>\n",
              "      <td>SOUTHWEST SIDE COLLABORATIVE</td>\n",
              "      <td>NDA</td>\n",
              "      <td>Standard</td>\n",
              "      <td>Not on Probation</td>\n",
              "      <td>Not Enough Data</td>\n",
              "      <td>Yes</td>\n",
              "      <td>Average</td>\n",
              "      <td>49.0</td>\n",
              "      <td>Strong</td>\n",
              "      <td>60</td>\n",
              "      <td>Strong</td>\n",
              "      <td>60.0</td>\n",
              "      <td>Average</td>\n",
              "      <td>55.0</td>\n",
              "      <td>Average</td>\n",
              "      <td>45</td>\n",
              "      <td>Average</td>\n",
              "      <td>54</td>\n",
              "      <td>Average</td>\n",
              "      <td>53</td>\n",
              "      <td>Average</td>\n",
              "      <td>49</td>\n",
              "      <td>93.30%</td>\n",
              "      <td>15.6</td>\n",
              "      <td>96.90%</td>\n",
              "      <td>100.00%</td>\n",
              "      <td>NDA</td>\n",
              "      <td>NDA</td>\n",
              "      <td>NDA</td>\n",
              "      <td>NDA</td>\n",
              "      <td>NDA</td>\n",
              "      <td>NDA</td>\n",
              "      <td>NDA</td>\n",
              "      <td>NDA</td>\n",
              "      <td>NDA</td>\n",
              "      <td>NDA</td>\n",
              "      <td>NDA</td>\n",
              "      <td>NDA</td>\n",
              "      <td>NaN</td>\n",
              "      <td>NaN</td>\n",
              "      <td>NaN</td>\n",
              "      <td>NaN</td>\n",
              "      <td>NDA</td>\n",
              "      <td>NDA</td>\n",
              "      <td>NDA</td>\n",
              "      <td>NDA</td>\n",
              "      <td>14.6</td>\n",
              "      <td>14.8</td>\n",
              "      <td>NDA</td>\n",
              "      <td>16</td>\n",
              "      <td>1.4</td>\n",
              "      <td>NDA</td>\n",
              "      <td>NDA</td>\n",
              "      <td>NDA</td>\n",
              "      <td>NDA</td>\n",
              "      <td>NDA</td>\n",
              "      <td>302</td>\n",
              "      <td>40</td>\n",
              "      <td>91.8</td>\n",
              "      <td>1175177.622</td>\n",
              "      <td>1880745.126</td>\n",
              "      <td>41.828146</td>\n",
              "      <td>-87.632794</td>\n",
              "      <td>34</td>\n",
              "      <td>ARMOUR SQUARE</td>\n",
              "      <td>11</td>\n",
              "      <td>9</td>\n",
              "      <td>(41.82814609, -87.63279369)</td>\n",
              "    </tr>\n",
              "  </tbody>\n",
              "</table>\n",
              "</div>"
            ],
            "text/plain": [
              "   School ID  ...                     Location\n",
              "0     610038  ...  (41.92449696, -87.64452163)\n",
              "1     610281  ...  (41.76032435, -87.55673627)\n",
              "2     610185  ...  (41.74711093, -87.73170248)\n",
              "3     609993  ...    (41.8097569, -87.6721446)\n",
              "4     610513  ...  (41.82814609, -87.63279369)\n",
              "\n",
              "[5 rows x 78 columns]"
            ]
          },
          "metadata": {},
          "execution_count": 3
        }
      ]
    },
    {
      "cell_type": "code",
      "metadata": {
        "colab": {
          "base_uri": "https://localhost:8080/"
        },
        "id": "Z0wKP6gQ0-t7",
        "outputId": "dfdf130a-499a-4672-ed65-d4b653cc66e4"
      },
      "source": [
        "chicago_df.shape"
      ],
      "execution_count": 4,
      "outputs": [
        {
          "output_type": "execute_result",
          "data": {
            "text/plain": [
              "(566, 78)"
            ]
          },
          "metadata": {},
          "execution_count": 4
        }
      ]
    },
    {
      "cell_type": "code",
      "metadata": {
        "colab": {
          "base_uri": "https://localhost:8080/"
        },
        "id": "YKQLVnAm0L1N",
        "outputId": "6990dd90-f278-481b-8cf3-3b11eab01757"
      },
      "source": [
        "ColNames=chicago_df.columns.values\n",
        "print(ColNames)"
      ],
      "execution_count": 5,
      "outputs": [
        {
          "output_type": "stream",
          "name": "stdout",
          "text": [
            "['School ID' 'NAME_OF_SCHOOL' 'Elementary, Middle, or High School'\n",
            " 'Street Address' 'City' 'State' 'ZIP Code' 'Phone Number' 'Link '\n",
            " 'Network Manager' 'Collaborative Name' 'Adequate Yearly Progress Made? '\n",
            " 'Track Schedule' 'CPS Performance Policy Status'\n",
            " 'CPS Performance Policy Level' 'HEALTHY_SCHOOL_CERTIFIED' 'Safety Icon '\n",
            " 'SAFETY_SCORE' 'Family Involvement Icon' 'Family Involvement Score'\n",
            " 'Environment Icon ' 'Environment Score' 'Instruction Icon '\n",
            " 'Instruction Score' 'Leaders Icon ' 'Leaders Score ' 'Teachers Icon '\n",
            " 'Teachers Score' 'Parent Engagement Icon ' 'Parent Engagement Score'\n",
            " 'Parent Environment Icon' 'Parent Environment Score'\n",
            " 'AVERAGE_STUDENT_ATTENDANCE' 'Rate of Misconducts (per 100 students) '\n",
            " 'Average Teacher Attendance'\n",
            " 'Individualized Education Program Compliance Rate ' 'Pk-2 Literacy %'\n",
            " 'Pk-2 Math %' 'Gr3-5 Grade Level Math %' 'Gr3-5 Grade Level Read % '\n",
            " 'Gr3-5 Keep Pace Read %' 'Gr3-5 Keep Pace Math %'\n",
            " 'Gr6-8 Grade Level Math %' 'Gr6-8 Grade Level Read %'\n",
            " 'Gr6-8 Keep Pace Math%' 'Gr6-8 Keep Pace Read %' 'Gr-8 Explore Math %'\n",
            " 'Gr-8 Explore Read %' 'ISAT Exceeding Math %' 'ISAT Exceeding Reading % '\n",
            " 'ISAT Value Add Math' 'ISAT Value Add Read' 'ISAT Value Add Color Math'\n",
            " 'ISAT Value Add Color Read' 'Students Taking  Algebra %'\n",
            " 'Students Passing  Algebra %' '9th Grade EXPLORE (2009) '\n",
            " '9th Grade EXPLORE (2010) ' '10th Grade PLAN (2009) '\n",
            " '10th Grade PLAN (2010) ' 'Net Change EXPLORE and PLAN'\n",
            " '11th Grade Average ACT (2011) ' 'Net Change PLAN and ACT'\n",
            " 'College Eligibility %' 'Graduation Rate %' 'College Enrollment Rate %'\n",
            " 'COLLEGE_ENROLLMENT' 'General Services Route ' 'Freshman on Track Rate %'\n",
            " 'X_COORDINATE' 'Y_COORDINATE' 'Latitude' 'Longitude'\n",
            " 'COMMUNITY_AREA_NUMBER' 'COMMUNITY_AREA_NAME' 'Ward' 'Police District'\n",
            " 'Location']\n"
          ]
        }
      ]
    },
    {
      "cell_type": "code",
      "metadata": {
        "colab": {
          "base_uri": "https://localhost:8080/",
          "height": 152
        },
        "id": "SET3MBs7mASF",
        "outputId": "dea849ac-0da8-4580-9115-b5545ae926d4"
      },
      "source": [
        "chicago_df.head(0)"
      ],
      "execution_count": 6,
      "outputs": [
        {
          "output_type": "execute_result",
          "data": {
            "text/html": [
              "<div>\n",
              "<style scoped>\n",
              "    .dataframe tbody tr th:only-of-type {\n",
              "        vertical-align: middle;\n",
              "    }\n",
              "\n",
              "    .dataframe tbody tr th {\n",
              "        vertical-align: top;\n",
              "    }\n",
              "\n",
              "    .dataframe thead th {\n",
              "        text-align: right;\n",
              "    }\n",
              "</style>\n",
              "<table border=\"1\" class=\"dataframe\">\n",
              "  <thead>\n",
              "    <tr style=\"text-align: right;\">\n",
              "      <th></th>\n",
              "      <th>School ID</th>\n",
              "      <th>NAME_OF_SCHOOL</th>\n",
              "      <th>Elementary, Middle, or High School</th>\n",
              "      <th>Street Address</th>\n",
              "      <th>City</th>\n",
              "      <th>State</th>\n",
              "      <th>ZIP Code</th>\n",
              "      <th>Phone Number</th>\n",
              "      <th>Link</th>\n",
              "      <th>Network Manager</th>\n",
              "      <th>Collaborative Name</th>\n",
              "      <th>Adequate Yearly Progress Made?</th>\n",
              "      <th>Track Schedule</th>\n",
              "      <th>CPS Performance Policy Status</th>\n",
              "      <th>CPS Performance Policy Level</th>\n",
              "      <th>HEALTHY_SCHOOL_CERTIFIED</th>\n",
              "      <th>Safety Icon</th>\n",
              "      <th>SAFETY_SCORE</th>\n",
              "      <th>Family Involvement Icon</th>\n",
              "      <th>Family Involvement Score</th>\n",
              "      <th>Environment Icon</th>\n",
              "      <th>Environment Score</th>\n",
              "      <th>Instruction Icon</th>\n",
              "      <th>Instruction Score</th>\n",
              "      <th>Leaders Icon</th>\n",
              "      <th>Leaders Score</th>\n",
              "      <th>Teachers Icon</th>\n",
              "      <th>Teachers Score</th>\n",
              "      <th>Parent Engagement Icon</th>\n",
              "      <th>Parent Engagement Score</th>\n",
              "      <th>Parent Environment Icon</th>\n",
              "      <th>Parent Environment Score</th>\n",
              "      <th>AVERAGE_STUDENT_ATTENDANCE</th>\n",
              "      <th>Rate of Misconducts (per 100 students)</th>\n",
              "      <th>Average Teacher Attendance</th>\n",
              "      <th>Individualized Education Program Compliance Rate</th>\n",
              "      <th>Pk-2 Literacy %</th>\n",
              "      <th>Pk-2 Math %</th>\n",
              "      <th>Gr3-5 Grade Level Math %</th>\n",
              "      <th>Gr3-5 Grade Level Read %</th>\n",
              "      <th>Gr3-5 Keep Pace Read %</th>\n",
              "      <th>Gr3-5 Keep Pace Math %</th>\n",
              "      <th>Gr6-8 Grade Level Math %</th>\n",
              "      <th>Gr6-8 Grade Level Read %</th>\n",
              "      <th>Gr6-8 Keep Pace Math%</th>\n",
              "      <th>Gr6-8 Keep Pace Read %</th>\n",
              "      <th>Gr-8 Explore Math %</th>\n",
              "      <th>Gr-8 Explore Read %</th>\n",
              "      <th>ISAT Exceeding Math %</th>\n",
              "      <th>ISAT Exceeding Reading %</th>\n",
              "      <th>ISAT Value Add Math</th>\n",
              "      <th>ISAT Value Add Read</th>\n",
              "      <th>ISAT Value Add Color Math</th>\n",
              "      <th>ISAT Value Add Color Read</th>\n",
              "      <th>Students Taking  Algebra %</th>\n",
              "      <th>Students Passing  Algebra %</th>\n",
              "      <th>9th Grade EXPLORE (2009)</th>\n",
              "      <th>9th Grade EXPLORE (2010)</th>\n",
              "      <th>10th Grade PLAN (2009)</th>\n",
              "      <th>10th Grade PLAN (2010)</th>\n",
              "      <th>Net Change EXPLORE and PLAN</th>\n",
              "      <th>11th Grade Average ACT (2011)</th>\n",
              "      <th>Net Change PLAN and ACT</th>\n",
              "      <th>College Eligibility %</th>\n",
              "      <th>Graduation Rate %</th>\n",
              "      <th>College Enrollment Rate %</th>\n",
              "      <th>COLLEGE_ENROLLMENT</th>\n",
              "      <th>General Services Route</th>\n",
              "      <th>Freshman on Track Rate %</th>\n",
              "      <th>X_COORDINATE</th>\n",
              "      <th>Y_COORDINATE</th>\n",
              "      <th>Latitude</th>\n",
              "      <th>Longitude</th>\n",
              "      <th>COMMUNITY_AREA_NUMBER</th>\n",
              "      <th>COMMUNITY_AREA_NAME</th>\n",
              "      <th>Ward</th>\n",
              "      <th>Police District</th>\n",
              "      <th>Location</th>\n",
              "    </tr>\n",
              "  </thead>\n",
              "  <tbody>\n",
              "  </tbody>\n",
              "</table>\n",
              "</div>"
            ],
            "text/plain": [
              "Empty DataFrame\n",
              "Columns: [School ID, NAME_OF_SCHOOL, Elementary, Middle, or High School, Street Address, City, State, ZIP Code, Phone Number, Link , Network Manager, Collaborative Name, Adequate Yearly Progress Made? , Track Schedule, CPS Performance Policy Status, CPS Performance Policy Level, HEALTHY_SCHOOL_CERTIFIED, Safety Icon , SAFETY_SCORE, Family Involvement Icon, Family Involvement Score, Environment Icon , Environment Score, Instruction Icon , Instruction Score, Leaders Icon , Leaders Score , Teachers Icon , Teachers Score, Parent Engagement Icon , Parent Engagement Score, Parent Environment Icon, Parent Environment Score, AVERAGE_STUDENT_ATTENDANCE, Rate of Misconducts (per 100 students) , Average Teacher Attendance, Individualized Education Program Compliance Rate , Pk-2 Literacy %, Pk-2 Math %, Gr3-5 Grade Level Math %, Gr3-5 Grade Level Read % , Gr3-5 Keep Pace Read %, Gr3-5 Keep Pace Math %, Gr6-8 Grade Level Math %, Gr6-8 Grade Level Read %, Gr6-8 Keep Pace Math%, Gr6-8 Keep Pace Read %, Gr-8 Explore Math %, Gr-8 Explore Read %, ISAT Exceeding Math %, ISAT Exceeding Reading % , ISAT Value Add Math, ISAT Value Add Read, ISAT Value Add Color Math, ISAT Value Add Color Read, Students Taking  Algebra %, Students Passing  Algebra %, 9th Grade EXPLORE (2009) , 9th Grade EXPLORE (2010) , 10th Grade PLAN (2009) , 10th Grade PLAN (2010) , Net Change EXPLORE and PLAN, 11th Grade Average ACT (2011) , Net Change PLAN and ACT, College Eligibility %, Graduation Rate %, College Enrollment Rate %, COLLEGE_ENROLLMENT, General Services Route , Freshman on Track Rate %, X_COORDINATE, Y_COORDINATE, Latitude, Longitude, COMMUNITY_AREA_NUMBER, COMMUNITY_AREA_NAME, Ward, Police District, Location]\n",
              "Index: []"
            ]
          },
          "metadata": {},
          "execution_count": 6
        }
      ]
    },
    {
      "cell_type": "code",
      "metadata": {
        "colab": {
          "base_uri": "https://localhost:8080/"
        },
        "id": "hiP6mLI6lyaA",
        "outputId": "2c2a6217-d24e-4f05-ecb6-b257177b0a62"
      },
      "source": [
        "chicago_df.info()"
      ],
      "execution_count": 7,
      "outputs": [
        {
          "output_type": "stream",
          "name": "stdout",
          "text": [
            "<class 'pandas.core.frame.DataFrame'>\n",
            "RangeIndex: 566 entries, 0 to 565\n",
            "Data columns (total 78 columns):\n",
            " #   Column                                             Non-Null Count  Dtype  \n",
            "---  ------                                             --------------  -----  \n",
            " 0   School ID                                          566 non-null    int64  \n",
            " 1   NAME_OF_SCHOOL                                     566 non-null    object \n",
            " 2   Elementary, Middle, or High School                 566 non-null    object \n",
            " 3   Street Address                                     566 non-null    object \n",
            " 4   City                                               566 non-null    object \n",
            " 5   State                                              566 non-null    object \n",
            " 6   ZIP Code                                           566 non-null    int64  \n",
            " 7   Phone Number                                       566 non-null    object \n",
            " 8   Link                                               565 non-null    object \n",
            " 9   Network Manager                                    566 non-null    object \n",
            " 10  Collaborative Name                                 566 non-null    object \n",
            " 11  Adequate Yearly Progress Made?                     566 non-null    object \n",
            " 12  Track Schedule                                     566 non-null    object \n",
            " 13  CPS Performance Policy Status                      566 non-null    object \n",
            " 14  CPS Performance Policy Level                       566 non-null    object \n",
            " 15  HEALTHY_SCHOOL_CERTIFIED                           566 non-null    object \n",
            " 16  Safety Icon                                        566 non-null    object \n",
            " 17  SAFETY_SCORE                                       513 non-null    float64\n",
            " 18  Family Involvement Icon                            566 non-null    object \n",
            " 19  Family Involvement Score                           566 non-null    object \n",
            " 20  Environment Icon                                   566 non-null    object \n",
            " 21  Environment Score                                  513 non-null    float64\n",
            " 22  Instruction Icon                                   566 non-null    object \n",
            " 23  Instruction Score                                  513 non-null    float64\n",
            " 24  Leaders Icon                                       566 non-null    object \n",
            " 25  Leaders Score                                      566 non-null    object \n",
            " 26  Teachers Icon                                      566 non-null    object \n",
            " 27  Teachers Score                                     566 non-null    object \n",
            " 28  Parent Engagement Icon                             566 non-null    object \n",
            " 29  Parent Engagement Score                            566 non-null    object \n",
            " 30  Parent Environment Icon                            566 non-null    object \n",
            " 31  Parent Environment Score                           566 non-null    object \n",
            " 32  AVERAGE_STUDENT_ATTENDANCE                         565 non-null    object \n",
            " 33  Rate of Misconducts (per 100 students)             566 non-null    float64\n",
            " 34  Average Teacher Attendance                         566 non-null    object \n",
            " 35  Individualized Education Program Compliance Rate   566 non-null    object \n",
            " 36  Pk-2 Literacy %                                    566 non-null    object \n",
            " 37  Pk-2 Math %                                        566 non-null    object \n",
            " 38  Gr3-5 Grade Level Math %                           566 non-null    object \n",
            " 39  Gr3-5 Grade Level Read %                           566 non-null    object \n",
            " 40  Gr3-5 Keep Pace Read %                             566 non-null    object \n",
            " 41  Gr3-5 Keep Pace Math %                             566 non-null    object \n",
            " 42  Gr6-8 Grade Level Math %                           566 non-null    object \n",
            " 43  Gr6-8 Grade Level Read %                           566 non-null    object \n",
            " 44  Gr6-8 Keep Pace Math%                              566 non-null    object \n",
            " 45  Gr6-8 Keep Pace Read %                             566 non-null    object \n",
            " 46  Gr-8 Explore Math %                                566 non-null    object \n",
            " 47  Gr-8 Explore Read %                                566 non-null    object \n",
            " 48  ISAT Exceeding Math %                              476 non-null    float64\n",
            " 49  ISAT Exceeding Reading %                           476 non-null    float64\n",
            " 50  ISAT Value Add Math                                468 non-null    float64\n",
            " 51  ISAT Value Add Read                                468 non-null    float64\n",
            " 52  ISAT Value Add Color Math                          566 non-null    object \n",
            " 53  ISAT Value Add Color Read                          566 non-null    object \n",
            " 54  Students Taking  Algebra %                         566 non-null    object \n",
            " 55  Students Passing  Algebra %                        566 non-null    object \n",
            " 56  9th Grade EXPLORE (2009)                           566 non-null    object \n",
            " 57  9th Grade EXPLORE (2010)                           566 non-null    object \n",
            " 58  10th Grade PLAN (2009)                             566 non-null    object \n",
            " 59  10th Grade PLAN (2010)                             566 non-null    object \n",
            " 60  Net Change EXPLORE and PLAN                        566 non-null    object \n",
            " 61  11th Grade Average ACT (2011)                      566 non-null    object \n",
            " 62  Net Change PLAN and ACT                            566 non-null    object \n",
            " 63  College Eligibility %                              566 non-null    object \n",
            " 64  Graduation Rate %                                  566 non-null    object \n",
            " 65  College Enrollment Rate %                          566 non-null    object \n",
            " 66  COLLEGE_ENROLLMENT                                 566 non-null    int64  \n",
            " 67  General Services Route                             566 non-null    int64  \n",
            " 68  Freshman on Track Rate %                           566 non-null    object \n",
            " 69  X_COORDINATE                                       566 non-null    float64\n",
            " 70  Y_COORDINATE                                       566 non-null    float64\n",
            " 71  Latitude                                           566 non-null    float64\n",
            " 72  Longitude                                          566 non-null    float64\n",
            " 73  COMMUNITY_AREA_NUMBER                              566 non-null    int64  \n",
            " 74  COMMUNITY_AREA_NAME                                566 non-null    object \n",
            " 75  Ward                                               566 non-null    int64  \n",
            " 76  Police District                                    566 non-null    int64  \n",
            " 77  Location                                           566 non-null    object \n",
            "dtypes: float64(12), int64(7), object(59)\n",
            "memory usage: 345.0+ KB\n"
          ]
        }
      ]
    },
    {
      "cell_type": "code",
      "metadata": {
        "colab": {
          "base_uri": "https://localhost:8080/"
        },
        "id": "sWEUNojN1BnI",
        "outputId": "900e4e6e-1c9d-41cd-ccfb-f71b31c136d1"
      },
      "source": [
        "chicago_df.isnull().sum()"
      ],
      "execution_count": 8,
      "outputs": [
        {
          "output_type": "execute_result",
          "data": {
            "text/plain": [
              "School ID                             0\n",
              "NAME_OF_SCHOOL                        0\n",
              "Elementary, Middle, or High School    0\n",
              "Street Address                        0\n",
              "City                                  0\n",
              "                                     ..\n",
              "COMMUNITY_AREA_NUMBER                 0\n",
              "COMMUNITY_AREA_NAME                   0\n",
              "Ward                                  0\n",
              "Police District                       0\n",
              "Location                              0\n",
              "Length: 78, dtype: int64"
            ]
          },
          "metadata": {},
          "execution_count": 8
        }
      ]
    },
    {
      "cell_type": "code",
      "metadata": {
        "colab": {
          "base_uri": "https://localhost:8080/",
          "height": 435
        },
        "id": "1ht_jY94IyIN",
        "outputId": "6ca60a86-bc49-4166-e114-7bad1da6feb2"
      },
      "source": [
        "chicago_df.drop(labels=['School ID' , 'City' ,'State' ,'Phone Number', 'Link ', 'Collaborative Name' , 'Adequate Yearly Progress Made? ' ,\n",
        " 'Track Schedule' , 'CPS Performance Policy Status',\n",
        " 'CPS Performance Policy Level' , 'HEALTHY_SCHOOL_CERTIFIED' , 'Safety Icon ', 'Family Involvement Icon' , 'Family Involvement Score' ,\n",
        " 'Environment Icon ' ,'Environment Score' , 'Instruction Icon ' ,'Leaders Icon ' ,'Leaders Score ', 'Teachers Icon ',\n",
        " 'Teachers Score' ,'Parent Engagement Icon ' ,'Parent Engagement Score',\n",
        " 'Parent Environment Icon' ,'Parent Environment Score', 'Rate of Misconducts (per 100 students) ',\n",
        " 'Average Teacher Attendance',\n",
        " 'Individualized Education Program Compliance Rate ', 'Pk-2 Literacy %',\n",
        " 'Pk-2 Math %', 'Gr3-5 Grade Level Math %', 'Gr3-5 Grade Level Read % ',\n",
        " 'Gr3-5 Keep Pace Read %' ,'Gr3-5 Keep Pace Math %',\n",
        " 'Gr6-8 Grade Level Math %' ,'Gr6-8 Grade Level Read %',\n",
        " 'Gr6-8 Keep Pace Math%', 'Gr6-8 Keep Pace Read %' ,'Gr-8 Explore Math %',\n",
        " 'Gr-8 Explore Read %', 'ISAT Exceeding Math %' ,'ISAT Exceeding Reading % ',\n",
        " 'ISAT Value Add Math', 'ISAT Value Add Read' ,'ISAT Value Add Color Math', 'ISAT Value Add Color Read', 'Students Taking  Algebra %',\n",
        " 'Students Passing  Algebra %' ,'9th Grade EXPLORE (2009) ',\n",
        " '9th Grade EXPLORE (2010) ', '10th Grade PLAN (2009) ',\n",
        " '10th Grade PLAN (2010) ' ,'Net Change EXPLORE and PLAN',\n",
        " '11th Grade Average ACT (2011) ', 'Net Change PLAN and ACT',\n",
        " 'College Eligibility %' ,'Graduation Rate %', 'College Enrollment Rate %', 'General Services Route ', 'Freshman on Track Rate %',\n",
        " 'X_COORDINATE', 'Y_COORDINATE' ,'Latitude' ,'Longitude', 'Ward' ,'Police District' ,\n",
        " 'Location'], inplace=True, axis=1)\n",
        "chicago_df.head()"
      ],
      "execution_count": 9,
      "outputs": [
        {
          "output_type": "execute_result",
          "data": {
            "text/html": [
              "<div>\n",
              "<style scoped>\n",
              "    .dataframe tbody tr th:only-of-type {\n",
              "        vertical-align: middle;\n",
              "    }\n",
              "\n",
              "    .dataframe tbody tr th {\n",
              "        vertical-align: top;\n",
              "    }\n",
              "\n",
              "    .dataframe thead th {\n",
              "        text-align: right;\n",
              "    }\n",
              "</style>\n",
              "<table border=\"1\" class=\"dataframe\">\n",
              "  <thead>\n",
              "    <tr style=\"text-align: right;\">\n",
              "      <th></th>\n",
              "      <th>NAME_OF_SCHOOL</th>\n",
              "      <th>Elementary, Middle, or High School</th>\n",
              "      <th>Street Address</th>\n",
              "      <th>ZIP Code</th>\n",
              "      <th>Network Manager</th>\n",
              "      <th>SAFETY_SCORE</th>\n",
              "      <th>Instruction Score</th>\n",
              "      <th>AVERAGE_STUDENT_ATTENDANCE</th>\n",
              "      <th>COLLEGE_ENROLLMENT</th>\n",
              "      <th>COMMUNITY_AREA_NUMBER</th>\n",
              "      <th>COMMUNITY_AREA_NAME</th>\n",
              "    </tr>\n",
              "  </thead>\n",
              "  <tbody>\n",
              "    <tr>\n",
              "      <th>0</th>\n",
              "      <td>Abraham Lincoln Elementary School</td>\n",
              "      <td>ES</td>\n",
              "      <td>615 W Kemper Pl</td>\n",
              "      <td>60614</td>\n",
              "      <td>Fullerton Elementary Network</td>\n",
              "      <td>99.0</td>\n",
              "      <td>66.0</td>\n",
              "      <td>96.00%</td>\n",
              "      <td>813</td>\n",
              "      <td>7</td>\n",
              "      <td>LINCOLN PARK</td>\n",
              "    </tr>\n",
              "    <tr>\n",
              "      <th>1</th>\n",
              "      <td>Adam Clayton Powell Paideia Community Academy ...</td>\n",
              "      <td>ES</td>\n",
              "      <td>7511 S South Shore Dr</td>\n",
              "      <td>60649</td>\n",
              "      <td>Skyway Elementary Network</td>\n",
              "      <td>54.0</td>\n",
              "      <td>84.0</td>\n",
              "      <td>95.60%</td>\n",
              "      <td>521</td>\n",
              "      <td>43</td>\n",
              "      <td>SOUTH SHORE</td>\n",
              "    </tr>\n",
              "    <tr>\n",
              "      <th>2</th>\n",
              "      <td>Adlai E Stevenson Elementary School</td>\n",
              "      <td>ES</td>\n",
              "      <td>8010 S Kostner Ave</td>\n",
              "      <td>60652</td>\n",
              "      <td>Midway Elementary Network</td>\n",
              "      <td>61.0</td>\n",
              "      <td>36.0</td>\n",
              "      <td>95.70%</td>\n",
              "      <td>1324</td>\n",
              "      <td>70</td>\n",
              "      <td>ASHBURN</td>\n",
              "    </tr>\n",
              "    <tr>\n",
              "      <th>3</th>\n",
              "      <td>Agustin Lara Elementary Academy</td>\n",
              "      <td>ES</td>\n",
              "      <td>4619 S Wolcott Ave</td>\n",
              "      <td>60609</td>\n",
              "      <td>Pershing Elementary Network</td>\n",
              "      <td>56.0</td>\n",
              "      <td>37.0</td>\n",
              "      <td>95.50%</td>\n",
              "      <td>556</td>\n",
              "      <td>61</td>\n",
              "      <td>NEW CITY</td>\n",
              "    </tr>\n",
              "    <tr>\n",
              "      <th>4</th>\n",
              "      <td>Air Force Academy High School</td>\n",
              "      <td>HS</td>\n",
              "      <td>3630 S Wells St</td>\n",
              "      <td>60609</td>\n",
              "      <td>Southwest Side High School Network</td>\n",
              "      <td>49.0</td>\n",
              "      <td>55.0</td>\n",
              "      <td>93.30%</td>\n",
              "      <td>302</td>\n",
              "      <td>34</td>\n",
              "      <td>ARMOUR SQUARE</td>\n",
              "    </tr>\n",
              "  </tbody>\n",
              "</table>\n",
              "</div>"
            ],
            "text/plain": [
              "                                      NAME_OF_SCHOOL  ... COMMUNITY_AREA_NAME\n",
              "0                  Abraham Lincoln Elementary School  ...        LINCOLN PARK\n",
              "1  Adam Clayton Powell Paideia Community Academy ...  ...         SOUTH SHORE\n",
              "2                Adlai E Stevenson Elementary School  ...             ASHBURN\n",
              "3                    Agustin Lara Elementary Academy  ...            NEW CITY\n",
              "4                      Air Force Academy High School  ...       ARMOUR SQUARE\n",
              "\n",
              "[5 rows x 11 columns]"
            ]
          },
          "metadata": {},
          "execution_count": 9
        }
      ]
    },
    {
      "cell_type": "code",
      "metadata": {
        "colab": {
          "base_uri": "https://localhost:8080/"
        },
        "id": "wJYffnU5Kq-u",
        "outputId": "4c3b41d9-1010-44de-d00a-62fc19209afe"
      },
      "source": [
        "chicago_df.info()"
      ],
      "execution_count": 10,
      "outputs": [
        {
          "output_type": "stream",
          "name": "stdout",
          "text": [
            "<class 'pandas.core.frame.DataFrame'>\n",
            "RangeIndex: 566 entries, 0 to 565\n",
            "Data columns (total 11 columns):\n",
            " #   Column                              Non-Null Count  Dtype  \n",
            "---  ------                              --------------  -----  \n",
            " 0   NAME_OF_SCHOOL                      566 non-null    object \n",
            " 1   Elementary, Middle, or High School  566 non-null    object \n",
            " 2   Street Address                      566 non-null    object \n",
            " 3   ZIP Code                            566 non-null    int64  \n",
            " 4   Network Manager                     566 non-null    object \n",
            " 5   SAFETY_SCORE                        513 non-null    float64\n",
            " 6   Instruction Score                   513 non-null    float64\n",
            " 7   AVERAGE_STUDENT_ATTENDANCE          565 non-null    object \n",
            " 8   COLLEGE_ENROLLMENT                  566 non-null    int64  \n",
            " 9   COMMUNITY_AREA_NUMBER               566 non-null    int64  \n",
            " 10  COMMUNITY_AREA_NAME                 566 non-null    object \n",
            "dtypes: float64(2), int64(3), object(6)\n",
            "memory usage: 48.8+ KB\n"
          ]
        }
      ]
    },
    {
      "cell_type": "markdown",
      "metadata": {
        "id": "jdbgscMPaPyj"
      },
      "source": [
        "MISSING VALUES\n",
        "\n",
        "There are missing values are in variables Safety Score which has 513 values and Intstruction Score which again has 513 values. These varaibles are first of all the data type these two vraibles are float, therefore suggesting they have numerical values in it. Secondly, the variable indicates a score in terms of safety and instruction. The most suitable method to replace is to replace the missing values by mean scores. \n",
        "\n",
        "\n",
        "The next varaible and the last one with missing value is Average Student Attendence. The name itself suggest average and there is one missing value as the total is 565. The data type first of all is object and here the variable itself showing as average student attendence, the best way to replace the missing value is to use mode. Mode means it replaces with the most repeptitive in terms of average student attendence which is best suitable in such situation."
      ]
    },
    {
      "cell_type": "code",
      "metadata": {
        "id": "M-OQg6VKPMvJ"
      },
      "source": [
        "chicago_df['SAFETY_SCORE'] = chicago_df['SAFETY_SCORE'].fillna(chicago_df['SAFETY_SCORE'].mean())\n",
        "chicago_df['Instruction Score'] = chicago_df['Instruction Score'].fillna(chicago_df['Instruction Score'].mean())\n",
        "\n",
        "chicago_df['AVERAGE_STUDENT_ATTENDANCE'] = chicago_df['AVERAGE_STUDENT_ATTENDANCE'].replace(np.nan, 0)\n",
        "chicago_df['AVERAGE_STUDENT_ATTENDANCE'] = chicago_df['AVERAGE_STUDENT_ATTENDANCE'].fillna(chicago_df['AVERAGE_STUDENT_ATTENDANCE'].mode)\n",
        "\n",
        "\n"
      ],
      "execution_count": 11,
      "outputs": []
    },
    {
      "cell_type": "code",
      "metadata": {
        "colab": {
          "base_uri": "https://localhost:8080/"
        },
        "id": "2s9n3BAgMnaL",
        "outputId": "1548d0b3-29b2-44ed-cfaf-5a9068ac3ee6"
      },
      "source": [
        "chicago_df.info()"
      ],
      "execution_count": 12,
      "outputs": [
        {
          "output_type": "stream",
          "name": "stdout",
          "text": [
            "<class 'pandas.core.frame.DataFrame'>\n",
            "RangeIndex: 566 entries, 0 to 565\n",
            "Data columns (total 11 columns):\n",
            " #   Column                              Non-Null Count  Dtype  \n",
            "---  ------                              --------------  -----  \n",
            " 0   NAME_OF_SCHOOL                      566 non-null    object \n",
            " 1   Elementary, Middle, or High School  566 non-null    object \n",
            " 2   Street Address                      566 non-null    object \n",
            " 3   ZIP Code                            566 non-null    int64  \n",
            " 4   Network Manager                     566 non-null    object \n",
            " 5   SAFETY_SCORE                        566 non-null    float64\n",
            " 6   Instruction Score                   566 non-null    float64\n",
            " 7   AVERAGE_STUDENT_ATTENDANCE          566 non-null    object \n",
            " 8   COLLEGE_ENROLLMENT                  566 non-null    int64  \n",
            " 9   COMMUNITY_AREA_NUMBER               566 non-null    int64  \n",
            " 10  COMMUNITY_AREA_NAME                 566 non-null    object \n",
            "dtypes: float64(2), int64(3), object(6)\n",
            "memory usage: 48.8+ KB\n"
          ]
        }
      ]
    },
    {
      "cell_type": "code",
      "metadata": {
        "id": "SZCgiV6fJo2g",
        "colab": {
          "resources": {
            "http://localhost:8080/nbextensions/google.colab/files.js": {
              "data": "Ly8gQ29weXJpZ2h0IDIwMTcgR29vZ2xlIExMQwovLwovLyBMaWNlbnNlZCB1bmRlciB0aGUgQXBhY2hlIExpY2Vuc2UsIFZlcnNpb24gMi4wICh0aGUgIkxpY2Vuc2UiKTsKLy8geW91IG1heSBub3QgdXNlIHRoaXMgZmlsZSBleGNlcHQgaW4gY29tcGxpYW5jZSB3aXRoIHRoZSBMaWNlbnNlLgovLyBZb3UgbWF5IG9idGFpbiBhIGNvcHkgb2YgdGhlIExpY2Vuc2UgYXQKLy8KLy8gICAgICBodHRwOi8vd3d3LmFwYWNoZS5vcmcvbGljZW5zZXMvTElDRU5TRS0yLjAKLy8KLy8gVW5sZXNzIHJlcXVpcmVkIGJ5IGFwcGxpY2FibGUgbGF3IG9yIGFncmVlZCB0byBpbiB3cml0aW5nLCBzb2Z0d2FyZQovLyBkaXN0cmlidXRlZCB1bmRlciB0aGUgTGljZW5zZSBpcyBkaXN0cmlidXRlZCBvbiBhbiAiQVMgSVMiIEJBU0lTLAovLyBXSVRIT1VUIFdBUlJBTlRJRVMgT1IgQ09ORElUSU9OUyBPRiBBTlkgS0lORCwgZWl0aGVyIGV4cHJlc3Mgb3IgaW1wbGllZC4KLy8gU2VlIHRoZSBMaWNlbnNlIGZvciB0aGUgc3BlY2lmaWMgbGFuZ3VhZ2UgZ292ZXJuaW5nIHBlcm1pc3Npb25zIGFuZAovLyBsaW1pdGF0aW9ucyB1bmRlciB0aGUgTGljZW5zZS4KCi8qKgogKiBAZmlsZW92ZXJ2aWV3IEhlbHBlcnMgZm9yIGdvb2dsZS5jb2xhYiBQeXRob24gbW9kdWxlLgogKi8KKGZ1bmN0aW9uKHNjb3BlKSB7CmZ1bmN0aW9uIHNwYW4odGV4dCwgc3R5bGVBdHRyaWJ1dGVzID0ge30pIHsKICBjb25zdCBlbGVtZW50ID0gZG9jdW1lbnQuY3JlYXRlRWxlbWVudCgnc3BhbicpOwogIGVsZW1lbnQudGV4dENvbnRlbnQgPSB0ZXh0OwogIGZvciAoY29uc3Qga2V5IG9mIE9iamVjdC5rZXlzKHN0eWxlQXR0cmlidXRlcykpIHsKICAgIGVsZW1lbnQuc3R5bGVba2V5XSA9IHN0eWxlQXR0cmlidXRlc1trZXldOwogIH0KICByZXR1cm4gZWxlbWVudDsKfQoKLy8gTWF4IG51bWJlciBvZiBieXRlcyB3aGljaCB3aWxsIGJlIHVwbG9hZGVkIGF0IGEgdGltZS4KY29uc3QgTUFYX1BBWUxPQURfU0laRSA9IDEwMCAqIDEwMjQ7CgpmdW5jdGlvbiBfdXBsb2FkRmlsZXMoaW5wdXRJZCwgb3V0cHV0SWQpIHsKICBjb25zdCBzdGVwcyA9IHVwbG9hZEZpbGVzU3RlcChpbnB1dElkLCBvdXRwdXRJZCk7CiAgY29uc3Qgb3V0cHV0RWxlbWVudCA9IGRvY3VtZW50LmdldEVsZW1lbnRCeUlkKG91dHB1dElkKTsKICAvLyBDYWNoZSBzdGVwcyBvbiB0aGUgb3V0cHV0RWxlbWVudCB0byBtYWtlIGl0IGF2YWlsYWJsZSBmb3IgdGhlIG5leHQgY2FsbAogIC8vIHRvIHVwbG9hZEZpbGVzQ29udGludWUgZnJvbSBQeXRob24uCiAgb3V0cHV0RWxlbWVudC5zdGVwcyA9IHN0ZXBzOwoKICByZXR1cm4gX3VwbG9hZEZpbGVzQ29udGludWUob3V0cHV0SWQpOwp9CgovLyBUaGlzIGlzIHJvdWdobHkgYW4gYXN5bmMgZ2VuZXJhdG9yIChub3Qgc3VwcG9ydGVkIGluIHRoZSBicm93c2VyIHlldCksCi8vIHdoZXJlIHRoZXJlIGFyZSBtdWx0aXBsZSBhc3luY2hyb25vdXMgc3RlcHMgYW5kIHRoZSBQeXRob24gc2lkZSBpcyBnb2luZwovLyB0byBwb2xsIGZvciBjb21wbGV0aW9uIG9mIGVhY2ggc3RlcC4KLy8gVGhpcyB1c2VzIGEgUHJvbWlzZSB0byBibG9jayB0aGUgcHl0aG9uIHNpZGUgb24gY29tcGxldGlvbiBvZiBlYWNoIHN0ZXAsCi8vIHRoZW4gcGFzc2VzIHRoZSByZXN1bHQgb2YgdGhlIHByZXZpb3VzIHN0ZXAgYXMgdGhlIGlucHV0IHRvIHRoZSBuZXh0IHN0ZXAuCmZ1bmN0aW9uIF91cGxvYWRGaWxlc0NvbnRpbnVlKG91dHB1dElkKSB7CiAgY29uc3Qgb3V0cHV0RWxlbWVudCA9IGRvY3VtZW50LmdldEVsZW1lbnRCeUlkKG91dHB1dElkKTsKICBjb25zdCBzdGVwcyA9IG91dHB1dEVsZW1lbnQuc3RlcHM7CgogIGNvbnN0IG5leHQgPSBzdGVwcy5uZXh0KG91dHB1dEVsZW1lbnQubGFzdFByb21pc2VWYWx1ZSk7CiAgcmV0dXJuIFByb21pc2UucmVzb2x2ZShuZXh0LnZhbHVlLnByb21pc2UpLnRoZW4oKHZhbHVlKSA9PiB7CiAgICAvLyBDYWNoZSB0aGUgbGFzdCBwcm9taXNlIHZhbHVlIHRvIG1ha2UgaXQgYXZhaWxhYmxlIHRvIHRoZSBuZXh0CiAgICAvLyBzdGVwIG9mIHRoZSBnZW5lcmF0b3IuCiAgICBvdXRwdXRFbGVtZW50Lmxhc3RQcm9taXNlVmFsdWUgPSB2YWx1ZTsKICAgIHJldHVybiBuZXh0LnZhbHVlLnJlc3BvbnNlOwogIH0pOwp9CgovKioKICogR2VuZXJhdG9yIGZ1bmN0aW9uIHdoaWNoIGlzIGNhbGxlZCBiZXR3ZWVuIGVhY2ggYXN5bmMgc3RlcCBvZiB0aGUgdXBsb2FkCiAqIHByb2Nlc3MuCiAqIEBwYXJhbSB7c3RyaW5nfSBpbnB1dElkIEVsZW1lbnQgSUQgb2YgdGhlIGlucHV0IGZpbGUgcGlja2VyIGVsZW1lbnQuCiAqIEBwYXJhbSB7c3RyaW5nfSBvdXRwdXRJZCBFbGVtZW50IElEIG9mIHRoZSBvdXRwdXQgZGlzcGxheS4KICogQHJldHVybiB7IUl0ZXJhYmxlPCFPYmplY3Q+fSBJdGVyYWJsZSBvZiBuZXh0IHN0ZXBzLgogKi8KZnVuY3Rpb24qIHVwbG9hZEZpbGVzU3RlcChpbnB1dElkLCBvdXRwdXRJZCkgewogIGNvbnN0IGlucHV0RWxlbWVudCA9IGRvY3VtZW50LmdldEVsZW1lbnRCeUlkKGlucHV0SWQpOwogIGlucHV0RWxlbWVudC5kaXNhYmxlZCA9IGZhbHNlOwoKICBjb25zdCBvdXRwdXRFbGVtZW50ID0gZG9jdW1lbnQuZ2V0RWxlbWVudEJ5SWQob3V0cHV0SWQpOwogIG91dHB1dEVsZW1lbnQuaW5uZXJIVE1MID0gJyc7CgogIGNvbnN0IHBpY2tlZFByb21pc2UgPSBuZXcgUHJvbWlzZSgocmVzb2x2ZSkgPT4gewogICAgaW5wdXRFbGVtZW50LmFkZEV2ZW50TGlzdGVuZXIoJ2NoYW5nZScsIChlKSA9PiB7CiAgICAgIHJlc29sdmUoZS50YXJnZXQuZmlsZXMpOwogICAgfSk7CiAgfSk7CgogIGNvbnN0IGNhbmNlbCA9IGRvY3VtZW50LmNyZWF0ZUVsZW1lbnQoJ2J1dHRvbicpOwogIGlucHV0RWxlbWVudC5wYXJlbnRFbGVtZW50LmFwcGVuZENoaWxkKGNhbmNlbCk7CiAgY2FuY2VsLnRleHRDb250ZW50ID0gJ0NhbmNlbCB1cGxvYWQnOwogIGNvbnN0IGNhbmNlbFByb21pc2UgPSBuZXcgUHJvbWlzZSgocmVzb2x2ZSkgPT4gewogICAgY2FuY2VsLm9uY2xpY2sgPSAoKSA9PiB7CiAgICAgIHJlc29sdmUobnVsbCk7CiAgICB9OwogIH0pOwoKICAvLyBXYWl0IGZvciB0aGUgdXNlciB0byBwaWNrIHRoZSBmaWxlcy4KICBjb25zdCBmaWxlcyA9IHlpZWxkIHsKICAgIHByb21pc2U6IFByb21pc2UucmFjZShbcGlja2VkUHJvbWlzZSwgY2FuY2VsUHJvbWlzZV0pLAogICAgcmVzcG9uc2U6IHsKICAgICAgYWN0aW9uOiAnc3RhcnRpbmcnLAogICAgfQogIH07CgogIGNhbmNlbC5yZW1vdmUoKTsKCiAgLy8gRGlzYWJsZSB0aGUgaW5wdXQgZWxlbWVudCBzaW5jZSBmdXJ0aGVyIHBpY2tzIGFyZSBub3QgYWxsb3dlZC4KICBpbnB1dEVsZW1lbnQuZGlzYWJsZWQgPSB0cnVlOwoKICBpZiAoIWZpbGVzKSB7CiAgICByZXR1cm4gewogICAgICByZXNwb25zZTogewogICAgICAgIGFjdGlvbjogJ2NvbXBsZXRlJywKICAgICAgfQogICAgfTsKICB9CgogIGZvciAoY29uc3QgZmlsZSBvZiBmaWxlcykgewogICAgY29uc3QgbGkgPSBkb2N1bWVudC5jcmVhdGVFbGVtZW50KCdsaScpOwogICAgbGkuYXBwZW5kKHNwYW4oZmlsZS5uYW1lLCB7Zm9udFdlaWdodDogJ2JvbGQnfSkpOwogICAgbGkuYXBwZW5kKHNwYW4oCiAgICAgICAgYCgke2ZpbGUudHlwZSB8fCAnbi9hJ30pIC0gJHtmaWxlLnNpemV9IGJ5dGVzLCBgICsKICAgICAgICBgbGFzdCBtb2RpZmllZDogJHsKICAgICAgICAgICAgZmlsZS5sYXN0TW9kaWZpZWREYXRlID8gZmlsZS5sYXN0TW9kaWZpZWREYXRlLnRvTG9jYWxlRGF0ZVN0cmluZygpIDoKICAgICAgICAgICAgICAgICAgICAgICAgICAgICAgICAgICAgJ24vYSd9IC0gYCkpOwogICAgY29uc3QgcGVyY2VudCA9IHNwYW4oJzAlIGRvbmUnKTsKICAgIGxpLmFwcGVuZENoaWxkKHBlcmNlbnQpOwoKICAgIG91dHB1dEVsZW1lbnQuYXBwZW5kQ2hpbGQobGkpOwoKICAgIGNvbnN0IGZpbGVEYXRhUHJvbWlzZSA9IG5ldyBQcm9taXNlKChyZXNvbHZlKSA9PiB7CiAgICAgIGNvbnN0IHJlYWRlciA9IG5ldyBGaWxlUmVhZGVyKCk7CiAgICAgIHJlYWRlci5vbmxvYWQgPSAoZSkgPT4gewogICAgICAgIHJlc29sdmUoZS50YXJnZXQucmVzdWx0KTsKICAgICAgfTsKICAgICAgcmVhZGVyLnJlYWRBc0FycmF5QnVmZmVyKGZpbGUpOwogICAgfSk7CiAgICAvLyBXYWl0IGZvciB0aGUgZGF0YSB0byBiZSByZWFkeS4KICAgIGxldCBmaWxlRGF0YSA9IHlpZWxkIHsKICAgICAgcHJvbWlzZTogZmlsZURhdGFQcm9taXNlLAogICAgICByZXNwb25zZTogewogICAgICAgIGFjdGlvbjogJ2NvbnRpbnVlJywKICAgICAgfQogICAgfTsKCiAgICAvLyBVc2UgYSBjaHVua2VkIHNlbmRpbmcgdG8gYXZvaWQgbWVzc2FnZSBzaXplIGxpbWl0cy4gU2VlIGIvNjIxMTU2NjAuCiAgICBsZXQgcG9zaXRpb24gPSAwOwogICAgZG8gewogICAgICBjb25zdCBsZW5ndGggPSBNYXRoLm1pbihmaWxlRGF0YS5ieXRlTGVuZ3RoIC0gcG9zaXRpb24sIE1BWF9QQVlMT0FEX1NJWkUpOwogICAgICBjb25zdCBjaHVuayA9IG5ldyBVaW50OEFycmF5KGZpbGVEYXRhLCBwb3NpdGlvbiwgbGVuZ3RoKTsKICAgICAgcG9zaXRpb24gKz0gbGVuZ3RoOwoKICAgICAgY29uc3QgYmFzZTY0ID0gYnRvYShTdHJpbmcuZnJvbUNoYXJDb2RlLmFwcGx5KG51bGwsIGNodW5rKSk7CiAgICAgIHlpZWxkIHsKICAgICAgICByZXNwb25zZTogewogICAgICAgICAgYWN0aW9uOiAnYXBwZW5kJywKICAgICAgICAgIGZpbGU6IGZpbGUubmFtZSwKICAgICAgICAgIGRhdGE6IGJhc2U2NCwKICAgICAgICB9LAogICAgICB9OwoKICAgICAgbGV0IHBlcmNlbnREb25lID0gZmlsZURhdGEuYnl0ZUxlbmd0aCA9PT0gMCA/CiAgICAgICAgICAxMDAgOgogICAgICAgICAgTWF0aC5yb3VuZCgocG9zaXRpb24gLyBmaWxlRGF0YS5ieXRlTGVuZ3RoKSAqIDEwMCk7CiAgICAgIHBlcmNlbnQudGV4dENvbnRlbnQgPSBgJHtwZXJjZW50RG9uZX0lIGRvbmVgOwoKICAgIH0gd2hpbGUgKHBvc2l0aW9uIDwgZmlsZURhdGEuYnl0ZUxlbmd0aCk7CiAgfQoKICAvLyBBbGwgZG9uZS4KICB5aWVsZCB7CiAgICByZXNwb25zZTogewogICAgICBhY3Rpb246ICdjb21wbGV0ZScsCiAgICB9CiAgfTsKfQoKc2NvcGUuZ29vZ2xlID0gc2NvcGUuZ29vZ2xlIHx8IHt9OwpzY29wZS5nb29nbGUuY29sYWIgPSBzY29wZS5nb29nbGUuY29sYWIgfHwge307CnNjb3BlLmdvb2dsZS5jb2xhYi5fZmlsZXMgPSB7CiAgX3VwbG9hZEZpbGVzLAogIF91cGxvYWRGaWxlc0NvbnRpbnVlLAp9Owp9KShzZWxmKTsK",
              "ok": true,
              "headers": [
                [
                  "content-type",
                  "application/javascript"
                ]
              ],
              "status": 200,
              "status_text": ""
            }
          },
          "base_uri": "https://localhost:8080/",
          "height": 73
        },
        "outputId": "4757d012-b415-44d5-e701-6a110d451c34"
      },
      "source": [
        "from google.colab import files\n",
        "uploaded = files.upload() "
      ],
      "execution_count": 13,
      "outputs": [
        {
          "output_type": "display_data",
          "data": {
            "text/html": [
              "\n",
              "     <input type=\"file\" id=\"files-2f5c8c8b-d3c4-4954-9d6d-e5c630df9bd2\" name=\"files[]\" multiple disabled\n",
              "        style=\"border:none\" />\n",
              "     <output id=\"result-2f5c8c8b-d3c4-4954-9d6d-e5c630df9bd2\">\n",
              "      Upload widget is only available when the cell has been executed in the\n",
              "      current browser session. Please rerun this cell to enable.\n",
              "      </output>\n",
              "      <script src=\"/nbextensions/google.colab/files.js\"></script> "
            ],
            "text/plain": [
              "<IPython.core.display.HTML object>"
            ]
          },
          "metadata": {}
        },
        {
          "output_type": "stream",
          "name": "stdout",
          "text": [
            "Saving Census_Data_-_Selected_socioeconomic_indicators_in_Chicago__2008___2012-v2.csv to Census_Data_-_Selected_socioeconomic_indicators_in_Chicago__2008___2012-v2.csv\n"
          ]
        }
      ]
    },
    {
      "cell_type": "code",
      "metadata": {
        "colab": {
          "base_uri": "https://localhost:8080/",
          "height": 235
        },
        "id": "GIuJzzZeUYPf",
        "outputId": "c063892e-052f-419e-a620-66eca793b79b"
      },
      "source": [
        "census_df = pd.read_csv('Census_Data_-_Selected_socioeconomic_indicators_in_Chicago__2008___2012-v2.csv')\n",
        "census_df.head()"
      ],
      "execution_count": 14,
      "outputs": [
        {
          "output_type": "execute_result",
          "data": {
            "text/html": [
              "<div>\n",
              "<style scoped>\n",
              "    .dataframe tbody tr th:only-of-type {\n",
              "        vertical-align: middle;\n",
              "    }\n",
              "\n",
              "    .dataframe tbody tr th {\n",
              "        vertical-align: top;\n",
              "    }\n",
              "\n",
              "    .dataframe thead th {\n",
              "        text-align: right;\n",
              "    }\n",
              "</style>\n",
              "<table border=\"1\" class=\"dataframe\">\n",
              "  <thead>\n",
              "    <tr style=\"text-align: right;\">\n",
              "      <th></th>\n",
              "      <th>COMMUNITY_AREA_NUMBER</th>\n",
              "      <th>COMMUNITY_AREA_NAME</th>\n",
              "      <th>PERCENT OF HOUSING CROWDED</th>\n",
              "      <th>PERCENT HOUSEHOLDS BELOW POVERTY</th>\n",
              "      <th>PERCENT AGED 16+ UNEMPLOYED</th>\n",
              "      <th>PERCENT AGED 25+ WITHOUT HIGH SCHOOL DIPLOMA</th>\n",
              "      <th>PERCENT AGED UNDER 18 OR OVER 64</th>\n",
              "      <th>PER_CAPITA_INCOME</th>\n",
              "      <th>HARDSHIP_INDEX</th>\n",
              "    </tr>\n",
              "  </thead>\n",
              "  <tbody>\n",
              "    <tr>\n",
              "      <th>0</th>\n",
              "      <td>1.0</td>\n",
              "      <td>Rogers Park</td>\n",
              "      <td>7.7</td>\n",
              "      <td>23.6</td>\n",
              "      <td>8.7</td>\n",
              "      <td>18.2</td>\n",
              "      <td>27.5</td>\n",
              "      <td>23939</td>\n",
              "      <td>39.0</td>\n",
              "    </tr>\n",
              "    <tr>\n",
              "      <th>1</th>\n",
              "      <td>2.0</td>\n",
              "      <td>West Ridge</td>\n",
              "      <td>7.8</td>\n",
              "      <td>17.2</td>\n",
              "      <td>8.8</td>\n",
              "      <td>20.8</td>\n",
              "      <td>38.5</td>\n",
              "      <td>23040</td>\n",
              "      <td>46.0</td>\n",
              "    </tr>\n",
              "    <tr>\n",
              "      <th>2</th>\n",
              "      <td>3.0</td>\n",
              "      <td>Uptown</td>\n",
              "      <td>3.8</td>\n",
              "      <td>24.0</td>\n",
              "      <td>8.9</td>\n",
              "      <td>11.8</td>\n",
              "      <td>22.2</td>\n",
              "      <td>35787</td>\n",
              "      <td>20.0</td>\n",
              "    </tr>\n",
              "    <tr>\n",
              "      <th>3</th>\n",
              "      <td>4.0</td>\n",
              "      <td>Lincoln Square</td>\n",
              "      <td>3.4</td>\n",
              "      <td>10.9</td>\n",
              "      <td>8.2</td>\n",
              "      <td>13.4</td>\n",
              "      <td>25.5</td>\n",
              "      <td>37524</td>\n",
              "      <td>17.0</td>\n",
              "    </tr>\n",
              "    <tr>\n",
              "      <th>4</th>\n",
              "      <td>5.0</td>\n",
              "      <td>North Center</td>\n",
              "      <td>0.3</td>\n",
              "      <td>7.5</td>\n",
              "      <td>5.2</td>\n",
              "      <td>4.5</td>\n",
              "      <td>26.2</td>\n",
              "      <td>57123</td>\n",
              "      <td>6.0</td>\n",
              "    </tr>\n",
              "  </tbody>\n",
              "</table>\n",
              "</div>"
            ],
            "text/plain": [
              "   COMMUNITY_AREA_NUMBER  ... HARDSHIP_INDEX\n",
              "0                    1.0  ...           39.0\n",
              "1                    2.0  ...           46.0\n",
              "2                    3.0  ...           20.0\n",
              "3                    4.0  ...           17.0\n",
              "4                    5.0  ...            6.0\n",
              "\n",
              "[5 rows x 9 columns]"
            ]
          },
          "metadata": {},
          "execution_count": 14
        }
      ]
    },
    {
      "cell_type": "code",
      "metadata": {
        "colab": {
          "base_uri": "https://localhost:8080/"
        },
        "id": "8t9VmyL5m0D_",
        "outputId": "62790acc-c811-4046-e255-d89130d90dfd"
      },
      "source": [
        "census_df.shape"
      ],
      "execution_count": 15,
      "outputs": [
        {
          "output_type": "execute_result",
          "data": {
            "text/plain": [
              "(78, 9)"
            ]
          },
          "metadata": {},
          "execution_count": 15
        }
      ]
    },
    {
      "cell_type": "code",
      "metadata": {
        "colab": {
          "base_uri": "https://localhost:8080/"
        },
        "id": "Sw2j9ZI07Z9B",
        "outputId": "d110a6f8-6904-4079-b2ff-8b67390cd128"
      },
      "source": [
        "ColNames=census_df.columns.values\n",
        "print(ColNames)"
      ],
      "execution_count": 16,
      "outputs": [
        {
          "output_type": "stream",
          "name": "stdout",
          "text": [
            "['COMMUNITY_AREA_NUMBER' 'COMMUNITY_AREA_NAME'\n",
            " 'PERCENT OF HOUSING CROWDED' 'PERCENT HOUSEHOLDS BELOW POVERTY'\n",
            " 'PERCENT AGED 16+ UNEMPLOYED'\n",
            " 'PERCENT AGED 25+ WITHOUT HIGH SCHOOL DIPLOMA'\n",
            " 'PERCENT AGED UNDER 18 OR OVER 64' 'PER_CAPITA_INCOME ' 'HARDSHIP_INDEX']\n"
          ]
        }
      ]
    },
    {
      "cell_type": "code",
      "metadata": {
        "colab": {
          "base_uri": "https://localhost:8080/",
          "height": 82
        },
        "id": "1w4afkbUpvzD",
        "outputId": "2c29d812-7498-460a-b786-7bafdfa9198c"
      },
      "source": [
        "census_df.head(0)"
      ],
      "execution_count": 17,
      "outputs": [
        {
          "output_type": "execute_result",
          "data": {
            "text/html": [
              "<div>\n",
              "<style scoped>\n",
              "    .dataframe tbody tr th:only-of-type {\n",
              "        vertical-align: middle;\n",
              "    }\n",
              "\n",
              "    .dataframe tbody tr th {\n",
              "        vertical-align: top;\n",
              "    }\n",
              "\n",
              "    .dataframe thead th {\n",
              "        text-align: right;\n",
              "    }\n",
              "</style>\n",
              "<table border=\"1\" class=\"dataframe\">\n",
              "  <thead>\n",
              "    <tr style=\"text-align: right;\">\n",
              "      <th></th>\n",
              "      <th>COMMUNITY_AREA_NUMBER</th>\n",
              "      <th>COMMUNITY_AREA_NAME</th>\n",
              "      <th>PERCENT OF HOUSING CROWDED</th>\n",
              "      <th>PERCENT HOUSEHOLDS BELOW POVERTY</th>\n",
              "      <th>PERCENT AGED 16+ UNEMPLOYED</th>\n",
              "      <th>PERCENT AGED 25+ WITHOUT HIGH SCHOOL DIPLOMA</th>\n",
              "      <th>PERCENT AGED UNDER 18 OR OVER 64</th>\n",
              "      <th>PER_CAPITA_INCOME</th>\n",
              "      <th>HARDSHIP_INDEX</th>\n",
              "    </tr>\n",
              "  </thead>\n",
              "  <tbody>\n",
              "  </tbody>\n",
              "</table>\n",
              "</div>"
            ],
            "text/plain": [
              "Empty DataFrame\n",
              "Columns: [COMMUNITY_AREA_NUMBER, COMMUNITY_AREA_NAME, PERCENT OF HOUSING CROWDED, PERCENT HOUSEHOLDS BELOW POVERTY, PERCENT AGED 16+ UNEMPLOYED, PERCENT AGED 25+ WITHOUT HIGH SCHOOL DIPLOMA, PERCENT AGED UNDER 18 OR OVER 64, PER_CAPITA_INCOME , HARDSHIP_INDEX]\n",
              "Index: []"
            ]
          },
          "metadata": {},
          "execution_count": 17
        }
      ]
    },
    {
      "cell_type": "code",
      "metadata": {
        "colab": {
          "base_uri": "https://localhost:8080/"
        },
        "id": "lk3b8rGpmgmn",
        "outputId": "dcbb6545-d97f-44aa-e54b-22f4f06c4759"
      },
      "source": [
        "census_df.info()"
      ],
      "execution_count": 18,
      "outputs": [
        {
          "output_type": "stream",
          "name": "stdout",
          "text": [
            "<class 'pandas.core.frame.DataFrame'>\n",
            "RangeIndex: 78 entries, 0 to 77\n",
            "Data columns (total 9 columns):\n",
            " #   Column                                        Non-Null Count  Dtype  \n",
            "---  ------                                        --------------  -----  \n",
            " 0   COMMUNITY_AREA_NUMBER                         77 non-null     float64\n",
            " 1   COMMUNITY_AREA_NAME                           78 non-null     object \n",
            " 2   PERCENT OF HOUSING CROWDED                    78 non-null     float64\n",
            " 3   PERCENT HOUSEHOLDS BELOW POVERTY              78 non-null     float64\n",
            " 4   PERCENT AGED 16+ UNEMPLOYED                   78 non-null     float64\n",
            " 5   PERCENT AGED 25+ WITHOUT HIGH SCHOOL DIPLOMA  78 non-null     float64\n",
            " 6   PERCENT AGED UNDER 18 OR OVER 64              78 non-null     float64\n",
            " 7   PER_CAPITA_INCOME                             78 non-null     int64  \n",
            " 8   HARDSHIP_INDEX                                77 non-null     float64\n",
            "dtypes: float64(7), int64(1), object(1)\n",
            "memory usage: 5.6+ KB\n"
          ]
        }
      ]
    },
    {
      "cell_type": "code",
      "metadata": {
        "colab": {
          "base_uri": "https://localhost:8080/"
        },
        "id": "ey7pR8cxmrH2",
        "outputId": "a4017982-739b-491e-aeaa-7a5e8f1f567f"
      },
      "source": [
        "census_df.isnull().sum()"
      ],
      "execution_count": 19,
      "outputs": [
        {
          "output_type": "execute_result",
          "data": {
            "text/plain": [
              "COMMUNITY_AREA_NUMBER                           1\n",
              "COMMUNITY_AREA_NAME                             0\n",
              "PERCENT OF HOUSING CROWDED                      0\n",
              "PERCENT HOUSEHOLDS BELOW POVERTY                0\n",
              "PERCENT AGED 16+ UNEMPLOYED                     0\n",
              "PERCENT AGED 25+ WITHOUT HIGH SCHOOL DIPLOMA    0\n",
              "PERCENT AGED UNDER 18 OR OVER 64                0\n",
              "PER_CAPITA_INCOME                               0\n",
              "HARDSHIP_INDEX                                  1\n",
              "dtype: int64"
            ]
          },
          "metadata": {},
          "execution_count": 19
        }
      ]
    },
    {
      "cell_type": "code",
      "metadata": {
        "id": "JwOBKhmqZmx_"
      },
      "source": [
        "census_df['COMMUNITY_AREA_NUMBER'] = census_df['COMMUNITY_AREA_NUMBER'].fillna(census_df['COMMUNITY_AREA_NUMBER'].mode)\n",
        "census_df['HARDSHIP_INDEX'] = census_df['HARDSHIP_INDEX'].fillna(census_df['HARDSHIP_INDEX'].mean())"
      ],
      "execution_count": 20,
      "outputs": []
    },
    {
      "cell_type": "code",
      "metadata": {
        "colab": {
          "base_uri": "https://localhost:8080/"
        },
        "id": "gPooKWjsZ_dZ",
        "outputId": "43308302-298a-4711-ae11-f2d1a88fc653"
      },
      "source": [
        "census_df.info()"
      ],
      "execution_count": 21,
      "outputs": [
        {
          "output_type": "stream",
          "name": "stdout",
          "text": [
            "<class 'pandas.core.frame.DataFrame'>\n",
            "RangeIndex: 78 entries, 0 to 77\n",
            "Data columns (total 9 columns):\n",
            " #   Column                                        Non-Null Count  Dtype  \n",
            "---  ------                                        --------------  -----  \n",
            " 0   COMMUNITY_AREA_NUMBER                         78 non-null     object \n",
            " 1   COMMUNITY_AREA_NAME                           78 non-null     object \n",
            " 2   PERCENT OF HOUSING CROWDED                    78 non-null     float64\n",
            " 3   PERCENT HOUSEHOLDS BELOW POVERTY              78 non-null     float64\n",
            " 4   PERCENT AGED 16+ UNEMPLOYED                   78 non-null     float64\n",
            " 5   PERCENT AGED 25+ WITHOUT HIGH SCHOOL DIPLOMA  78 non-null     float64\n",
            " 6   PERCENT AGED UNDER 18 OR OVER 64              78 non-null     float64\n",
            " 7   PER_CAPITA_INCOME                             78 non-null     int64  \n",
            " 8   HARDSHIP_INDEX                                78 non-null     float64\n",
            "dtypes: float64(6), int64(1), object(2)\n",
            "memory usage: 5.6+ KB\n"
          ]
        }
      ]
    },
    {
      "cell_type": "code",
      "metadata": {
        "id": "YpVj-BwmcITO"
      },
      "source": [
        ""
      ],
      "execution_count": null,
      "outputs": []
    },
    {
      "cell_type": "markdown",
      "metadata": {
        "id": "gzLBTTFIcJGM"
      },
      "source": [
        "**TASK 2:** Creating Sqlite3 Database\n",
        "\n",
        "\n"
      ]
    },
    {
      "cell_type": "code",
      "metadata": {
        "id": "Pm6oeTt36wlS"
      },
      "source": [
        "import sqlite3"
      ],
      "execution_count": 183,
      "outputs": []
    },
    {
      "cell_type": "code",
      "metadata": {
        "id": "joIjiPWB7OJ7",
        "colab": {
          "base_uri": "https://localhost:8080/"
        },
        "outputId": "7c53c6e6-42b1-4776-8e57-53813d46331d"
      },
      "source": [
        "conn = sqlite3.connect(\"ChicagoPublicSchool.db\")  #we create a database called chicagopublicschool\n",
        "print(conn)"
      ],
      "execution_count": 182,
      "outputs": [
        {
          "output_type": "stream",
          "name": "stdout",
          "text": [
            "<sqlite3.Connection object at 0x7f0bccf05650>\n"
          ]
        }
      ]
    },
    {
      "cell_type": "code",
      "metadata": {
        "id": "DEzPWPpS7mNz",
        "colab": {
          "base_uri": "https://localhost:8080/"
        },
        "outputId": "66addb37-8a57-4fd9-b0d7-b77525fd50c8"
      },
      "source": [
        "conn.execute(\"DROP TABLE IF EXISTS `PublicSchools`\")\n",
        "print(\"Table dropped\")"
      ],
      "execution_count": 184,
      "outputs": [
        {
          "output_type": "stream",
          "name": "stdout",
          "text": [
            "Table dropped\n"
          ]
        }
      ]
    },
    {
      "cell_type": "code",
      "metadata": {
        "id": "81YqhS1ANg2T",
        "colab": {
          "base_uri": "https://localhost:8080/"
        },
        "outputId": "29b5fc47-38b5-4277-809a-3ef26db9277d"
      },
      "source": [
        "conn = sqlite3.connect(\"ChicagoPublicSchool.db\") #table one created \n",
        "try:\n",
        "  conn.execute('''\n",
        "      CREATE TABLE PublicSchools\n",
        "      (\n",
        "        NM_OF_SCHL               TEXT    NOT NULL,\n",
        "        STRT_ADDRS               TEXT ,\n",
        "        ZIP_CD                   INTEGER,\n",
        "        ADQT_YR_PRGS_MADE        VARCHAR2(5),\n",
        "        SFTY_SCORE               INTEGER,\n",
        "        INSTRCTN_SCORE           INTEGER,\n",
        "        AVG_STDNT_ATTNDNCE       FLOAT,\n",
        "        COLLEGE_ENRLMNT          INTEGER,        \n",
        "        CMNTY_AREA_NM            TEXT    NOT NULL,\n",
        "        CMNTY_AREA_NO            INTEGER,\n",
        "        FOREIGN KEY (CMNTY_AREA_NO)\n",
        "                        REFERENCES CensusTable (CMNTY_AREA_NO) \n",
        "        );''')\n",
        "  print(\"Table created successfully\")\n",
        "except Exception as e:\n",
        "  print(str(e))\n",
        "  print('Table creation failed!!!')\n",
        "finally:\n",
        "  conn.close()\n"
      ],
      "execution_count": 194,
      "outputs": [
        {
          "output_type": "stream",
          "name": "stdout",
          "text": [
            "table PublicSchools already exists\n",
            "Table creation failed!!!\n"
          ]
        }
      ]
    },
    {
      "cell_type": "code",
      "metadata": {
        "id": "ciydeWJgpWPV"
      },
      "source": [
        "PublicSchools_list = chicago_df.values.tolist() #values listed\n",
        "#PublicSchools_list"
      ],
      "execution_count": 186,
      "outputs": []
    },
    {
      "cell_type": "code",
      "metadata": {
        "colab": {
          "base_uri": "https://localhost:8080/"
        },
        "id": "oD8sIZQHhsMz",
        "outputId": "021fcb0a-85d1-4f3c-e298-b95e430f144f"
      },
      "source": [
        "conn = sqlite3.connect(\"ChicagoPublicSchool.db\") #data inserted in values \n",
        "\n",
        "cursor = conn.cursor()\n",
        "\n",
        "try:\n",
        "  cursor.executemany('''\n",
        "        INSERT INTO PublicSchools (CMNTY_AREA_NO, CMNTY_AREA_NM,  NM_OF_SCHL, STRT_ADDRS, ZIP_CD, ADQT_YR_PRGS_MADE, SFTY_SCORE, INSTRCTN_SCORE, AVG_STDNT_ATTNDNCE, COLLEGE_ENRLMNT, CMNTY_AREA_NM)\n",
        "        VALUES (?,?,?,?,?,?,?,?,?,?,?)''', PublicSchools_list)\n",
        "  conn.commit()\n",
        "  print(\"Data Insterted successfully\")\n",
        "except Exception as e:\n",
        "  print(str(e))\n",
        "  print(\"Insertion failed!\")\n",
        "finally:\n",
        "  conn.close()\n",
        "  \n",
        "  \n"
      ],
      "execution_count": 187,
      "outputs": [
        {
          "output_type": "stream",
          "name": "stdout",
          "text": [
            "Data Insterted successfully\n"
          ]
        }
      ]
    },
    {
      "cell_type": "code",
      "metadata": {
        "colab": {
          "base_uri": "https://localhost:8080/"
        },
        "id": "KBK4EMlqnBf7",
        "outputId": "76f32f57-6e63-4e20-d2ed-a582fa208b30"
      },
      "source": [
        "conn = sqlite3.connect(\"ChicagoPublicSchool.db\")  #table 2 created to connect using sqlite3\n",
        "cursor = conn.cursor()\n",
        "cursor.execute(\"DROP TABLE IF EXISTS `CensusTable`\")\n",
        "try:\n",
        "    cursor.execute('''\n",
        "      CREATE TABLE IF NOT EXISTS CensusTable\n",
        "        (\n",
        "        CMNTY_AREA_NO                INTEGER,\n",
        "        CMNTY_AREA_NM                TEXT    PRIMARY KEY,\n",
        "        PCT_OF_HOUSE_CRWDED          FLOAT DEFAULT 0,\n",
        "        PCT_HOUSEHOLDS_BLW_PVRTY     FLOAT DEFAULT 0,\n",
        "        PCT_AGED_16_UNEMPLYD         FLOAT DEFAULT 0,\n",
        "        PCT_AGED_25_WO_HS_DPLM       FLOAT DEFAULT 0,\n",
        "        PCT_AGED_UNDER18_OR_OVER64   FLOAT DEFAULT 0,\n",
        "        PER_CAPITA_INCM              INTEGER DEFAULT 0,\n",
        "        HARDSHIP_INDX                FLOAT DEFAULT 0,\n",
        "        FOREIGN KEY (CMNTY_AREA_NO) REFERENCES PublicSchools\n",
        "        );''')\n",
        "    print(\"Table created successfully\")\n",
        "except Exception as e:\n",
        "    print(str(e))\n",
        "    print('Table creation failed!!!')\n",
        "finally:\n",
        "    conn.close()\n"
      ],
      "execution_count": 189,
      "outputs": [
        {
          "output_type": "stream",
          "name": "stdout",
          "text": [
            "Table created successfully\n"
          ]
        }
      ]
    },
    {
      "cell_type": "code",
      "metadata": {
        "id": "MkYFsjldJXpX"
      },
      "source": [
        "Census_list = census_df.values.tolist() #dropdown to see the list\n",
        "PublicSchools_list"
      ],
      "execution_count": 188,
      "outputs": []
    },
    {
      "cell_type": "code",
      "metadata": {
        "id": "5mOz14QXGV8D"
      },
      "source": [
        "conn = sqlite3.connect(\"ChicagoPublicSchool.db\") #insert values into the dataset\n",
        "\n",
        "cursor = conn.cursor()\n",
        "\n",
        "try:\n",
        "  cursor.executemany('''\n",
        "        INSERT INTO CensusTable (CMNTY_AREA_NO, CMNTY_AREA_NM, PCT_OF_HOUSE_CRWDED, PCT_HOUSEHOLDS_BLW_PVRTY, PCT_AGED_16_UNEMPLYD, PCT_AGED_25_WO_HS_DPLM, PCT_AGED_UNDER18_OR_OVER64, PER_CAPITA_INCM, HARDSHIP_INDX) \n",
        "        VALUES(?,?,?,?,?,?,?,?,?)''', Census_list)\n",
        "  conn.commit()\n",
        "  print(\"Data Insterted successfully\")\n",
        "except Exception as e:\n",
        "  print(str(e))\n",
        "  print(\"Insertion failed!\")\n",
        "finally:\n",
        "  conn.close()"
      ],
      "execution_count": null,
      "outputs": []
    },
    {
      "cell_type": "code",
      "metadata": {
        "colab": {
          "base_uri": "https://localhost:8080/"
        },
        "id": "E6fqDnHvIpVk",
        "outputId": "5492d619-9fd2-415e-eda7-ce86d6ba0f3b"
      },
      "source": [
        "conn = sqlite3.connect(\"ChicagoPublicSchool.db\") #this shows that the database has two tables connected to each other\n",
        "cursor = conn.cursor()\n",
        "\n",
        "cursor.execute(\"SELECT name FROM sqlite_master WHERE type='table';\")\n",
        "print(cursor.fetchall())"
      ],
      "execution_count": 191,
      "outputs": [
        {
          "output_type": "stream",
          "name": "stdout",
          "text": [
            "[('PublicSchools',), ('CensusTable',)]\n"
          ]
        }
      ]
    },
    {
      "cell_type": "code",
      "metadata": {
        "colab": {
          "base_uri": "https://localhost:8080/"
        },
        "id": "hhqUXhejXZqf",
        "outputId": "86332b84-bf29-4378-fa11-d77ed698026c"
      },
      "source": [
        "conn = sqlite3.connect(\"ChicagoPublicSchools.db\") #table1\n",
        "cursor = conn.cursor()\n",
        "cursor.execute(\"SELECT count (*) as Total FROM PublicSchools;\")\n",
        "rows = cursor.fetchall()\n",
        "for row in rows:\n",
        "  print(row)\n",
        "  conn.close()"
      ],
      "execution_count": 180,
      "outputs": [
        {
          "output_type": "stream",
          "name": "stdout",
          "text": [
            "(566,)\n"
          ]
        }
      ]
    },
    {
      "cell_type": "code",
      "metadata": {
        "id": "TVHu7LnBYIDN"
      },
      "source": [
        "conn = sqlite3.connect(\"ChicagoPublicSchools.db\") #table2\n",
        "cursor = conn.cursor()\n",
        "cursor.execute(\"SELECT count (*) as Total FROM CensusTable;\")\n",
        "rows = cursor.fetchall()\n",
        "for row in rows:\n",
        "  print(row)\n",
        "  conn.close()"
      ],
      "execution_count": null,
      "outputs": []
    },
    {
      "cell_type": "markdown",
      "metadata": {
        "id": "JNkVYjY8cqVU"
      },
      "source": [
        "**TASK 3**: CREATING QUERIES"
      ]
    },
    {
      "cell_type": "markdown",
      "metadata": {
        "id": "muVHuaYvc351"
      },
      "source": [
        "\n",
        "1) What is the relationship between per capita income in a certain community area and the safety score of schools in that community area?\n",
        "\n",
        "2) What is the relationship between average student attendence and per capita income?\n",
        "\n",
        "3) What is the relationship between percent of housing crowded and school name?\n",
        "\n",
        "4) What is the relationship between safety score and coumminty area?\n",
        "\n",
        "5) What is the relationship between instruction score and percent aged 16+ unemployed?\n",
        "\n",
        "6? What is the relationship between percent households below poverty and zipcode?\n",
        "\n",
        "7) What is the relationship between college enrollment and community area?\n",
        "\n",
        "8) What is the relationship between network manager and per capita income?\n",
        "\n",
        "9) What is the relationship between zipcode and percent of housing crowd?\n",
        "\n",
        "10) What is the relationship between hardship index and zipcode?\n",
        "\n",
        "\n",
        "These are the 10 queries based on the clean data and sql database made above."
      ]
    },
    {
      "cell_type": "markdown",
      "metadata": {
        "id": "ob-NmA1Nc3L0"
      },
      "source": [
        ""
      ]
    }
  ]
}
