{
  "nbformat": 4,
  "nbformat_minor": 0,
  "metadata": {
    "colab": {
      "name": "patil1_iaf603_assignment1.ipynb",
      "provenance": [],
      "collapsed_sections": []
    },
    "kernelspec": {
      "name": "python3",
      "display_name": "Python 3"
    },
    "language_info": {
      "name": "python"
    }
  },
  "cells": [
    {
      "cell_type": "markdown",
      "metadata": {
        "id": "REtIDr87xSbn"
      },
      "source": [
        "#**NAME**: DEEKSHA PATIL\n"
      ]
    },
    {
      "cell_type": "markdown",
      "metadata": {
        "id": "HsV5x7563y85"
      },
      "source": [
        "## TASK 1\n",
        "\n",
        "# QUESTIONS ANSWERED IN THIS TASK:\n",
        "\n",
        "1. EXPLAIN THE DATASET SEMANTICALLY\n",
        "2. EXPLAIN THE DISTRIBUTION OF THE VARIABLES\n",
        "3. EXPLAIN HOW CLEAN OR \"DIRTY\" THE DATASET IS\n",
        "4. VISUALIZE THE DATA (HEAD AND TAIL)\n",
        "5. HOW MANY MISSING VALUES ARE IN THE DATASET?\n"
      ]
    },
    {
      "cell_type": "code",
      "metadata": {
        "id": "qXh9tVZ2Hrnu"
      },
      "source": [
        "import numpy as np\n",
        "import pandas as pd\n",
        "from functools import reduce\n"
      ],
      "execution_count": 112,
      "outputs": []
    },
    {
      "cell_type": "code",
      "metadata": {
        "colab": {
          "resources": {
            "http://localhost:8080/nbextensions/google.colab/files.js": {
              "data": "Ly8gQ29weXJpZ2h0IDIwMTcgR29vZ2xlIExMQwovLwovLyBMaWNlbnNlZCB1bmRlciB0aGUgQXBhY2hlIExpY2Vuc2UsIFZlcnNpb24gMi4wICh0aGUgIkxpY2Vuc2UiKTsKLy8geW91IG1heSBub3QgdXNlIHRoaXMgZmlsZSBleGNlcHQgaW4gY29tcGxpYW5jZSB3aXRoIHRoZSBMaWNlbnNlLgovLyBZb3UgbWF5IG9idGFpbiBhIGNvcHkgb2YgdGhlIExpY2Vuc2UgYXQKLy8KLy8gICAgICBodHRwOi8vd3d3LmFwYWNoZS5vcmcvbGljZW5zZXMvTElDRU5TRS0yLjAKLy8KLy8gVW5sZXNzIHJlcXVpcmVkIGJ5IGFwcGxpY2FibGUgbGF3IG9yIGFncmVlZCB0byBpbiB3cml0aW5nLCBzb2Z0d2FyZQovLyBkaXN0cmlidXRlZCB1bmRlciB0aGUgTGljZW5zZSBpcyBkaXN0cmlidXRlZCBvbiBhbiAiQVMgSVMiIEJBU0lTLAovLyBXSVRIT1VUIFdBUlJBTlRJRVMgT1IgQ09ORElUSU9OUyBPRiBBTlkgS0lORCwgZWl0aGVyIGV4cHJlc3Mgb3IgaW1wbGllZC4KLy8gU2VlIHRoZSBMaWNlbnNlIGZvciB0aGUgc3BlY2lmaWMgbGFuZ3VhZ2UgZ292ZXJuaW5nIHBlcm1pc3Npb25zIGFuZAovLyBsaW1pdGF0aW9ucyB1bmRlciB0aGUgTGljZW5zZS4KCi8qKgogKiBAZmlsZW92ZXJ2aWV3IEhlbHBlcnMgZm9yIGdvb2dsZS5jb2xhYiBQeXRob24gbW9kdWxlLgogKi8KKGZ1bmN0aW9uKHNjb3BlKSB7CmZ1bmN0aW9uIHNwYW4odGV4dCwgc3R5bGVBdHRyaWJ1dGVzID0ge30pIHsKICBjb25zdCBlbGVtZW50ID0gZG9jdW1lbnQuY3JlYXRlRWxlbWVudCgnc3BhbicpOwogIGVsZW1lbnQudGV4dENvbnRlbnQgPSB0ZXh0OwogIGZvciAoY29uc3Qga2V5IG9mIE9iamVjdC5rZXlzKHN0eWxlQXR0cmlidXRlcykpIHsKICAgIGVsZW1lbnQuc3R5bGVba2V5XSA9IHN0eWxlQXR0cmlidXRlc1trZXldOwogIH0KICByZXR1cm4gZWxlbWVudDsKfQoKLy8gTWF4IG51bWJlciBvZiBieXRlcyB3aGljaCB3aWxsIGJlIHVwbG9hZGVkIGF0IGEgdGltZS4KY29uc3QgTUFYX1BBWUxPQURfU0laRSA9IDEwMCAqIDEwMjQ7CgpmdW5jdGlvbiBfdXBsb2FkRmlsZXMoaW5wdXRJZCwgb3V0cHV0SWQpIHsKICBjb25zdCBzdGVwcyA9IHVwbG9hZEZpbGVzU3RlcChpbnB1dElkLCBvdXRwdXRJZCk7CiAgY29uc3Qgb3V0cHV0RWxlbWVudCA9IGRvY3VtZW50LmdldEVsZW1lbnRCeUlkKG91dHB1dElkKTsKICAvLyBDYWNoZSBzdGVwcyBvbiB0aGUgb3V0cHV0RWxlbWVudCB0byBtYWtlIGl0IGF2YWlsYWJsZSBmb3IgdGhlIG5leHQgY2FsbAogIC8vIHRvIHVwbG9hZEZpbGVzQ29udGludWUgZnJvbSBQeXRob24uCiAgb3V0cHV0RWxlbWVudC5zdGVwcyA9IHN0ZXBzOwoKICByZXR1cm4gX3VwbG9hZEZpbGVzQ29udGludWUob3V0cHV0SWQpOwp9CgovLyBUaGlzIGlzIHJvdWdobHkgYW4gYXN5bmMgZ2VuZXJhdG9yIChub3Qgc3VwcG9ydGVkIGluIHRoZSBicm93c2VyIHlldCksCi8vIHdoZXJlIHRoZXJlIGFyZSBtdWx0aXBsZSBhc3luY2hyb25vdXMgc3RlcHMgYW5kIHRoZSBQeXRob24gc2lkZSBpcyBnb2luZwovLyB0byBwb2xsIGZvciBjb21wbGV0aW9uIG9mIGVhY2ggc3RlcC4KLy8gVGhpcyB1c2VzIGEgUHJvbWlzZSB0byBibG9jayB0aGUgcHl0aG9uIHNpZGUgb24gY29tcGxldGlvbiBvZiBlYWNoIHN0ZXAsCi8vIHRoZW4gcGFzc2VzIHRoZSByZXN1bHQgb2YgdGhlIHByZXZpb3VzIHN0ZXAgYXMgdGhlIGlucHV0IHRvIHRoZSBuZXh0IHN0ZXAuCmZ1bmN0aW9uIF91cGxvYWRGaWxlc0NvbnRpbnVlKG91dHB1dElkKSB7CiAgY29uc3Qgb3V0cHV0RWxlbWVudCA9IGRvY3VtZW50LmdldEVsZW1lbnRCeUlkKG91dHB1dElkKTsKICBjb25zdCBzdGVwcyA9IG91dHB1dEVsZW1lbnQuc3RlcHM7CgogIGNvbnN0IG5leHQgPSBzdGVwcy5uZXh0KG91dHB1dEVsZW1lbnQubGFzdFByb21pc2VWYWx1ZSk7CiAgcmV0dXJuIFByb21pc2UucmVzb2x2ZShuZXh0LnZhbHVlLnByb21pc2UpLnRoZW4oKHZhbHVlKSA9PiB7CiAgICAvLyBDYWNoZSB0aGUgbGFzdCBwcm9taXNlIHZhbHVlIHRvIG1ha2UgaXQgYXZhaWxhYmxlIHRvIHRoZSBuZXh0CiAgICAvLyBzdGVwIG9mIHRoZSBnZW5lcmF0b3IuCiAgICBvdXRwdXRFbGVtZW50Lmxhc3RQcm9taXNlVmFsdWUgPSB2YWx1ZTsKICAgIHJldHVybiBuZXh0LnZhbHVlLnJlc3BvbnNlOwogIH0pOwp9CgovKioKICogR2VuZXJhdG9yIGZ1bmN0aW9uIHdoaWNoIGlzIGNhbGxlZCBiZXR3ZWVuIGVhY2ggYXN5bmMgc3RlcCBvZiB0aGUgdXBsb2FkCiAqIHByb2Nlc3MuCiAqIEBwYXJhbSB7c3RyaW5nfSBpbnB1dElkIEVsZW1lbnQgSUQgb2YgdGhlIGlucHV0IGZpbGUgcGlja2VyIGVsZW1lbnQuCiAqIEBwYXJhbSB7c3RyaW5nfSBvdXRwdXRJZCBFbGVtZW50IElEIG9mIHRoZSBvdXRwdXQgZGlzcGxheS4KICogQHJldHVybiB7IUl0ZXJhYmxlPCFPYmplY3Q+fSBJdGVyYWJsZSBvZiBuZXh0IHN0ZXBzLgogKi8KZnVuY3Rpb24qIHVwbG9hZEZpbGVzU3RlcChpbnB1dElkLCBvdXRwdXRJZCkgewogIGNvbnN0IGlucHV0RWxlbWVudCA9IGRvY3VtZW50LmdldEVsZW1lbnRCeUlkKGlucHV0SWQpOwogIGlucHV0RWxlbWVudC5kaXNhYmxlZCA9IGZhbHNlOwoKICBjb25zdCBvdXRwdXRFbGVtZW50ID0gZG9jdW1lbnQuZ2V0RWxlbWVudEJ5SWQob3V0cHV0SWQpOwogIG91dHB1dEVsZW1lbnQuaW5uZXJIVE1MID0gJyc7CgogIGNvbnN0IHBpY2tlZFByb21pc2UgPSBuZXcgUHJvbWlzZSgocmVzb2x2ZSkgPT4gewogICAgaW5wdXRFbGVtZW50LmFkZEV2ZW50TGlzdGVuZXIoJ2NoYW5nZScsIChlKSA9PiB7CiAgICAgIHJlc29sdmUoZS50YXJnZXQuZmlsZXMpOwogICAgfSk7CiAgfSk7CgogIGNvbnN0IGNhbmNlbCA9IGRvY3VtZW50LmNyZWF0ZUVsZW1lbnQoJ2J1dHRvbicpOwogIGlucHV0RWxlbWVudC5wYXJlbnRFbGVtZW50LmFwcGVuZENoaWxkKGNhbmNlbCk7CiAgY2FuY2VsLnRleHRDb250ZW50ID0gJ0NhbmNlbCB1cGxvYWQnOwogIGNvbnN0IGNhbmNlbFByb21pc2UgPSBuZXcgUHJvbWlzZSgocmVzb2x2ZSkgPT4gewogICAgY2FuY2VsLm9uY2xpY2sgPSAoKSA9PiB7CiAgICAgIHJlc29sdmUobnVsbCk7CiAgICB9OwogIH0pOwoKICAvLyBXYWl0IGZvciB0aGUgdXNlciB0byBwaWNrIHRoZSBmaWxlcy4KICBjb25zdCBmaWxlcyA9IHlpZWxkIHsKICAgIHByb21pc2U6IFByb21pc2UucmFjZShbcGlja2VkUHJvbWlzZSwgY2FuY2VsUHJvbWlzZV0pLAogICAgcmVzcG9uc2U6IHsKICAgICAgYWN0aW9uOiAnc3RhcnRpbmcnLAogICAgfQogIH07CgogIGNhbmNlbC5yZW1vdmUoKTsKCiAgLy8gRGlzYWJsZSB0aGUgaW5wdXQgZWxlbWVudCBzaW5jZSBmdXJ0aGVyIHBpY2tzIGFyZSBub3QgYWxsb3dlZC4KICBpbnB1dEVsZW1lbnQuZGlzYWJsZWQgPSB0cnVlOwoKICBpZiAoIWZpbGVzKSB7CiAgICByZXR1cm4gewogICAgICByZXNwb25zZTogewogICAgICAgIGFjdGlvbjogJ2NvbXBsZXRlJywKICAgICAgfQogICAgfTsKICB9CgogIGZvciAoY29uc3QgZmlsZSBvZiBmaWxlcykgewogICAgY29uc3QgbGkgPSBkb2N1bWVudC5jcmVhdGVFbGVtZW50KCdsaScpOwogICAgbGkuYXBwZW5kKHNwYW4oZmlsZS5uYW1lLCB7Zm9udFdlaWdodDogJ2JvbGQnfSkpOwogICAgbGkuYXBwZW5kKHNwYW4oCiAgICAgICAgYCgke2ZpbGUudHlwZSB8fCAnbi9hJ30pIC0gJHtmaWxlLnNpemV9IGJ5dGVzLCBgICsKICAgICAgICBgbGFzdCBtb2RpZmllZDogJHsKICAgICAgICAgICAgZmlsZS5sYXN0TW9kaWZpZWREYXRlID8gZmlsZS5sYXN0TW9kaWZpZWREYXRlLnRvTG9jYWxlRGF0ZVN0cmluZygpIDoKICAgICAgICAgICAgICAgICAgICAgICAgICAgICAgICAgICAgJ24vYSd9IC0gYCkpOwogICAgY29uc3QgcGVyY2VudCA9IHNwYW4oJzAlIGRvbmUnKTsKICAgIGxpLmFwcGVuZENoaWxkKHBlcmNlbnQpOwoKICAgIG91dHB1dEVsZW1lbnQuYXBwZW5kQ2hpbGQobGkpOwoKICAgIGNvbnN0IGZpbGVEYXRhUHJvbWlzZSA9IG5ldyBQcm9taXNlKChyZXNvbHZlKSA9PiB7CiAgICAgIGNvbnN0IHJlYWRlciA9IG5ldyBGaWxlUmVhZGVyKCk7CiAgICAgIHJlYWRlci5vbmxvYWQgPSAoZSkgPT4gewogICAgICAgIHJlc29sdmUoZS50YXJnZXQucmVzdWx0KTsKICAgICAgfTsKICAgICAgcmVhZGVyLnJlYWRBc0FycmF5QnVmZmVyKGZpbGUpOwogICAgfSk7CiAgICAvLyBXYWl0IGZvciB0aGUgZGF0YSB0byBiZSByZWFkeS4KICAgIGxldCBmaWxlRGF0YSA9IHlpZWxkIHsKICAgICAgcHJvbWlzZTogZmlsZURhdGFQcm9taXNlLAogICAgICByZXNwb25zZTogewogICAgICAgIGFjdGlvbjogJ2NvbnRpbnVlJywKICAgICAgfQogICAgfTsKCiAgICAvLyBVc2UgYSBjaHVua2VkIHNlbmRpbmcgdG8gYXZvaWQgbWVzc2FnZSBzaXplIGxpbWl0cy4gU2VlIGIvNjIxMTU2NjAuCiAgICBsZXQgcG9zaXRpb24gPSAwOwogICAgZG8gewogICAgICBjb25zdCBsZW5ndGggPSBNYXRoLm1pbihmaWxlRGF0YS5ieXRlTGVuZ3RoIC0gcG9zaXRpb24sIE1BWF9QQVlMT0FEX1NJWkUpOwogICAgICBjb25zdCBjaHVuayA9IG5ldyBVaW50OEFycmF5KGZpbGVEYXRhLCBwb3NpdGlvbiwgbGVuZ3RoKTsKICAgICAgcG9zaXRpb24gKz0gbGVuZ3RoOwoKICAgICAgY29uc3QgYmFzZTY0ID0gYnRvYShTdHJpbmcuZnJvbUNoYXJDb2RlLmFwcGx5KG51bGwsIGNodW5rKSk7CiAgICAgIHlpZWxkIHsKICAgICAgICByZXNwb25zZTogewogICAgICAgICAgYWN0aW9uOiAnYXBwZW5kJywKICAgICAgICAgIGZpbGU6IGZpbGUubmFtZSwKICAgICAgICAgIGRhdGE6IGJhc2U2NCwKICAgICAgICB9LAogICAgICB9OwoKICAgICAgbGV0IHBlcmNlbnREb25lID0gZmlsZURhdGEuYnl0ZUxlbmd0aCA9PT0gMCA/CiAgICAgICAgICAxMDAgOgogICAgICAgICAgTWF0aC5yb3VuZCgocG9zaXRpb24gLyBmaWxlRGF0YS5ieXRlTGVuZ3RoKSAqIDEwMCk7CiAgICAgIHBlcmNlbnQudGV4dENvbnRlbnQgPSBgJHtwZXJjZW50RG9uZX0lIGRvbmVgOwoKICAgIH0gd2hpbGUgKHBvc2l0aW9uIDwgZmlsZURhdGEuYnl0ZUxlbmd0aCk7CiAgfQoKICAvLyBBbGwgZG9uZS4KICB5aWVsZCB7CiAgICByZXNwb25zZTogewogICAgICBhY3Rpb246ICdjb21wbGV0ZScsCiAgICB9CiAgfTsKfQoKc2NvcGUuZ29vZ2xlID0gc2NvcGUuZ29vZ2xlIHx8IHt9OwpzY29wZS5nb29nbGUuY29sYWIgPSBzY29wZS5nb29nbGUuY29sYWIgfHwge307CnNjb3BlLmdvb2dsZS5jb2xhYi5fZmlsZXMgPSB7CiAgX3VwbG9hZEZpbGVzLAogIF91cGxvYWRGaWxlc0NvbnRpbnVlLAp9Owp9KShzZWxmKTsK",
              "ok": true,
              "headers": [
                [
                  "content-type",
                  "application/javascript"
                ]
              ],
              "status": 200,
              "status_text": ""
            }
          },
          "base_uri": "https://localhost:8080/",
          "height": 72
        },
        "id": "IV1Vv8-O6qSH",
        "outputId": "79284565-6eaf-4ebe-a362-ea611bbe4433"
      },
      "source": [
        "from google.colab import files\n",
        "uploaded = files.upload()"
      ],
      "execution_count": 113,
      "outputs": [
        {
          "output_type": "display_data",
          "data": {
            "text/html": [
              "\n",
              "     <input type=\"file\" id=\"files-77e456f9-8708-4d58-836a-3414c96b5682\" name=\"files[]\" multiple disabled\n",
              "        style=\"border:none\" />\n",
              "     <output id=\"result-77e456f9-8708-4d58-836a-3414c96b5682\">\n",
              "      Upload widget is only available when the cell has been executed in the\n",
              "      current browser session. Please rerun this cell to enable.\n",
              "      </output>\n",
              "      <script src=\"/nbextensions/google.colab/files.js\"></script> "
            ],
            "text/plain": [
              "<IPython.core.display.HTML object>"
            ]
          },
          "metadata": {}
        },
        {
          "output_type": "stream",
          "name": "stdout",
          "text": [
            "Saving Automobile_data.csv to Automobile_data (1).csv\n"
          ]
        }
      ]
    },
    {
      "cell_type": "code",
      "metadata": {
        "colab": {
          "base_uri": "https://localhost:8080/",
          "height": 0
        },
        "id": "GBGEBiGKIGYq",
        "outputId": "6f8078be-99c0-458a-ab73-90492ae5ce09"
      },
      "source": [
        "df = pd.read_csv('Automobile_data.csv')\n",
        "df.orig = df"
      ],
      "execution_count": 114,
      "outputs": [
        {
          "output_type": "stream",
          "name": "stderr",
          "text": [
            "/usr/local/lib/python3.7/dist-packages/ipykernel_launcher.py:2: UserWarning: Pandas doesn't allow columns to be created via a new attribute name - see https://pandas.pydata.org/pandas-docs/stable/indexing.html#attribute-access\n",
            "  \n"
          ]
        }
      ]
    },
    {
      "cell_type": "code",
      "metadata": {
        "colab": {
          "base_uri": "https://localhost:8080/",
          "height": 0
        },
        "id": "VsYBZXNN6grq",
        "outputId": "296817f0-2a86-495a-a501-749c3cce393a"
      },
      "source": [
        "df.shape"
      ],
      "execution_count": 115,
      "outputs": [
        {
          "output_type": "execute_result",
          "data": {
            "text/plain": [
              "(205, 26)"
            ]
          },
          "metadata": {},
          "execution_count": 115
        }
      ]
    },
    {
      "cell_type": "code",
      "metadata": {
        "colab": {
          "base_uri": "https://localhost:8080/",
          "height": 774
        },
        "id": "jvA3HQ5kJNzC",
        "outputId": "f2efe163-380c-4075-cba3-d1501149d1eb"
      },
      "source": [
        "# Visulazing the data table through head and tail functions\n",
        "df.head(20)"
      ],
      "execution_count": 7,
      "outputs": [
        {
          "output_type": "execute_result",
          "data": {
            "text/html": [
              "<div>\n",
              "<style scoped>\n",
              "    .dataframe tbody tr th:only-of-type {\n",
              "        vertical-align: middle;\n",
              "    }\n",
              "\n",
              "    .dataframe tbody tr th {\n",
              "        vertical-align: top;\n",
              "    }\n",
              "\n",
              "    .dataframe thead th {\n",
              "        text-align: right;\n",
              "    }\n",
              "</style>\n",
              "<table border=\"1\" class=\"dataframe\">\n",
              "  <thead>\n",
              "    <tr style=\"text-align: right;\">\n",
              "      <th></th>\n",
              "      <th>symboling</th>\n",
              "      <th>normalized-losses</th>\n",
              "      <th>make</th>\n",
              "      <th>fuel-type</th>\n",
              "      <th>aspiration</th>\n",
              "      <th>num-of-doors</th>\n",
              "      <th>body-style</th>\n",
              "      <th>drive-wheels</th>\n",
              "      <th>engine-location</th>\n",
              "      <th>wheel-base</th>\n",
              "      <th>length</th>\n",
              "      <th>width</th>\n",
              "      <th>height</th>\n",
              "      <th>curb-weight</th>\n",
              "      <th>engine-type</th>\n",
              "      <th>num-of-cylinders</th>\n",
              "      <th>engine-size</th>\n",
              "      <th>fuel-system</th>\n",
              "      <th>bore</th>\n",
              "      <th>stroke</th>\n",
              "      <th>compression-ratio</th>\n",
              "      <th>horsepower</th>\n",
              "      <th>peak-rpm</th>\n",
              "      <th>city-mpg</th>\n",
              "      <th>highway-mpg</th>\n",
              "      <th>price</th>\n",
              "    </tr>\n",
              "  </thead>\n",
              "  <tbody>\n",
              "    <tr>\n",
              "      <th>0</th>\n",
              "      <td>3</td>\n",
              "      <td>?</td>\n",
              "      <td>alfa-romero</td>\n",
              "      <td>gas</td>\n",
              "      <td>std</td>\n",
              "      <td>two</td>\n",
              "      <td>convertible</td>\n",
              "      <td>rwd</td>\n",
              "      <td>front[front]</td>\n",
              "      <td>88.6</td>\n",
              "      <td>168.8</td>\n",
              "      <td>64.1</td>\n",
              "      <td>48.8</td>\n",
              "      <td>2548</td>\n",
              "      <td>dohc</td>\n",
              "      <td>four</td>\n",
              "      <td>130</td>\n",
              "      <td>mpfi</td>\n",
              "      <td>3.47</td>\n",
              "      <td>2.68</td>\n",
              "      <td>9.0</td>\n",
              "      <td>111</td>\n",
              "      <td>5000</td>\n",
              "      <td>21</td>\n",
              "      <td>27</td>\n",
              "      <td>13495</td>\n",
              "    </tr>\n",
              "    <tr>\n",
              "      <th>1</th>\n",
              "      <td>3</td>\n",
              "      <td>?</td>\n",
              "      <td>alfa-romero</td>\n",
              "      <td>gas</td>\n",
              "      <td>std</td>\n",
              "      <td>two</td>\n",
              "      <td>convertible</td>\n",
              "      <td>rwd</td>\n",
              "      <td>front?</td>\n",
              "      <td>88.6</td>\n",
              "      <td>168.8</td>\n",
              "      <td>64.1</td>\n",
              "      <td>48.8</td>\n",
              "      <td>2548</td>\n",
              "      <td>dohc</td>\n",
              "      <td>four</td>\n",
              "      <td>130</td>\n",
              "      <td>mpfi</td>\n",
              "      <td>3.47</td>\n",
              "      <td>2.68</td>\n",
              "      <td>9.0</td>\n",
              "      <td>111</td>\n",
              "      <td>5000</td>\n",
              "      <td>21</td>\n",
              "      <td>27</td>\n",
              "      <td>16500</td>\n",
              "    </tr>\n",
              "    <tr>\n",
              "      <th>2</th>\n",
              "      <td>1</td>\n",
              "      <td>?</td>\n",
              "      <td>alfa-romero</td>\n",
              "      <td>gas</td>\n",
              "      <td>std</td>\n",
              "      <td>two</td>\n",
              "      <td>hatchback</td>\n",
              "      <td>rwd</td>\n",
              "      <td>front?</td>\n",
              "      <td>94.5</td>\n",
              "      <td>171.2</td>\n",
              "      <td>65.5</td>\n",
              "      <td>52.4</td>\n",
              "      <td>2823</td>\n",
              "      <td>ohcv</td>\n",
              "      <td>six</td>\n",
              "      <td>152</td>\n",
              "      <td>mpfi</td>\n",
              "      <td>2.68</td>\n",
              "      <td>3.47</td>\n",
              "      <td>9.0</td>\n",
              "      <td>154</td>\n",
              "      <td>5000</td>\n",
              "      <td>19</td>\n",
              "      <td>26</td>\n",
              "      <td>16500</td>\n",
              "    </tr>\n",
              "    <tr>\n",
              "      <th>3</th>\n",
              "      <td>2</td>\n",
              "      <td>164</td>\n",
              "      <td>audi</td>\n",
              "      <td>gas</td>\n",
              "      <td>std</td>\n",
              "      <td>four</td>\n",
              "      <td>sedan</td>\n",
              "      <td>fwd</td>\n",
              "      <td>front,</td>\n",
              "      <td>99.8</td>\n",
              "      <td>176.6</td>\n",
              "      <td>66.2</td>\n",
              "      <td>54.3</td>\n",
              "      <td>2337</td>\n",
              "      <td>ohc</td>\n",
              "      <td>four</td>\n",
              "      <td>109</td>\n",
              "      <td>mpfi</td>\n",
              "      <td>3.19</td>\n",
              "      <td>3.4</td>\n",
              "      <td>10.0</td>\n",
              "      <td>102</td>\n",
              "      <td>5500</td>\n",
              "      <td>24</td>\n",
              "      <td>30</td>\n",
              "      <td>13950</td>\n",
              "    </tr>\n",
              "    <tr>\n",
              "      <th>4</th>\n",
              "      <td>2</td>\n",
              "      <td>164</td>\n",
              "      <td>audi</td>\n",
              "      <td>gas</td>\n",
              "      <td>std</td>\n",
              "      <td>four</td>\n",
              "      <td>sedan</td>\n",
              "      <td>4wd</td>\n",
              "      <td>front,front</td>\n",
              "      <td>99.4</td>\n",
              "      <td>176.6</td>\n",
              "      <td>66.4</td>\n",
              "      <td>54.3</td>\n",
              "      <td>2824</td>\n",
              "      <td>ohc</td>\n",
              "      <td>five</td>\n",
              "      <td>136</td>\n",
              "      <td>mpfi</td>\n",
              "      <td>3.19</td>\n",
              "      <td>3.4</td>\n",
              "      <td>8.0</td>\n",
              "      <td>115</td>\n",
              "      <td>5500</td>\n",
              "      <td>18</td>\n",
              "      <td>22</td>\n",
              "      <td>17450</td>\n",
              "    </tr>\n",
              "    <tr>\n",
              "      <th>5</th>\n",
              "      <td>2</td>\n",
              "      <td>?</td>\n",
              "      <td>audi</td>\n",
              "      <td>gas</td>\n",
              "      <td>std</td>\n",
              "      <td>two</td>\n",
              "      <td>sedan</td>\n",
              "      <td>fwd</td>\n",
              "      <td>front,</td>\n",
              "      <td>99.8</td>\n",
              "      <td>177.3</td>\n",
              "      <td>66.3</td>\n",
              "      <td>53.1</td>\n",
              "      <td>2507</td>\n",
              "      <td>ohc</td>\n",
              "      <td>five</td>\n",
              "      <td>136</td>\n",
              "      <td>mpfi</td>\n",
              "      <td>3.19</td>\n",
              "      <td>3.4</td>\n",
              "      <td>8.5</td>\n",
              "      <td>110</td>\n",
              "      <td>5500</td>\n",
              "      <td>19</td>\n",
              "      <td>25</td>\n",
              "      <td>15250</td>\n",
              "    </tr>\n",
              "    <tr>\n",
              "      <th>6</th>\n",
              "      <td>1</td>\n",
              "      <td>158</td>\n",
              "      <td>audi</td>\n",
              "      <td>gas</td>\n",
              "      <td>std</td>\n",
              "      <td>four</td>\n",
              "      <td>sedan</td>\n",
              "      <td>fwd</td>\n",
              "      <td>front,</td>\n",
              "      <td>105.8</td>\n",
              "      <td>192.7</td>\n",
              "      <td>71.4</td>\n",
              "      <td>55.7</td>\n",
              "      <td>2844</td>\n",
              "      <td>ohc</td>\n",
              "      <td>five</td>\n",
              "      <td>136</td>\n",
              "      <td>mpfi</td>\n",
              "      <td>3.19</td>\n",
              "      <td>3.4</td>\n",
              "      <td>8.5</td>\n",
              "      <td>110</td>\n",
              "      <td>5500</td>\n",
              "      <td>19</td>\n",
              "      <td>25</td>\n",
              "      <td>17710</td>\n",
              "    </tr>\n",
              "    <tr>\n",
              "      <th>7</th>\n",
              "      <td>1</td>\n",
              "      <td>?</td>\n",
              "      <td>audi</td>\n",
              "      <td>gas</td>\n",
              "      <td>std</td>\n",
              "      <td>four</td>\n",
              "      <td>wagon</td>\n",
              "      <td>fwd</td>\n",
              "      <td>front,</td>\n",
              "      <td>105.8</td>\n",
              "      <td>192.7</td>\n",
              "      <td>71.4</td>\n",
              "      <td>55.7</td>\n",
              "      <td>2954</td>\n",
              "      <td>ohc</td>\n",
              "      <td>five</td>\n",
              "      <td>136</td>\n",
              "      <td>mpfi</td>\n",
              "      <td>3.19</td>\n",
              "      <td>3.4</td>\n",
              "      <td>8.5</td>\n",
              "      <td>110</td>\n",
              "      <td>5500</td>\n",
              "      <td>19</td>\n",
              "      <td>25</td>\n",
              "      <td>18920</td>\n",
              "    </tr>\n",
              "    <tr>\n",
              "      <th>8</th>\n",
              "      <td>1</td>\n",
              "      <td>158</td>\n",
              "      <td>audi</td>\n",
              "      <td>gas</td>\n",
              "      <td>turbo</td>\n",
              "      <td>four</td>\n",
              "      <td>sedan</td>\n",
              "      <td>fwd</td>\n",
              "      <td>front,</td>\n",
              "      <td>105.8</td>\n",
              "      <td>192.7</td>\n",
              "      <td>71.4</td>\n",
              "      <td>55.9</td>\n",
              "      <td>3086</td>\n",
              "      <td>ohc</td>\n",
              "      <td>five</td>\n",
              "      <td>131</td>\n",
              "      <td>mpfi</td>\n",
              "      <td>3.13</td>\n",
              "      <td>3.4</td>\n",
              "      <td>8.3</td>\n",
              "      <td>140</td>\n",
              "      <td>5500</td>\n",
              "      <td>17</td>\n",
              "      <td>20</td>\n",
              "      <td>23875</td>\n",
              "    </tr>\n",
              "    <tr>\n",
              "      <th>9</th>\n",
              "      <td>0</td>\n",
              "      <td>?</td>\n",
              "      <td>audi</td>\n",
              "      <td>gas</td>\n",
              "      <td>turbo</td>\n",
              "      <td>two</td>\n",
              "      <td>hatchback</td>\n",
              "      <td>4wd</td>\n",
              "      <td>front,</td>\n",
              "      <td>99.5</td>\n",
              "      <td>178.2</td>\n",
              "      <td>67.9</td>\n",
              "      <td>52.0</td>\n",
              "      <td>3053</td>\n",
              "      <td>ohc</td>\n",
              "      <td>five</td>\n",
              "      <td>131</td>\n",
              "      <td>mpfi</td>\n",
              "      <td>3.13</td>\n",
              "      <td>3.4</td>\n",
              "      <td>7.0</td>\n",
              "      <td>160</td>\n",
              "      <td>5500</td>\n",
              "      <td>16</td>\n",
              "      <td>22</td>\n",
              "      <td>?</td>\n",
              "    </tr>\n",
              "    <tr>\n",
              "      <th>10</th>\n",
              "      <td>2</td>\n",
              "      <td>192</td>\n",
              "      <td>bmw</td>\n",
              "      <td>gas</td>\n",
              "      <td>std</td>\n",
              "      <td>two</td>\n",
              "      <td>sedan</td>\n",
              "      <td>rwd</td>\n",
              "      <td>front[engine]</td>\n",
              "      <td>101.2</td>\n",
              "      <td>176.8</td>\n",
              "      <td>64.8</td>\n",
              "      <td>54.3</td>\n",
              "      <td>2395</td>\n",
              "      <td>ohc</td>\n",
              "      <td>four</td>\n",
              "      <td>108</td>\n",
              "      <td>mpfi</td>\n",
              "      <td>3.5</td>\n",
              "      <td>2.8</td>\n",
              "      <td>8.8</td>\n",
              "      <td>101</td>\n",
              "      <td>5800</td>\n",
              "      <td>23</td>\n",
              "      <td>29</td>\n",
              "      <td>16430</td>\n",
              "    </tr>\n",
              "    <tr>\n",
              "      <th>11</th>\n",
              "      <td>0</td>\n",
              "      <td>192</td>\n",
              "      <td>bmw</td>\n",
              "      <td>gas</td>\n",
              "      <td>std</td>\n",
              "      <td>four</td>\n",
              "      <td>sedan</td>\n",
              "      <td>rwd</td>\n",
              "      <td>front[engine]</td>\n",
              "      <td>101.2</td>\n",
              "      <td>176.8</td>\n",
              "      <td>64.8</td>\n",
              "      <td>54.3</td>\n",
              "      <td>2395</td>\n",
              "      <td>ohc</td>\n",
              "      <td>four</td>\n",
              "      <td>108</td>\n",
              "      <td>mpfi</td>\n",
              "      <td>3.5</td>\n",
              "      <td>2.8</td>\n",
              "      <td>8.8</td>\n",
              "      <td>101</td>\n",
              "      <td>5800</td>\n",
              "      <td>23</td>\n",
              "      <td>29</td>\n",
              "      <td>16925</td>\n",
              "    </tr>\n",
              "    <tr>\n",
              "      <th>12</th>\n",
              "      <td>0</td>\n",
              "      <td>188</td>\n",
              "      <td>bmw</td>\n",
              "      <td>gas</td>\n",
              "      <td>std</td>\n",
              "      <td>two</td>\n",
              "      <td>sedan</td>\n",
              "      <td>rwd</td>\n",
              "      <td>front[engine]</td>\n",
              "      <td>101.2</td>\n",
              "      <td>176.8</td>\n",
              "      <td>64.8</td>\n",
              "      <td>54.3</td>\n",
              "      <td>2710</td>\n",
              "      <td>ohc</td>\n",
              "      <td>six</td>\n",
              "      <td>164</td>\n",
              "      <td>mpfi</td>\n",
              "      <td>3.31</td>\n",
              "      <td>3.19</td>\n",
              "      <td>9.0</td>\n",
              "      <td>121</td>\n",
              "      <td>4250</td>\n",
              "      <td>21</td>\n",
              "      <td>28</td>\n",
              "      <td>20970</td>\n",
              "    </tr>\n",
              "    <tr>\n",
              "      <th>13</th>\n",
              "      <td>0</td>\n",
              "      <td>188</td>\n",
              "      <td>bmw</td>\n",
              "      <td>gas</td>\n",
              "      <td>std</td>\n",
              "      <td>four</td>\n",
              "      <td>sedan</td>\n",
              "      <td>rwd</td>\n",
              "      <td>front[engine]</td>\n",
              "      <td>101.2</td>\n",
              "      <td>176.8</td>\n",
              "      <td>64.8</td>\n",
              "      <td>54.3</td>\n",
              "      <td>2765</td>\n",
              "      <td>ohc</td>\n",
              "      <td>six</td>\n",
              "      <td>164</td>\n",
              "      <td>mpfi</td>\n",
              "      <td>3.31</td>\n",
              "      <td>3.19</td>\n",
              "      <td>9.0</td>\n",
              "      <td>121</td>\n",
              "      <td>4250</td>\n",
              "      <td>21</td>\n",
              "      <td>28</td>\n",
              "      <td>21105</td>\n",
              "    </tr>\n",
              "    <tr>\n",
              "      <th>14</th>\n",
              "      <td>1</td>\n",
              "      <td>?</td>\n",
              "      <td>bmw</td>\n",
              "      <td>gas</td>\n",
              "      <td>std</td>\n",
              "      <td>four</td>\n",
              "      <td>sedan</td>\n",
              "      <td>rwd</td>\n",
              "      <td>front[location]</td>\n",
              "      <td>103.5</td>\n",
              "      <td>189.0</td>\n",
              "      <td>66.9</td>\n",
              "      <td>55.7</td>\n",
              "      <td>3055</td>\n",
              "      <td>ohc</td>\n",
              "      <td>six</td>\n",
              "      <td>164</td>\n",
              "      <td>mpfi</td>\n",
              "      <td>3.31</td>\n",
              "      <td>3.19</td>\n",
              "      <td>9.0</td>\n",
              "      <td>121</td>\n",
              "      <td>4250</td>\n",
              "      <td>20</td>\n",
              "      <td>25</td>\n",
              "      <td>24565</td>\n",
              "    </tr>\n",
              "    <tr>\n",
              "      <th>15</th>\n",
              "      <td>0</td>\n",
              "      <td>?</td>\n",
              "      <td>bmw</td>\n",
              "      <td>gas</td>\n",
              "      <td>std</td>\n",
              "      <td>four</td>\n",
              "      <td>sedan</td>\n",
              "      <td>rwd</td>\n",
              "      <td>front[location]</td>\n",
              "      <td>103.5</td>\n",
              "      <td>189.0</td>\n",
              "      <td>66.9</td>\n",
              "      <td>55.7</td>\n",
              "      <td>3230</td>\n",
              "      <td>ohc</td>\n",
              "      <td>six</td>\n",
              "      <td>209</td>\n",
              "      <td>mpfi</td>\n",
              "      <td>3.62</td>\n",
              "      <td>3.39</td>\n",
              "      <td>8.0</td>\n",
              "      <td>182</td>\n",
              "      <td>5400</td>\n",
              "      <td>16</td>\n",
              "      <td>22</td>\n",
              "      <td>30760</td>\n",
              "    </tr>\n",
              "    <tr>\n",
              "      <th>16</th>\n",
              "      <td>0</td>\n",
              "      <td>?</td>\n",
              "      <td>bmw</td>\n",
              "      <td>gas</td>\n",
              "      <td>std</td>\n",
              "      <td>two</td>\n",
              "      <td>sedan</td>\n",
              "      <td>rwd</td>\n",
              "      <td>front[location]</td>\n",
              "      <td>103.5</td>\n",
              "      <td>193.8</td>\n",
              "      <td>67.9</td>\n",
              "      <td>53.7</td>\n",
              "      <td>3380</td>\n",
              "      <td>ohc</td>\n",
              "      <td>six</td>\n",
              "      <td>209</td>\n",
              "      <td>mpfi</td>\n",
              "      <td>3.62</td>\n",
              "      <td>3.39</td>\n",
              "      <td>8.0</td>\n",
              "      <td>182</td>\n",
              "      <td>5400</td>\n",
              "      <td>16</td>\n",
              "      <td>22</td>\n",
              "      <td>41315</td>\n",
              "    </tr>\n",
              "    <tr>\n",
              "      <th>17</th>\n",
              "      <td>0</td>\n",
              "      <td>?</td>\n",
              "      <td>bmw</td>\n",
              "      <td>gas</td>\n",
              "      <td>std</td>\n",
              "      <td>four</td>\n",
              "      <td>sedan</td>\n",
              "      <td>rwd</td>\n",
              "      <td>front[location]</td>\n",
              "      <td>110.0</td>\n",
              "      <td>197.0</td>\n",
              "      <td>70.9</td>\n",
              "      <td>56.3</td>\n",
              "      <td>3505</td>\n",
              "      <td>ohc</td>\n",
              "      <td>six</td>\n",
              "      <td>209</td>\n",
              "      <td>mpfi</td>\n",
              "      <td>3.62</td>\n",
              "      <td>3.39</td>\n",
              "      <td>8.0</td>\n",
              "      <td>182</td>\n",
              "      <td>5400</td>\n",
              "      <td>15</td>\n",
              "      <td>20</td>\n",
              "      <td>36880</td>\n",
              "    </tr>\n",
              "    <tr>\n",
              "      <th>18</th>\n",
              "      <td>2</td>\n",
              "      <td>121</td>\n",
              "      <td>chevrolet</td>\n",
              "      <td>gas</td>\n",
              "      <td>std</td>\n",
              "      <td>two</td>\n",
              "      <td>hatchback</td>\n",
              "      <td>fwd</td>\n",
              "      <td>front[location]</td>\n",
              "      <td>88.4</td>\n",
              "      <td>141.1</td>\n",
              "      <td>60.3</td>\n",
              "      <td>53.2</td>\n",
              "      <td>1488</td>\n",
              "      <td>l</td>\n",
              "      <td>three</td>\n",
              "      <td>61</td>\n",
              "      <td>2bbl</td>\n",
              "      <td>2.91</td>\n",
              "      <td>3.03</td>\n",
              "      <td>9.5</td>\n",
              "      <td>48</td>\n",
              "      <td>5100</td>\n",
              "      <td>47</td>\n",
              "      <td>53</td>\n",
              "      <td>5151</td>\n",
              "    </tr>\n",
              "    <tr>\n",
              "      <th>19</th>\n",
              "      <td>1</td>\n",
              "      <td>98</td>\n",
              "      <td>chevrolet</td>\n",
              "      <td>gas</td>\n",
              "      <td>std</td>\n",
              "      <td>two</td>\n",
              "      <td>hatchback</td>\n",
              "      <td>fwd</td>\n",
              "      <td>front</td>\n",
              "      <td>94.5</td>\n",
              "      <td>155.9</td>\n",
              "      <td>63.6</td>\n",
              "      <td>52.0</td>\n",
              "      <td>1874</td>\n",
              "      <td>ohc</td>\n",
              "      <td>four</td>\n",
              "      <td>90</td>\n",
              "      <td>2bbl</td>\n",
              "      <td>3.03</td>\n",
              "      <td>3.11</td>\n",
              "      <td>9.6</td>\n",
              "      <td>70</td>\n",
              "      <td>5400</td>\n",
              "      <td>38</td>\n",
              "      <td>43</td>\n",
              "      <td>6295</td>\n",
              "    </tr>\n",
              "  </tbody>\n",
              "</table>\n",
              "</div>"
            ],
            "text/plain": [
              "    symboling normalized-losses         make  ... city-mpg highway-mpg  price\n",
              "0           3                 ?  alfa-romero  ...       21          27  13495\n",
              "1           3                 ?  alfa-romero  ...       21          27  16500\n",
              "2           1                 ?  alfa-romero  ...       19          26  16500\n",
              "3           2               164         audi  ...       24          30  13950\n",
              "4           2               164         audi  ...       18          22  17450\n",
              "5           2                 ?         audi  ...       19          25  15250\n",
              "6           1               158         audi  ...       19          25  17710\n",
              "7           1                 ?         audi  ...       19          25  18920\n",
              "8           1               158         audi  ...       17          20  23875\n",
              "9           0                 ?         audi  ...       16          22      ?\n",
              "10          2               192          bmw  ...       23          29  16430\n",
              "11          0               192          bmw  ...       23          29  16925\n",
              "12          0               188          bmw  ...       21          28  20970\n",
              "13          0               188          bmw  ...       21          28  21105\n",
              "14          1                 ?          bmw  ...       20          25  24565\n",
              "15          0                 ?          bmw  ...       16          22  30760\n",
              "16          0                 ?          bmw  ...       16          22  41315\n",
              "17          0                 ?          bmw  ...       15          20  36880\n",
              "18          2               121    chevrolet  ...       47          53   5151\n",
              "19          1                98    chevrolet  ...       38          43   6295\n",
              "\n",
              "[20 rows x 26 columns]"
            ]
          },
          "metadata": {},
          "execution_count": 7
        }
      ]
    },
    {
      "cell_type": "code",
      "metadata": {
        "colab": {
          "base_uri": "https://localhost:8080/",
          "height": 723
        },
        "id": "XTA9uCzIJdHn",
        "outputId": "0dbe0d2a-d7e7-47c6-8e35-a1595bbdefd8"
      },
      "source": [
        "df.tail(20)"
      ],
      "execution_count": 8,
      "outputs": [
        {
          "output_type": "execute_result",
          "data": {
            "text/html": [
              "<div>\n",
              "<style scoped>\n",
              "    .dataframe tbody tr th:only-of-type {\n",
              "        vertical-align: middle;\n",
              "    }\n",
              "\n",
              "    .dataframe tbody tr th {\n",
              "        vertical-align: top;\n",
              "    }\n",
              "\n",
              "    .dataframe thead th {\n",
              "        text-align: right;\n",
              "    }\n",
              "</style>\n",
              "<table border=\"1\" class=\"dataframe\">\n",
              "  <thead>\n",
              "    <tr style=\"text-align: right;\">\n",
              "      <th></th>\n",
              "      <th>symboling</th>\n",
              "      <th>normalized-losses</th>\n",
              "      <th>make</th>\n",
              "      <th>fuel-type</th>\n",
              "      <th>aspiration</th>\n",
              "      <th>num-of-doors</th>\n",
              "      <th>body-style</th>\n",
              "      <th>drive-wheels</th>\n",
              "      <th>engine-location</th>\n",
              "      <th>wheel-base</th>\n",
              "      <th>length</th>\n",
              "      <th>width</th>\n",
              "      <th>height</th>\n",
              "      <th>curb-weight</th>\n",
              "      <th>engine-type</th>\n",
              "      <th>num-of-cylinders</th>\n",
              "      <th>engine-size</th>\n",
              "      <th>fuel-system</th>\n",
              "      <th>bore</th>\n",
              "      <th>stroke</th>\n",
              "      <th>compression-ratio</th>\n",
              "      <th>horsepower</th>\n",
              "      <th>peak-rpm</th>\n",
              "      <th>city-mpg</th>\n",
              "      <th>highway-mpg</th>\n",
              "      <th>price</th>\n",
              "    </tr>\n",
              "  </thead>\n",
              "  <tbody>\n",
              "    <tr>\n",
              "      <th>185</th>\n",
              "      <td>2</td>\n",
              "      <td>94</td>\n",
              "      <td>volkswagen</td>\n",
              "      <td>gas</td>\n",
              "      <td>std</td>\n",
              "      <td>four</td>\n",
              "      <td>sedan</td>\n",
              "      <td>fwd</td>\n",
              "      <td>front</td>\n",
              "      <td>97.3</td>\n",
              "      <td>171.7</td>\n",
              "      <td>65.5</td>\n",
              "      <td>55.7</td>\n",
              "      <td>2212</td>\n",
              "      <td>ohc</td>\n",
              "      <td>four</td>\n",
              "      <td>109</td>\n",
              "      <td>mpfi</td>\n",
              "      <td>3.19</td>\n",
              "      <td>3.4</td>\n",
              "      <td>9.0</td>\n",
              "      <td>85</td>\n",
              "      <td>5250</td>\n",
              "      <td>27</td>\n",
              "      <td>34</td>\n",
              "      <td>8195</td>\n",
              "    </tr>\n",
              "    <tr>\n",
              "      <th>186</th>\n",
              "      <td>2</td>\n",
              "      <td>94</td>\n",
              "      <td>volkswagen</td>\n",
              "      <td>gas</td>\n",
              "      <td>std</td>\n",
              "      <td>four</td>\n",
              "      <td>sedan</td>\n",
              "      <td>fwd</td>\n",
              "      <td>front</td>\n",
              "      <td>97.3</td>\n",
              "      <td>171.7</td>\n",
              "      <td>65.5</td>\n",
              "      <td>55.7</td>\n",
              "      <td>2275</td>\n",
              "      <td>ohc</td>\n",
              "      <td>four</td>\n",
              "      <td>109</td>\n",
              "      <td>mpfi</td>\n",
              "      <td>3.19</td>\n",
              "      <td>3.4</td>\n",
              "      <td>9.0</td>\n",
              "      <td>85</td>\n",
              "      <td>5250</td>\n",
              "      <td>27</td>\n",
              "      <td>34</td>\n",
              "      <td>8495</td>\n",
              "    </tr>\n",
              "    <tr>\n",
              "      <th>187</th>\n",
              "      <td>2</td>\n",
              "      <td>94</td>\n",
              "      <td>volkswagen</td>\n",
              "      <td>diesel</td>\n",
              "      <td>turbo</td>\n",
              "      <td>four</td>\n",
              "      <td>sedan</td>\n",
              "      <td>fwd</td>\n",
              "      <td>front</td>\n",
              "      <td>97.3</td>\n",
              "      <td>171.7</td>\n",
              "      <td>65.5</td>\n",
              "      <td>55.7</td>\n",
              "      <td>2319</td>\n",
              "      <td>ohc</td>\n",
              "      <td>four</td>\n",
              "      <td>97</td>\n",
              "      <td>idi</td>\n",
              "      <td>3.01</td>\n",
              "      <td>3.4</td>\n",
              "      <td>23.0</td>\n",
              "      <td>68</td>\n",
              "      <td>4500</td>\n",
              "      <td>37</td>\n",
              "      <td>42</td>\n",
              "      <td>9495</td>\n",
              "    </tr>\n",
              "    <tr>\n",
              "      <th>188</th>\n",
              "      <td>2</td>\n",
              "      <td>94</td>\n",
              "      <td>volkswagen</td>\n",
              "      <td>gas</td>\n",
              "      <td>std</td>\n",
              "      <td>four</td>\n",
              "      <td>sedan</td>\n",
              "      <td>fwd</td>\n",
              "      <td>front</td>\n",
              "      <td>97.3</td>\n",
              "      <td>171.7</td>\n",
              "      <td>65.5</td>\n",
              "      <td>55.7</td>\n",
              "      <td>2300</td>\n",
              "      <td>ohc</td>\n",
              "      <td>four</td>\n",
              "      <td>109</td>\n",
              "      <td>mpfi</td>\n",
              "      <td>3.19</td>\n",
              "      <td>3.4</td>\n",
              "      <td>10.0</td>\n",
              "      <td>100</td>\n",
              "      <td>5500</td>\n",
              "      <td>26</td>\n",
              "      <td>32</td>\n",
              "      <td>9995</td>\n",
              "    </tr>\n",
              "    <tr>\n",
              "      <th>189</th>\n",
              "      <td>3</td>\n",
              "      <td>?</td>\n",
              "      <td>volkswagen</td>\n",
              "      <td>gas</td>\n",
              "      <td>std</td>\n",
              "      <td>two</td>\n",
              "      <td>convertible</td>\n",
              "      <td>fwd</td>\n",
              "      <td>front</td>\n",
              "      <td>94.5</td>\n",
              "      <td>159.3</td>\n",
              "      <td>64.2</td>\n",
              "      <td>55.6</td>\n",
              "      <td>2254</td>\n",
              "      <td>ohc</td>\n",
              "      <td>four</td>\n",
              "      <td>109</td>\n",
              "      <td>mpfi</td>\n",
              "      <td>3.19</td>\n",
              "      <td>3.4</td>\n",
              "      <td>8.5</td>\n",
              "      <td>90</td>\n",
              "      <td>5500</td>\n",
              "      <td>24</td>\n",
              "      <td>29</td>\n",
              "      <td>11595</td>\n",
              "    </tr>\n",
              "    <tr>\n",
              "      <th>190</th>\n",
              "      <td>3</td>\n",
              "      <td>256</td>\n",
              "      <td>volkswagen</td>\n",
              "      <td>gas</td>\n",
              "      <td>std</td>\n",
              "      <td>two</td>\n",
              "      <td>hatchback</td>\n",
              "      <td>fwd</td>\n",
              "      <td>front</td>\n",
              "      <td>94.5</td>\n",
              "      <td>165.7</td>\n",
              "      <td>64.0</td>\n",
              "      <td>51.4</td>\n",
              "      <td>2221</td>\n",
              "      <td>ohc</td>\n",
              "      <td>four</td>\n",
              "      <td>109</td>\n",
              "      <td>mpfi</td>\n",
              "      <td>3.19</td>\n",
              "      <td>3.4</td>\n",
              "      <td>8.5</td>\n",
              "      <td>90</td>\n",
              "      <td>5500</td>\n",
              "      <td>24</td>\n",
              "      <td>29</td>\n",
              "      <td>9980</td>\n",
              "    </tr>\n",
              "    <tr>\n",
              "      <th>191</th>\n",
              "      <td>0</td>\n",
              "      <td>?</td>\n",
              "      <td>volkswagen</td>\n",
              "      <td>gas</td>\n",
              "      <td>std</td>\n",
              "      <td>four</td>\n",
              "      <td>sedan</td>\n",
              "      <td>fwd</td>\n",
              "      <td>front</td>\n",
              "      <td>100.4</td>\n",
              "      <td>180.2</td>\n",
              "      <td>66.9</td>\n",
              "      <td>55.1</td>\n",
              "      <td>2661</td>\n",
              "      <td>ohc</td>\n",
              "      <td>five</td>\n",
              "      <td>136</td>\n",
              "      <td>mpfi</td>\n",
              "      <td>3.19</td>\n",
              "      <td>3.4</td>\n",
              "      <td>8.5</td>\n",
              "      <td>110</td>\n",
              "      <td>5500</td>\n",
              "      <td>19</td>\n",
              "      <td>24</td>\n",
              "      <td>13295</td>\n",
              "    </tr>\n",
              "    <tr>\n",
              "      <th>192</th>\n",
              "      <td>0</td>\n",
              "      <td>?</td>\n",
              "      <td>volkswagen</td>\n",
              "      <td>diesel</td>\n",
              "      <td>turbo</td>\n",
              "      <td>four</td>\n",
              "      <td>sedan</td>\n",
              "      <td>fwd</td>\n",
              "      <td>front</td>\n",
              "      <td>100.4</td>\n",
              "      <td>180.2</td>\n",
              "      <td>66.9</td>\n",
              "      <td>55.1</td>\n",
              "      <td>2579</td>\n",
              "      <td>ohc</td>\n",
              "      <td>four</td>\n",
              "      <td>97</td>\n",
              "      <td>idi</td>\n",
              "      <td>3.01</td>\n",
              "      <td>3.4</td>\n",
              "      <td>23.0</td>\n",
              "      <td>68</td>\n",
              "      <td>4500</td>\n",
              "      <td>33</td>\n",
              "      <td>38</td>\n",
              "      <td>13845</td>\n",
              "    </tr>\n",
              "    <tr>\n",
              "      <th>193</th>\n",
              "      <td>0</td>\n",
              "      <td>?</td>\n",
              "      <td>volkswagen</td>\n",
              "      <td>gas</td>\n",
              "      <td>std</td>\n",
              "      <td>four</td>\n",
              "      <td>wagon</td>\n",
              "      <td>fwd</td>\n",
              "      <td>front</td>\n",
              "      <td>100.4</td>\n",
              "      <td>183.1</td>\n",
              "      <td>66.9</td>\n",
              "      <td>55.1</td>\n",
              "      <td>2563</td>\n",
              "      <td>ohc</td>\n",
              "      <td>four</td>\n",
              "      <td>109</td>\n",
              "      <td>mpfi</td>\n",
              "      <td>3.19</td>\n",
              "      <td>3.4</td>\n",
              "      <td>9.0</td>\n",
              "      <td>88</td>\n",
              "      <td>5500</td>\n",
              "      <td>25</td>\n",
              "      <td>31</td>\n",
              "      <td>12290</td>\n",
              "    </tr>\n",
              "    <tr>\n",
              "      <th>194</th>\n",
              "      <td>-2</td>\n",
              "      <td>103</td>\n",
              "      <td>volvo</td>\n",
              "      <td>gas</td>\n",
              "      <td>std</td>\n",
              "      <td>four</td>\n",
              "      <td>sedan</td>\n",
              "      <td>rwd</td>\n",
              "      <td>front</td>\n",
              "      <td>104.3</td>\n",
              "      <td>188.8</td>\n",
              "      <td>67.2</td>\n",
              "      <td>56.2</td>\n",
              "      <td>2912</td>\n",
              "      <td>ohc</td>\n",
              "      <td>four</td>\n",
              "      <td>141</td>\n",
              "      <td>mpfi</td>\n",
              "      <td>3.78</td>\n",
              "      <td>3.15</td>\n",
              "      <td>9.5</td>\n",
              "      <td>114</td>\n",
              "      <td>5400</td>\n",
              "      <td>23</td>\n",
              "      <td>28</td>\n",
              "      <td>12940</td>\n",
              "    </tr>\n",
              "    <tr>\n",
              "      <th>195</th>\n",
              "      <td>-1</td>\n",
              "      <td>74</td>\n",
              "      <td>volvo</td>\n",
              "      <td>gas</td>\n",
              "      <td>std</td>\n",
              "      <td>four</td>\n",
              "      <td>wagon</td>\n",
              "      <td>rwd</td>\n",
              "      <td>front</td>\n",
              "      <td>104.3</td>\n",
              "      <td>188.8</td>\n",
              "      <td>67.2</td>\n",
              "      <td>57.5</td>\n",
              "      <td>3034</td>\n",
              "      <td>ohc</td>\n",
              "      <td>four</td>\n",
              "      <td>141</td>\n",
              "      <td>mpfi</td>\n",
              "      <td>3.78</td>\n",
              "      <td>3.15</td>\n",
              "      <td>9.5</td>\n",
              "      <td>114</td>\n",
              "      <td>5400</td>\n",
              "      <td>23</td>\n",
              "      <td>28</td>\n",
              "      <td>13415</td>\n",
              "    </tr>\n",
              "    <tr>\n",
              "      <th>196</th>\n",
              "      <td>-2</td>\n",
              "      <td>103</td>\n",
              "      <td>volvo</td>\n",
              "      <td>gas</td>\n",
              "      <td>std</td>\n",
              "      <td>four</td>\n",
              "      <td>sedan</td>\n",
              "      <td>rwd</td>\n",
              "      <td>front</td>\n",
              "      <td>104.3</td>\n",
              "      <td>188.8</td>\n",
              "      <td>67.2</td>\n",
              "      <td>56.2</td>\n",
              "      <td>2935</td>\n",
              "      <td>ohc</td>\n",
              "      <td>four</td>\n",
              "      <td>141</td>\n",
              "      <td>mpfi</td>\n",
              "      <td>3.78</td>\n",
              "      <td>3.15</td>\n",
              "      <td>9.5</td>\n",
              "      <td>114</td>\n",
              "      <td>5400</td>\n",
              "      <td>24</td>\n",
              "      <td>28</td>\n",
              "      <td>15985</td>\n",
              "    </tr>\n",
              "    <tr>\n",
              "      <th>197</th>\n",
              "      <td>-1</td>\n",
              "      <td>74</td>\n",
              "      <td>volvo</td>\n",
              "      <td>gas</td>\n",
              "      <td>std</td>\n",
              "      <td>four</td>\n",
              "      <td>wagon</td>\n",
              "      <td>rwd</td>\n",
              "      <td>front</td>\n",
              "      <td>104.3</td>\n",
              "      <td>188.8</td>\n",
              "      <td>67.2</td>\n",
              "      <td>57.5</td>\n",
              "      <td>3042</td>\n",
              "      <td>ohc</td>\n",
              "      <td>four</td>\n",
              "      <td>141</td>\n",
              "      <td>mpfi</td>\n",
              "      <td>3.78</td>\n",
              "      <td>3.15</td>\n",
              "      <td>9.5</td>\n",
              "      <td>114</td>\n",
              "      <td>5400</td>\n",
              "      <td>24</td>\n",
              "      <td>28</td>\n",
              "      <td>16515</td>\n",
              "    </tr>\n",
              "    <tr>\n",
              "      <th>198</th>\n",
              "      <td>-2</td>\n",
              "      <td>103</td>\n",
              "      <td>volvo</td>\n",
              "      <td>gas</td>\n",
              "      <td>turbo</td>\n",
              "      <td>four</td>\n",
              "      <td>sedan</td>\n",
              "      <td>rwd</td>\n",
              "      <td>front</td>\n",
              "      <td>104.3</td>\n",
              "      <td>188.8</td>\n",
              "      <td>67.2</td>\n",
              "      <td>56.2</td>\n",
              "      <td>3045</td>\n",
              "      <td>ohc</td>\n",
              "      <td>four</td>\n",
              "      <td>130</td>\n",
              "      <td>mpfi</td>\n",
              "      <td>3.62</td>\n",
              "      <td>3.15</td>\n",
              "      <td>7.5</td>\n",
              "      <td>162</td>\n",
              "      <td>5100</td>\n",
              "      <td>17</td>\n",
              "      <td>22</td>\n",
              "      <td>18420</td>\n",
              "    </tr>\n",
              "    <tr>\n",
              "      <th>199</th>\n",
              "      <td>-1</td>\n",
              "      <td>74</td>\n",
              "      <td>volvo</td>\n",
              "      <td>gas</td>\n",
              "      <td>turbo</td>\n",
              "      <td>four</td>\n",
              "      <td>wagon</td>\n",
              "      <td>rwd</td>\n",
              "      <td>front</td>\n",
              "      <td>104.3</td>\n",
              "      <td>188.8</td>\n",
              "      <td>67.2</td>\n",
              "      <td>57.5</td>\n",
              "      <td>3157</td>\n",
              "      <td>ohc</td>\n",
              "      <td>four</td>\n",
              "      <td>130</td>\n",
              "      <td>mpfi</td>\n",
              "      <td>3.62</td>\n",
              "      <td>3.15</td>\n",
              "      <td>7.5</td>\n",
              "      <td>162</td>\n",
              "      <td>5100</td>\n",
              "      <td>17</td>\n",
              "      <td>22</td>\n",
              "      <td>18950</td>\n",
              "    </tr>\n",
              "    <tr>\n",
              "      <th>200</th>\n",
              "      <td>-1</td>\n",
              "      <td>95</td>\n",
              "      <td>volvo</td>\n",
              "      <td>gas</td>\n",
              "      <td>std</td>\n",
              "      <td>four</td>\n",
              "      <td>sedan</td>\n",
              "      <td>rwd</td>\n",
              "      <td>front</td>\n",
              "      <td>109.1</td>\n",
              "      <td>188.8</td>\n",
              "      <td>68.9</td>\n",
              "      <td>55.5</td>\n",
              "      <td>2952</td>\n",
              "      <td>ohc</td>\n",
              "      <td>four</td>\n",
              "      <td>141</td>\n",
              "      <td>mpfi</td>\n",
              "      <td>3.78</td>\n",
              "      <td>3.15</td>\n",
              "      <td>9.5</td>\n",
              "      <td>114</td>\n",
              "      <td>5400</td>\n",
              "      <td>23</td>\n",
              "      <td>28</td>\n",
              "      <td>16845</td>\n",
              "    </tr>\n",
              "    <tr>\n",
              "      <th>201</th>\n",
              "      <td>-1</td>\n",
              "      <td>95</td>\n",
              "      <td>volvo</td>\n",
              "      <td>gas</td>\n",
              "      <td>turbo</td>\n",
              "      <td>four</td>\n",
              "      <td>sedan</td>\n",
              "      <td>rwd</td>\n",
              "      <td>front</td>\n",
              "      <td>109.1</td>\n",
              "      <td>188.8</td>\n",
              "      <td>68.8</td>\n",
              "      <td>55.5</td>\n",
              "      <td>3049</td>\n",
              "      <td>ohc</td>\n",
              "      <td>four</td>\n",
              "      <td>141</td>\n",
              "      <td>mpfi</td>\n",
              "      <td>3.78</td>\n",
              "      <td>3.15</td>\n",
              "      <td>8.7</td>\n",
              "      <td>160</td>\n",
              "      <td>5300</td>\n",
              "      <td>19</td>\n",
              "      <td>25</td>\n",
              "      <td>19045</td>\n",
              "    </tr>\n",
              "    <tr>\n",
              "      <th>202</th>\n",
              "      <td>-1</td>\n",
              "      <td>95</td>\n",
              "      <td>volvo</td>\n",
              "      <td>gas</td>\n",
              "      <td>std</td>\n",
              "      <td>four</td>\n",
              "      <td>sedan</td>\n",
              "      <td>rwd</td>\n",
              "      <td>front</td>\n",
              "      <td>109.1</td>\n",
              "      <td>188.8</td>\n",
              "      <td>68.9</td>\n",
              "      <td>55.5</td>\n",
              "      <td>3012</td>\n",
              "      <td>ohcv</td>\n",
              "      <td>six</td>\n",
              "      <td>173</td>\n",
              "      <td>mpfi</td>\n",
              "      <td>3.58</td>\n",
              "      <td>2.87</td>\n",
              "      <td>8.8</td>\n",
              "      <td>134</td>\n",
              "      <td>5500</td>\n",
              "      <td>18</td>\n",
              "      <td>23</td>\n",
              "      <td>21485</td>\n",
              "    </tr>\n",
              "    <tr>\n",
              "      <th>203</th>\n",
              "      <td>-1</td>\n",
              "      <td>95</td>\n",
              "      <td>volvo</td>\n",
              "      <td>diesel</td>\n",
              "      <td>turbo</td>\n",
              "      <td>four</td>\n",
              "      <td>sedan</td>\n",
              "      <td>rwd</td>\n",
              "      <td>front</td>\n",
              "      <td>109.1</td>\n",
              "      <td>188.8</td>\n",
              "      <td>68.9</td>\n",
              "      <td>55.5</td>\n",
              "      <td>3217</td>\n",
              "      <td>ohc</td>\n",
              "      <td>six</td>\n",
              "      <td>145</td>\n",
              "      <td>idi</td>\n",
              "      <td>3.01</td>\n",
              "      <td>3.4</td>\n",
              "      <td>23.0</td>\n",
              "      <td>106</td>\n",
              "      <td>4800</td>\n",
              "      <td>26</td>\n",
              "      <td>27</td>\n",
              "      <td>22470</td>\n",
              "    </tr>\n",
              "    <tr>\n",
              "      <th>204</th>\n",
              "      <td>-1</td>\n",
              "      <td>95</td>\n",
              "      <td>volvo</td>\n",
              "      <td>gas</td>\n",
              "      <td>turbo</td>\n",
              "      <td>four</td>\n",
              "      <td>sedan</td>\n",
              "      <td>rwd</td>\n",
              "      <td>front</td>\n",
              "      <td>109.1</td>\n",
              "      <td>188.8</td>\n",
              "      <td>68.9</td>\n",
              "      <td>55.5</td>\n",
              "      <td>3062</td>\n",
              "      <td>ohc</td>\n",
              "      <td>four</td>\n",
              "      <td>141</td>\n",
              "      <td>mpfi</td>\n",
              "      <td>3.78</td>\n",
              "      <td>3.15</td>\n",
              "      <td>9.5</td>\n",
              "      <td>114</td>\n",
              "      <td>5400</td>\n",
              "      <td>19</td>\n",
              "      <td>25</td>\n",
              "      <td>22625</td>\n",
              "    </tr>\n",
              "  </tbody>\n",
              "</table>\n",
              "</div>"
            ],
            "text/plain": [
              "     symboling normalized-losses        make  ... city-mpg highway-mpg  price\n",
              "185          2                94  volkswagen  ...       27          34   8195\n",
              "186          2                94  volkswagen  ...       27          34   8495\n",
              "187          2                94  volkswagen  ...       37          42   9495\n",
              "188          2                94  volkswagen  ...       26          32   9995\n",
              "189          3                 ?  volkswagen  ...       24          29  11595\n",
              "190          3               256  volkswagen  ...       24          29   9980\n",
              "191          0                 ?  volkswagen  ...       19          24  13295\n",
              "192          0                 ?  volkswagen  ...       33          38  13845\n",
              "193          0                 ?  volkswagen  ...       25          31  12290\n",
              "194         -2               103       volvo  ...       23          28  12940\n",
              "195         -1                74       volvo  ...       23          28  13415\n",
              "196         -2               103       volvo  ...       24          28  15985\n",
              "197         -1                74       volvo  ...       24          28  16515\n",
              "198         -2               103       volvo  ...       17          22  18420\n",
              "199         -1                74       volvo  ...       17          22  18950\n",
              "200         -1                95       volvo  ...       23          28  16845\n",
              "201         -1                95       volvo  ...       19          25  19045\n",
              "202         -1                95       volvo  ...       18          23  21485\n",
              "203         -1                95       volvo  ...       26          27  22470\n",
              "204         -1                95       volvo  ...       19          25  22625\n",
              "\n",
              "[20 rows x 26 columns]"
            ]
          },
          "metadata": {},
          "execution_count": 8
        }
      ]
    },
    {
      "cell_type": "code",
      "metadata": {
        "colab": {
          "base_uri": "https://localhost:8080/",
          "height": 297
        },
        "id": "GKRHFSfw-HiA",
        "outputId": "53de4c0a-ff87-4d69-ab06-8af61dd78ffa"
      },
      "source": [
        "df.describe()"
      ],
      "execution_count": 9,
      "outputs": [
        {
          "output_type": "execute_result",
          "data": {
            "text/html": [
              "<div>\n",
              "<style scoped>\n",
              "    .dataframe tbody tr th:only-of-type {\n",
              "        vertical-align: middle;\n",
              "    }\n",
              "\n",
              "    .dataframe tbody tr th {\n",
              "        vertical-align: top;\n",
              "    }\n",
              "\n",
              "    .dataframe thead th {\n",
              "        text-align: right;\n",
              "    }\n",
              "</style>\n",
              "<table border=\"1\" class=\"dataframe\">\n",
              "  <thead>\n",
              "    <tr style=\"text-align: right;\">\n",
              "      <th></th>\n",
              "      <th>symboling</th>\n",
              "      <th>wheel-base</th>\n",
              "      <th>length</th>\n",
              "      <th>width</th>\n",
              "      <th>height</th>\n",
              "      <th>curb-weight</th>\n",
              "      <th>engine-size</th>\n",
              "      <th>compression-ratio</th>\n",
              "      <th>city-mpg</th>\n",
              "      <th>highway-mpg</th>\n",
              "    </tr>\n",
              "  </thead>\n",
              "  <tbody>\n",
              "    <tr>\n",
              "      <th>count</th>\n",
              "      <td>205.000000</td>\n",
              "      <td>205.000000</td>\n",
              "      <td>205.000000</td>\n",
              "      <td>205.000000</td>\n",
              "      <td>205.000000</td>\n",
              "      <td>205.000000</td>\n",
              "      <td>205.000000</td>\n",
              "      <td>205.000000</td>\n",
              "      <td>205.000000</td>\n",
              "      <td>205.000000</td>\n",
              "    </tr>\n",
              "    <tr>\n",
              "      <th>mean</th>\n",
              "      <td>0.834146</td>\n",
              "      <td>98.756585</td>\n",
              "      <td>174.049268</td>\n",
              "      <td>65.907805</td>\n",
              "      <td>53.724878</td>\n",
              "      <td>2555.565854</td>\n",
              "      <td>126.907317</td>\n",
              "      <td>10.142537</td>\n",
              "      <td>25.219512</td>\n",
              "      <td>30.751220</td>\n",
              "    </tr>\n",
              "    <tr>\n",
              "      <th>std</th>\n",
              "      <td>1.245307</td>\n",
              "      <td>6.021776</td>\n",
              "      <td>12.337289</td>\n",
              "      <td>2.145204</td>\n",
              "      <td>2.443522</td>\n",
              "      <td>520.680204</td>\n",
              "      <td>41.642693</td>\n",
              "      <td>3.972040</td>\n",
              "      <td>6.542142</td>\n",
              "      <td>6.886443</td>\n",
              "    </tr>\n",
              "    <tr>\n",
              "      <th>min</th>\n",
              "      <td>-2.000000</td>\n",
              "      <td>86.600000</td>\n",
              "      <td>141.100000</td>\n",
              "      <td>60.300000</td>\n",
              "      <td>47.800000</td>\n",
              "      <td>1488.000000</td>\n",
              "      <td>61.000000</td>\n",
              "      <td>7.000000</td>\n",
              "      <td>13.000000</td>\n",
              "      <td>16.000000</td>\n",
              "    </tr>\n",
              "    <tr>\n",
              "      <th>25%</th>\n",
              "      <td>0.000000</td>\n",
              "      <td>94.500000</td>\n",
              "      <td>166.300000</td>\n",
              "      <td>64.100000</td>\n",
              "      <td>52.000000</td>\n",
              "      <td>2145.000000</td>\n",
              "      <td>97.000000</td>\n",
              "      <td>8.600000</td>\n",
              "      <td>19.000000</td>\n",
              "      <td>25.000000</td>\n",
              "    </tr>\n",
              "    <tr>\n",
              "      <th>50%</th>\n",
              "      <td>1.000000</td>\n",
              "      <td>97.000000</td>\n",
              "      <td>173.200000</td>\n",
              "      <td>65.500000</td>\n",
              "      <td>54.100000</td>\n",
              "      <td>2414.000000</td>\n",
              "      <td>120.000000</td>\n",
              "      <td>9.000000</td>\n",
              "      <td>24.000000</td>\n",
              "      <td>30.000000</td>\n",
              "    </tr>\n",
              "    <tr>\n",
              "      <th>75%</th>\n",
              "      <td>2.000000</td>\n",
              "      <td>102.400000</td>\n",
              "      <td>183.100000</td>\n",
              "      <td>66.900000</td>\n",
              "      <td>55.500000</td>\n",
              "      <td>2935.000000</td>\n",
              "      <td>141.000000</td>\n",
              "      <td>9.400000</td>\n",
              "      <td>30.000000</td>\n",
              "      <td>34.000000</td>\n",
              "    </tr>\n",
              "    <tr>\n",
              "      <th>max</th>\n",
              "      <td>3.000000</td>\n",
              "      <td>120.900000</td>\n",
              "      <td>208.100000</td>\n",
              "      <td>72.300000</td>\n",
              "      <td>59.800000</td>\n",
              "      <td>4066.000000</td>\n",
              "      <td>326.000000</td>\n",
              "      <td>23.000000</td>\n",
              "      <td>49.000000</td>\n",
              "      <td>54.000000</td>\n",
              "    </tr>\n",
              "  </tbody>\n",
              "</table>\n",
              "</div>"
            ],
            "text/plain": [
              "        symboling  wheel-base  ...    city-mpg  highway-mpg\n",
              "count  205.000000  205.000000  ...  205.000000   205.000000\n",
              "mean     0.834146   98.756585  ...   25.219512    30.751220\n",
              "std      1.245307    6.021776  ...    6.542142     6.886443\n",
              "min     -2.000000   86.600000  ...   13.000000    16.000000\n",
              "25%      0.000000   94.500000  ...   19.000000    25.000000\n",
              "50%      1.000000   97.000000  ...   24.000000    30.000000\n",
              "75%      2.000000  102.400000  ...   30.000000    34.000000\n",
              "max      3.000000  120.900000  ...   49.000000    54.000000\n",
              "\n",
              "[8 rows x 10 columns]"
            ]
          },
          "metadata": {},
          "execution_count": 9
        }
      ]
    },
    {
      "cell_type": "code",
      "metadata": {
        "id": "UB6wtfTqlRV0"
      },
      "source": [
        "### To visualize the distribution of the dataset, graphs can be plotted. To visualzie graphs, matplotlib package must be imported\n",
        "import matplotlib.pyplot as plt"
      ],
      "execution_count": 116,
      "outputs": []
    },
    {
      "cell_type": "code",
      "metadata": {
        "colab": {
          "base_uri": "https://localhost:8080/",
          "height": 502
        },
        "id": "o5f1i9DX9CxB",
        "outputId": "b9ed56c2-f4dd-47ba-8915-101b2249747e"
      },
      "source": [
        "df.hist()"
      ],
      "execution_count": 117,
      "outputs": [
        {
          "output_type": "execute_result",
          "data": {
            "text/plain": [
              "array([[<matplotlib.axes._subplots.AxesSubplot object at 0x7f45c8553110>,\n",
              "        <matplotlib.axes._subplots.AxesSubplot object at 0x7f45c84f32d0>,\n",
              "        <matplotlib.axes._subplots.AxesSubplot object at 0x7f45c84a8810>],\n",
              "       [<matplotlib.axes._subplots.AxesSubplot object at 0x7f45c84dce90>,\n",
              "        <matplotlib.axes._subplots.AxesSubplot object at 0x7f45c841e550>,\n",
              "        <matplotlib.axes._subplots.AxesSubplot object at 0x7f45c8455bd0>],\n",
              "       [<matplotlib.axes._subplots.AxesSubplot object at 0x7f45c8418310>,\n",
              "        <matplotlib.axes._subplots.AxesSubplot object at 0x7f45c83cd8d0>,\n",
              "        <matplotlib.axes._subplots.AxesSubplot object at 0x7f45c83cd910>],\n",
              "       [<matplotlib.axes._subplots.AxesSubplot object at 0x7f45c838d0d0>,\n",
              "        <matplotlib.axes._subplots.AxesSubplot object at 0x7f45c82facd0>,\n",
              "        <matplotlib.axes._subplots.AxesSubplot object at 0x7f45c82bc390>]],\n",
              "      dtype=object)"
            ]
          },
          "metadata": {},
          "execution_count": 117
        },
        {
          "output_type": "display_data",
          "data": {
            "image/png": "[encoded data removed]",
            "text/plain": [
              "<Figure size 432x288 with 12 Axes>"
            ]
          },
          "metadata": {
            "needs_background": "light"
          }
        }
      ]
    },
    {
      "cell_type": "code",
      "metadata": {
        "colab": {
          "base_uri": "https://localhost:8080/",
          "height": 315
        },
        "id": "WzJnpV_J-RDB",
        "outputId": "32157716-0c12-432f-d346-3650d3db0719"
      },
      "source": [
        "df.hist(\"symboling\")"
      ],
      "execution_count": 12,
      "outputs": [
        {
          "output_type": "execute_result",
          "data": {
            "text/plain": [
              "array([[<matplotlib.axes._subplots.AxesSubplot object at 0x7f45cd2917d0>]],\n",
              "      dtype=object)"
            ]
          },
          "metadata": {},
          "execution_count": 12
        },
        {
          "output_type": "display_data",
          "data": {
            "image/png": "[encoded data removed]",
            "text/plain": [
              "<Figure size 432x288 with 1 Axes>"
            ]
          },
          "metadata": {
            "needs_background": "light"
          }
        }
      ]
    },
    {
      "cell_type": "code",
      "metadata": {
        "colab": {
          "base_uri": "https://localhost:8080/",
          "height": 315
        },
        "id": "krIF5AOP-enh",
        "outputId": "0eabb7a8-414e-4f57-e6bb-c8b64e9714f4"
      },
      "source": [
        "df.hist(\"wheel-base\")"
      ],
      "execution_count": 13,
      "outputs": [
        {
          "output_type": "execute_result",
          "data": {
            "text/plain": [
              "array([[<matplotlib.axes._subplots.AxesSubplot object at 0x7f45cd32d3d0>]],\n",
              "      dtype=object)"
            ]
          },
          "metadata": {},
          "execution_count": 13
        },
        {
          "output_type": "display_data",
          "data": {
            "image/png": "[encoded data removed]",
            "text/plain": [
              "<Figure size 432x288 with 1 Axes>"
            ]
          },
          "metadata": {
            "needs_background": "light"
          }
        }
      ]
    },
    {
      "cell_type": "code",
      "metadata": {
        "colab": {
          "base_uri": "https://localhost:8080/",
          "height": 315
        },
        "id": "udxcPgfz-_dr",
        "outputId": "7c49ad58-62b1-4c6f-fb8f-4c7885cb2806"
      },
      "source": [
        "df.hist(\"length\")"
      ],
      "execution_count": 14,
      "outputs": [
        {
          "output_type": "execute_result",
          "data": {
            "text/plain": [
              "array([[<matplotlib.axes._subplots.AxesSubplot object at 0x7f45ccdb5fd0>]],\n",
              "      dtype=object)"
            ]
          },
          "metadata": {},
          "execution_count": 14
        },
        {
          "output_type": "display_data",
          "data": {
            "image/png": "[encoded data removed]",
            "text/plain": [
              "<Figure size 432x288 with 1 Axes>"
            ]
          },
          "metadata": {
            "needs_background": "light"
          }
        }
      ]
    },
    {
      "cell_type": "code",
      "metadata": {
        "colab": {
          "base_uri": "https://localhost:8080/",
          "height": 315
        },
        "id": "C3dhVz4m_FEq",
        "outputId": "7e14842e-be8c-46cd-9370-5905301ab067"
      },
      "source": [
        "df.hist(\"width\")"
      ],
      "execution_count": 15,
      "outputs": [
        {
          "output_type": "execute_result",
          "data": {
            "text/plain": [
              "array([[<matplotlib.axes._subplots.AxesSubplot object at 0x7f45d33bb290>]],\n",
              "      dtype=object)"
            ]
          },
          "metadata": {},
          "execution_count": 15
        },
        {
          "output_type": "display_data",
          "data": {
            "image/png": "[encoded data removed]",
            "text/plain": [
              "<Figure size 432x288 with 1 Axes>"
            ]
          },
          "metadata": {
            "needs_background": "light"
          }
        }
      ]
    },
    {
      "cell_type": "code",
      "metadata": {
        "colab": {
          "base_uri": "https://localhost:8080/",
          "height": 315
        },
        "id": "_Qyki6Pi_JZp",
        "outputId": "c774b7cd-5ef7-4c3d-bd29-2e7274ea4359"
      },
      "source": [
        "df.hist(\"height\")"
      ],
      "execution_count": 16,
      "outputs": [
        {
          "output_type": "execute_result",
          "data": {
            "text/plain": [
              "array([[<matplotlib.axes._subplots.AxesSubplot object at 0x7f45ccc09690>]],\n",
              "      dtype=object)"
            ]
          },
          "metadata": {},
          "execution_count": 16
        },
        {
          "output_type": "display_data",
          "data": {
            "image/png": "[encoded data removed]",
            "text/plain": [
              "<Figure size 432x288 with 1 Axes>"
            ]
          },
          "metadata": {
            "needs_background": "light"
          }
        }
      ]
    },
    {
      "cell_type": "code",
      "metadata": {
        "colab": {
          "base_uri": "https://localhost:8080/",
          "height": 315
        },
        "id": "ZI3otIrh_POA",
        "outputId": "966b56e5-4f0e-4844-96a7-d817d09e92a9"
      },
      "source": [
        "df.hist(\"curb-weight\")"
      ],
      "execution_count": 17,
      "outputs": [
        {
          "output_type": "execute_result",
          "data": {
            "text/plain": [
              "array([[<matplotlib.axes._subplots.AxesSubplot object at 0x7f45ccb18910>]],\n",
              "      dtype=object)"
            ]
          },
          "metadata": {},
          "execution_count": 17
        },
        {
          "output_type": "display_data",
          "data": {
            "image/png": "[encoded data removed]",
            "text/plain": [
              "<Figure size 432x288 with 1 Axes>"
            ]
          },
          "metadata": {
            "needs_background": "light"
          }
        }
      ]
    },
    {
      "cell_type": "code",
      "metadata": {
        "colab": {
          "base_uri": "https://localhost:8080/",
          "height": 315
        },
        "id": "DwcmSC84_XKX",
        "outputId": "30d45c28-a8b6-4220-dcdf-40c582b0f9a6"
      },
      "source": [
        "df.hist(\"engine-size\")"
      ],
      "execution_count": 18,
      "outputs": [
        {
          "output_type": "execute_result",
          "data": {
            "text/plain": [
              "array([[<matplotlib.axes._subplots.AxesSubplot object at 0x7f45ccaa68d0>]],\n",
              "      dtype=object)"
            ]
          },
          "metadata": {},
          "execution_count": 18
        },
        {
          "output_type": "display_data",
          "data": {
            "image/png": "[encoded data removed]",
            "text/plain": [
              "<Figure size 432x288 with 1 Axes>"
            ]
          },
          "metadata": {
            "needs_background": "light"
          }
        }
      ]
    },
    {
      "cell_type": "code",
      "metadata": {
        "colab": {
          "base_uri": "https://localhost:8080/",
          "height": 315
        },
        "id": "wN3HSG9E_fy2",
        "outputId": "c9359e72-d0e8-4b31-d8da-67f23c4efbe9"
      },
      "source": [
        "df.hist(\"compression-ratio\")"
      ],
      "execution_count": 19,
      "outputs": [
        {
          "output_type": "execute_result",
          "data": {
            "text/plain": [
              "array([[<matplotlib.axes._subplots.AxesSubplot object at 0x7f45cd292b90>]],\n",
              "      dtype=object)"
            ]
          },
          "metadata": {},
          "execution_count": 19
        },
        {
          "output_type": "display_data",
          "data": {
            "image/png": "[encoded data removed]",
            "text/plain": [
              "<Figure size 432x288 with 1 Axes>"
            ]
          },
          "metadata": {
            "needs_background": "light"
          }
        }
      ]
    },
    {
      "cell_type": "code",
      "metadata": {
        "colab": {
          "base_uri": "https://localhost:8080/",
          "height": 315
        },
        "id": "l7-f395s_lK8",
        "outputId": "81aeb9d9-94c0-4a85-f3ec-387249bb07d3"
      },
      "source": [
        "df.hist(\"city-mpg\")"
      ],
      "execution_count": 20,
      "outputs": [
        {
          "output_type": "execute_result",
          "data": {
            "text/plain": [
              "array([[<matplotlib.axes._subplots.AxesSubplot object at 0x7f45cc99be50>]],\n",
              "      dtype=object)"
            ]
          },
          "metadata": {},
          "execution_count": 20
        },
        {
          "output_type": "display_data",
          "data": {
            "image/png": "[encoded data removed]",
            "text/plain": [
              "<Figure size 432x288 with 1 Axes>"
            ]
          },
          "metadata": {
            "needs_background": "light"
          }
        }
      ]
    },
    {
      "cell_type": "code",
      "metadata": {
        "colab": {
          "base_uri": "https://localhost:8080/",
          "height": 315
        },
        "id": "mvEKtsy0_ud7",
        "outputId": "16d77fed-71ce-41a8-e26e-e6e96bba86c1"
      },
      "source": [
        "df.hist(\"highway-mpg\")"
      ],
      "execution_count": 21,
      "outputs": [
        {
          "output_type": "execute_result",
          "data": {
            "text/plain": [
              "array([[<matplotlib.axes._subplots.AxesSubplot object at 0x7f45cc97d390>]],\n",
              "      dtype=object)"
            ]
          },
          "metadata": {},
          "execution_count": 21
        },
        {
          "output_type": "display_data",
          "data": {
            "image/png": "[encoded data removed]",
            "text/plain": [
              "<Figure size 432x288 with 1 Axes>"
            ]
          },
          "metadata": {
            "needs_background": "light"
          }
        }
      ]
    },
    {
      "cell_type": "code",
      "metadata": {
        "colab": {
          "base_uri": "https://localhost:8080/",
          "height": 0
        },
        "id": "o3HUoEg0Lte7",
        "outputId": "9336a88f-59f9-4ff8-eaaf-0b76c2cf8627"
      },
      "source": [
        "# we use isnull function to recognize the missing values in the variables\n",
        "# The output received in this code is 0 for all columns, but we know and have seen missing values in the dataset \n",
        "df.isnull().sum()"
      ],
      "execution_count": 22,
      "outputs": [
        {
          "output_type": "execute_result",
          "data": {
            "text/plain": [
              "symboling            0\n",
              "normalized-losses    0\n",
              "make                 0\n",
              "fuel-type            0\n",
              "aspiration           0\n",
              "num-of-doors         0\n",
              "body-style           0\n",
              "drive-wheels         0\n",
              "engine-location      0\n",
              "wheel-base           0\n",
              "length               0\n",
              "width                0\n",
              "height               0\n",
              "curb-weight          0\n",
              "engine-type          0\n",
              "num-of-cylinders     0\n",
              "engine-size          0\n",
              "fuel-system          0\n",
              "bore                 0\n",
              "stroke               0\n",
              "compression-ratio    0\n",
              "horsepower           0\n",
              "peak-rpm             0\n",
              "city-mpg             0\n",
              "highway-mpg          0\n",
              "price                0\n",
              "dtype: int64"
            ]
          },
          "metadata": {},
          "execution_count": 22
        }
      ]
    },
    {
      "cell_type": "code",
      "metadata": {
        "colab": {
          "base_uri": "https://localhost:8080/",
          "height": 0
        },
        "id": "ZvvnPFYjRZEq",
        "outputId": "7ba39bc4-548f-4a3e-d92d-325e796b1ca9"
      },
      "source": [
        "# datatype func. allows us the see the datatypes of the variables, the datatypes in python are float, object, int ect.\n",
        "# In our output, we see onject, float and int. \n",
        "# When we observe each the datatype of each column, we can see the numercial coulms, such as price, hoursepower, need to be float/int,\n",
        "#Now we can say that these coumns have missing values\n",
        "df.dtypes"
      ],
      "execution_count": 23,
      "outputs": [
        {
          "output_type": "execute_result",
          "data": {
            "text/plain": [
              "symboling              int64\n",
              "normalized-losses     object\n",
              "make                  object\n",
              "fuel-type             object\n",
              "aspiration            object\n",
              "num-of-doors          object\n",
              "body-style            object\n",
              "drive-wheels          object\n",
              "engine-location       object\n",
              "wheel-base           float64\n",
              "length               float64\n",
              "width                float64\n",
              "height               float64\n",
              "curb-weight            int64\n",
              "engine-type           object\n",
              "num-of-cylinders      object\n",
              "engine-size            int64\n",
              "fuel-system           object\n",
              "bore                  object\n",
              "stroke                object\n",
              "compression-ratio    float64\n",
              "horsepower            object\n",
              "peak-rpm              object\n",
              "city-mpg               int64\n",
              "highway-mpg            int64\n",
              "price                 object\n",
              "dtype: object"
            ]
          },
          "metadata": {},
          "execution_count": 23
        }
      ]
    },
    {
      "cell_type": "code",
      "metadata": {
        "colab": {
          "base_uri": "https://localhost:8080/",
          "height": 0
        },
        "id": "uNDtEwsKMTNq",
        "outputId": "68c9fa4b-6c72-42ce-d864-ec85df394690"
      },
      "source": [
        "# Python recognizes missing values with nan, and therefore we don't see any null values in this output\n",
        "df.info()"
      ],
      "execution_count": 24,
      "outputs": [
        {
          "output_type": "stream",
          "name": "stdout",
          "text": [
            "<class 'pandas.core.frame.DataFrame'>\n",
            "RangeIndex: 205 entries, 0 to 204\n",
            "Data columns (total 26 columns):\n",
            " #   Column             Non-Null Count  Dtype  \n",
            "---  ------             --------------  -----  \n",
            " 0   symboling          205 non-null    int64  \n",
            " 1   normalized-losses  205 non-null    object \n",
            " 2   make               205 non-null    object \n",
            " 3   fuel-type          205 non-null    object \n",
            " 4   aspiration         205 non-null    object \n",
            " 5   num-of-doors       205 non-null    object \n",
            " 6   body-style         205 non-null    object \n",
            " 7   drive-wheels       205 non-null    object \n",
            " 8   engine-location    205 non-null    object \n",
            " 9   wheel-base         205 non-null    float64\n",
            " 10  length             205 non-null    float64\n",
            " 11  width              205 non-null    float64\n",
            " 12  height             205 non-null    float64\n",
            " 13  curb-weight        205 non-null    int64  \n",
            " 14  engine-type        205 non-null    object \n",
            " 15  num-of-cylinders   205 non-null    object \n",
            " 16  engine-size        205 non-null    int64  \n",
            " 17  fuel-system        205 non-null    object \n",
            " 18  bore               205 non-null    object \n",
            " 19  stroke             205 non-null    object \n",
            " 20  compression-ratio  205 non-null    float64\n",
            " 21  horsepower         205 non-null    object \n",
            " 22  peak-rpm           205 non-null    object \n",
            " 23  city-mpg           205 non-null    int64  \n",
            " 24  highway-mpg        205 non-null    int64  \n",
            " 25  price              205 non-null    object \n",
            "dtypes: float64(5), int64(5), object(16)\n",
            "memory usage: 41.8+ KB\n"
          ]
        }
      ]
    },
    {
      "cell_type": "code",
      "metadata": {
        "colab": {
          "base_uri": "https://localhost:8080/",
          "height": 309
        },
        "id": "8tVB0N5ZM4ra",
        "outputId": "f406b2b1-c61b-4cfd-879c-71cec7a8d817"
      },
      "source": [
        "# since we know there are missing values and are present as \"?\", we can replace it with nan so that python can recognize it \n",
        "df.replace(\"?\",np.nan,inplace =True)\n",
        "df.head()"
      ],
      "execution_count": 131,
      "outputs": [
        {
          "output_type": "execute_result",
          "data": {
            "text/html": [
              "<div>\n",
              "<style scoped>\n",
              "    .dataframe tbody tr th:only-of-type {\n",
              "        vertical-align: middle;\n",
              "    }\n",
              "\n",
              "    .dataframe tbody tr th {\n",
              "        vertical-align: top;\n",
              "    }\n",
              "\n",
              "    .dataframe thead th {\n",
              "        text-align: right;\n",
              "    }\n",
              "</style>\n",
              "<table border=\"1\" class=\"dataframe\">\n",
              "  <thead>\n",
              "    <tr style=\"text-align: right;\">\n",
              "      <th></th>\n",
              "      <th>symboling</th>\n",
              "      <th>normalized-losses</th>\n",
              "      <th>make</th>\n",
              "      <th>fuel-type</th>\n",
              "      <th>aspiration</th>\n",
              "      <th>num-of-doors</th>\n",
              "      <th>body-style</th>\n",
              "      <th>drive-wheels</th>\n",
              "      <th>engine-location</th>\n",
              "      <th>wheel-base</th>\n",
              "      <th>length</th>\n",
              "      <th>width</th>\n",
              "      <th>height</th>\n",
              "      <th>curb-weight</th>\n",
              "      <th>engine-type</th>\n",
              "      <th>num-of-cylinders</th>\n",
              "      <th>engine-size</th>\n",
              "      <th>fuel-system</th>\n",
              "      <th>bore</th>\n",
              "      <th>stroke</th>\n",
              "      <th>compression-ratio</th>\n",
              "      <th>horsepower</th>\n",
              "      <th>peak-rpm</th>\n",
              "      <th>city-mpg</th>\n",
              "      <th>highway-mpg</th>\n",
              "      <th>price</th>\n",
              "    </tr>\n",
              "  </thead>\n",
              "  <tbody>\n",
              "    <tr>\n",
              "      <th>0</th>\n",
              "      <td>3</td>\n",
              "      <td>NaN</td>\n",
              "      <td>alfa-romero</td>\n",
              "      <td>gas</td>\n",
              "      <td>std</td>\n",
              "      <td>two</td>\n",
              "      <td>convertible</td>\n",
              "      <td>rwd</td>\n",
              "      <td>front[front]</td>\n",
              "      <td>88.6</td>\n",
              "      <td>168.8</td>\n",
              "      <td>64.1</td>\n",
              "      <td>48.8</td>\n",
              "      <td>2548</td>\n",
              "      <td>dohc</td>\n",
              "      <td>four</td>\n",
              "      <td>130</td>\n",
              "      <td>mpfi</td>\n",
              "      <td>3.47</td>\n",
              "      <td>2.68</td>\n",
              "      <td>9.0</td>\n",
              "      <td>111</td>\n",
              "      <td>5000</td>\n",
              "      <td>21</td>\n",
              "      <td>27</td>\n",
              "      <td>13495</td>\n",
              "    </tr>\n",
              "    <tr>\n",
              "      <th>1</th>\n",
              "      <td>3</td>\n",
              "      <td>NaN</td>\n",
              "      <td>alfa-romero</td>\n",
              "      <td>gas</td>\n",
              "      <td>std</td>\n",
              "      <td>two</td>\n",
              "      <td>convertible</td>\n",
              "      <td>rwd</td>\n",
              "      <td>front?</td>\n",
              "      <td>88.6</td>\n",
              "      <td>168.8</td>\n",
              "      <td>64.1</td>\n",
              "      <td>48.8</td>\n",
              "      <td>2548</td>\n",
              "      <td>dohc</td>\n",
              "      <td>four</td>\n",
              "      <td>130</td>\n",
              "      <td>mpfi</td>\n",
              "      <td>3.47</td>\n",
              "      <td>2.68</td>\n",
              "      <td>9.0</td>\n",
              "      <td>111</td>\n",
              "      <td>5000</td>\n",
              "      <td>21</td>\n",
              "      <td>27</td>\n",
              "      <td>16500</td>\n",
              "    </tr>\n",
              "    <tr>\n",
              "      <th>2</th>\n",
              "      <td>1</td>\n",
              "      <td>NaN</td>\n",
              "      <td>alfa-romero</td>\n",
              "      <td>gas</td>\n",
              "      <td>std</td>\n",
              "      <td>two</td>\n",
              "      <td>hatchback</td>\n",
              "      <td>rwd</td>\n",
              "      <td>front?</td>\n",
              "      <td>94.5</td>\n",
              "      <td>171.2</td>\n",
              "      <td>65.5</td>\n",
              "      <td>52.4</td>\n",
              "      <td>2823</td>\n",
              "      <td>ohcv</td>\n",
              "      <td>six</td>\n",
              "      <td>152</td>\n",
              "      <td>mpfi</td>\n",
              "      <td>2.68</td>\n",
              "      <td>3.47</td>\n",
              "      <td>9.0</td>\n",
              "      <td>154</td>\n",
              "      <td>5000</td>\n",
              "      <td>19</td>\n",
              "      <td>26</td>\n",
              "      <td>16500</td>\n",
              "    </tr>\n",
              "    <tr>\n",
              "      <th>3</th>\n",
              "      <td>2</td>\n",
              "      <td>164</td>\n",
              "      <td>audi</td>\n",
              "      <td>gas</td>\n",
              "      <td>std</td>\n",
              "      <td>four</td>\n",
              "      <td>sedan</td>\n",
              "      <td>fwd</td>\n",
              "      <td>front,</td>\n",
              "      <td>99.8</td>\n",
              "      <td>176.6</td>\n",
              "      <td>66.2</td>\n",
              "      <td>54.3</td>\n",
              "      <td>2337</td>\n",
              "      <td>ohc</td>\n",
              "      <td>four</td>\n",
              "      <td>109</td>\n",
              "      <td>mpfi</td>\n",
              "      <td>3.19</td>\n",
              "      <td>3.4</td>\n",
              "      <td>10.0</td>\n",
              "      <td>102</td>\n",
              "      <td>5500</td>\n",
              "      <td>24</td>\n",
              "      <td>30</td>\n",
              "      <td>13950</td>\n",
              "    </tr>\n",
              "    <tr>\n",
              "      <th>4</th>\n",
              "      <td>2</td>\n",
              "      <td>164</td>\n",
              "      <td>audi</td>\n",
              "      <td>gas</td>\n",
              "      <td>std</td>\n",
              "      <td>four</td>\n",
              "      <td>sedan</td>\n",
              "      <td>4wd</td>\n",
              "      <td>front,front</td>\n",
              "      <td>99.4</td>\n",
              "      <td>176.6</td>\n",
              "      <td>66.4</td>\n",
              "      <td>54.3</td>\n",
              "      <td>2824</td>\n",
              "      <td>ohc</td>\n",
              "      <td>five</td>\n",
              "      <td>136</td>\n",
              "      <td>mpfi</td>\n",
              "      <td>3.19</td>\n",
              "      <td>3.4</td>\n",
              "      <td>8.0</td>\n",
              "      <td>115</td>\n",
              "      <td>5500</td>\n",
              "      <td>18</td>\n",
              "      <td>22</td>\n",
              "      <td>17450</td>\n",
              "    </tr>\n",
              "  </tbody>\n",
              "</table>\n",
              "</div>"
            ],
            "text/plain": [
              "   symboling normalized-losses         make  ... city-mpg highway-mpg  price\n",
              "0          3               NaN  alfa-romero  ...       21          27  13495\n",
              "1          3               NaN  alfa-romero  ...       21          27  16500\n",
              "2          1               NaN  alfa-romero  ...       19          26  16500\n",
              "3          2               164         audi  ...       24          30  13950\n",
              "4          2               164         audi  ...       18          22  17450\n",
              "\n",
              "[5 rows x 26 columns]"
            ]
          },
          "metadata": {},
          "execution_count": 131
        }
      ]
    },
    {
      "cell_type": "code",
      "metadata": {
        "colab": {
          "base_uri": "https://localhost:8080/",
          "height": 0
        },
        "id": "Dh_dR0-yNJxx",
        "outputId": "8b795cee-200d-428e-ad23-5f6062d31493"
      },
      "source": [
        "#Here we can see non null count <205 in some of the variables (noramlized losses, number of doors, bore, stroke, horsepower, peak rpm, price)\n",
        "df.info()"
      ],
      "execution_count": 132,
      "outputs": [
        {
          "output_type": "stream",
          "name": "stdout",
          "text": [
            "<class 'pandas.core.frame.DataFrame'>\n",
            "RangeIndex: 205 entries, 0 to 204\n",
            "Data columns (total 26 columns):\n",
            " #   Column             Non-Null Count  Dtype  \n",
            "---  ------             --------------  -----  \n",
            " 0   symboling          205 non-null    int64  \n",
            " 1   normalized-losses  164 non-null    object \n",
            " 2   make               205 non-null    object \n",
            " 3   fuel-type          205 non-null    object \n",
            " 4   aspiration         205 non-null    object \n",
            " 5   num-of-doors       203 non-null    object \n",
            " 6   body-style         205 non-null    object \n",
            " 7   drive-wheels       205 non-null    object \n",
            " 8   engine-location    205 non-null    object \n",
            " 9   wheel-base         205 non-null    float64\n",
            " 10  length             205 non-null    float64\n",
            " 11  width              205 non-null    float64\n",
            " 12  height             205 non-null    float64\n",
            " 13  curb-weight        205 non-null    int64  \n",
            " 14  engine-type        205 non-null    object \n",
            " 15  num-of-cylinders   205 non-null    object \n",
            " 16  engine-size        205 non-null    int64  \n",
            " 17  fuel-system        205 non-null    object \n",
            " 18  bore               201 non-null    object \n",
            " 19  stroke             201 non-null    object \n",
            " 20  compression-ratio  205 non-null    float64\n",
            " 21  horsepower         203 non-null    object \n",
            " 22  peak-rpm           203 non-null    object \n",
            " 23  city-mpg           205 non-null    int64  \n",
            " 24  highway-mpg        205 non-null    int64  \n",
            " 25  price              201 non-null    object \n",
            "dtypes: float64(5), int64(5), object(16)\n",
            "memory usage: 41.8+ KB\n"
          ]
        }
      ]
    },
    {
      "cell_type": "markdown",
      "metadata": {
        "id": "hBZMQ5NqlS09"
      },
      "source": [
        "## TASK 1\n",
        "##1. EXPLAIN THE DATASET SEMANTICALLY\n",
        "#### In this dataset, we see 205 *observations(rows)* of 26 *variables(columns)*\n",
        "#### This is a pretty large dataset with 205 datapoints and 26 variables to analyse\n",
        "\n",
        "\n",
        "##2. EXPLAIN THE DISTRIBUTION OF THE VARIABLES \n",
        "#### Histograms of numercial variabes are plotted to see the distribtuion of the observations and observe the outliers of each histogram.\n",
        "* Symboling- The histogram of this variable is slightly skewed to the left, it is negatively skewed. The data points range from [(-2) -  3] \n",
        "\n",
        "* Wheel-base- The histogram of the wheel base is close to symmetric, the data points are not close to each other, we can see there are variations. The data points in the variable ranges from [85 - 120]\n",
        "\n",
        "* length - The histogram shows the variable is normally distributed but there are variations among the data points as some values have high frequencies.The range of this column is 140 - 210\n",
        "\n",
        "* Width - The histogram shows a lot of data points clustered near the values 64, 66 and 68. The range of this column is 60 - 72\n",
        "\n",
        "* Height - The histogram shows the variable is normally distributed but is a concentration of values in the right which might increase the mean value. The range for this column is 40 - 60.\n",
        "\n",
        "* Curb-weight - The histogram of this variable is skewed to the right, it is positively skewed. The data points range from 1000 - 4500.\n",
        "\n",
        "* Engine-size - The histogram of this variable is skewed to the right, it is positively skewed and we can see outliers in this graph. The data points range from 50 - 250.\n",
        "\n",
        "* Compression-ratio- The histogram of this variable is strongly skewed to the right, it is positively skewed and we can see outliers in this graph. The data points range from 7 - 23.\n",
        "\n",
        "* City-mpg  - The histogram of this variable is skewed to the right, it is positively skewed and we can see outliers in this graph. The data points range from 12.5 - 50\n",
        "\n",
        "* Highway-mpg - The histogram of this variable is slightly skewed to the right, it is positively skewed. The data points range from 15 - 55\n",
        "\n",
        "\n",
        "\n",
        "\n",
        "##3. EXPLAIN HOW CLEAN OR \"DIRTY\" THE DATASET IS\n",
        "#### We can obsereve in the coding above, there are totally 8 dirty columns which need to be treated. The 8 columns are - Normalized-losses, engine-location, price, stroke, bore, num-of-doors, horsepower, peak-rpm. Most the columns have unknown values or missing values \"?\" in their columns whereas engine-location have a typo error in its column.\n",
        "\n",
        "\n",
        "##3. VISUALIZE THE DATA (HEAD AND TAIL)\n",
        "#### Dataset gives information about the characteristics and features of different makes/companies of automobiles like body style, engine location, length, height, width, number of doors and cylinders, engine size etc.\n",
        "#### While visualizing the data table, we can obserev values like the symbol-\"?\", typos (engine-location - \"front,\"). These values need to be treated before we can anaylse the dataset. \n",
        "\n",
        "\n",
        "##4. HOW MANY MISSING VALUES ARE IN THE DATASET?\n",
        "#### Up until here, we have seen the dimesnion of the datset, statistcial summary and visulazed the datable and the dataset through graphs, we also observed some missing/dirty data in the data table\n",
        "#### our next task is to see how many missing values are present. There are totally 8 columns with errors. In the list below, each column has its corresponding number of missing values \n",
        "* Normalized losses - 41\n",
        "* No of doors - 2\n",
        "* Bore - 4 \n",
        "* Stroke - 4 \n",
        "* Horsepower - 2 \n",
        "* Peak rpm - 2 \n",
        "* Price - 4  \n"
      ]
    },
    {
      "cell_type": "markdown",
      "metadata": {
        "id": "VtsU7mYPHXdb"
      },
      "source": [
        "## TASK 2 \n",
        "\n",
        "### questions answered in this task:\n",
        "\n",
        "1.   DETECT & CORRECT ERRORS IN THE DATA\n",
        "2.   ANALYZE EACH VARIABLE & IDENTIFY MISSING VALUES, OUTLIERS, TYPOS & SYBMOLS\n",
        "3. EXPLAIN WHAT PROBLEMS YOU FOUND IN THESE COLOUMNS \n",
        "4. EXPLAIN DATA CLEANSING STRATEGIES SUITABLE FOR THESE COLUMNS \n",
        "5. CHOOSE 3 VARIABLES TO PERFORM DATA CLEANSING \n",
        "5. DISPLAY THE RESULTS OF YOUR CLEANED UP COLUMNS \n",
        "\n",
        "\n"
      ]
    },
    {
      "cell_type": "code",
      "metadata": {
        "colab": {
          "base_uri": "https://localhost:8080/",
          "height": 0
        },
        "id": "PNRHNQ4sQJk4",
        "outputId": "b539eea0-8284-4f8d-ca27-0f6c3a46d178"
      },
      "source": [
        "# after replacing, we can now see the number of missing valuee for the columns \n",
        "df.isnull(). sum()"
      ],
      "execution_count": 135,
      "outputs": [
        {
          "output_type": "execute_result",
          "data": {
            "text/plain": [
              "symboling             0\n",
              "normalized-losses    41\n",
              "make                  0\n",
              "fuel-type             0\n",
              "aspiration            0\n",
              "num-of-doors          2\n",
              "body-style            0\n",
              "drive-wheels          0\n",
              "engine-location       0\n",
              "wheel-base            0\n",
              "length                0\n",
              "width                 0\n",
              "height                0\n",
              "curb-weight           0\n",
              "engine-type           0\n",
              "num-of-cylinders      0\n",
              "engine-size           0\n",
              "fuel-system           0\n",
              "bore                  4\n",
              "stroke                4\n",
              "compression-ratio     0\n",
              "horsepower            2\n",
              "peak-rpm              2\n",
              "city-mpg              0\n",
              "highway-mpg           0\n",
              "price                 4\n",
              "dtype: int64"
            ]
          },
          "metadata": {},
          "execution_count": 135
        }
      ]
    },
    {
      "cell_type": "code",
      "metadata": {
        "colab": {
          "base_uri": "https://localhost:8080/",
          "height": 0
        },
        "id": "n4dRdyo4Sj5e",
        "outputId": "65787b9a-42ab-4434-fbec-a91fb09c4614"
      },
      "source": [
        "# colnames is used to call all the column names of the dataset\n",
        "ColNames=df.columns.values\n",
        "print(ColNames)"
      ],
      "execution_count": 119,
      "outputs": [
        {
          "output_type": "stream",
          "name": "stdout",
          "text": [
            "['symboling' 'normalized-losses' 'make' 'fuel-type' 'aspiration'\n",
            " 'num-of-doors' 'body-style' 'drive-wheels' 'engine-location' 'wheel-base'\n",
            " 'length' 'width' 'height' 'curb-weight' 'engine-type' 'num-of-cylinders'\n",
            " 'engine-size' 'fuel-system' 'bore' 'stroke' 'compression-ratio'\n",
            " 'horsepower' 'peak-rpm' 'city-mpg' 'highway-mpg' 'price']\n"
          ]
        }
      ]
    },
    {
      "cell_type": "code",
      "metadata": {
        "colab": {
          "base_uri": "https://localhost:8080/",
          "height": 0
        },
        "id": "QkP2q7JxSvTN",
        "outputId": "69a1fec9-d4e4-468e-d312-b4a697d6404b"
      },
      "source": [
        "# To cjheck if there are any errors, missing values, typos or symbols, unique function is called\n",
        "df.symboling.unique()\n"
      ],
      "execution_count": 136,
      "outputs": [
        {
          "output_type": "execute_result",
          "data": {
            "text/plain": [
              "array([ 3,  1,  2,  0, -1, -2])"
            ]
          },
          "metadata": {},
          "execution_count": 136
        }
      ]
    },
    {
      "cell_type": "code",
      "metadata": {
        "colab": {
          "base_uri": "https://localhost:8080/",
          "height": 0
        },
        "id": "R2xDOoKMepT2",
        "outputId": "16bbd043-ac55-4419-9936-ba5d2974d84e"
      },
      "source": [
        "df.height.unique()"
      ],
      "execution_count": 137,
      "outputs": [
        {
          "output_type": "execute_result",
          "data": {
            "text/plain": [
              "array([48.8, 52.4, 54.3, 53.1, 55.7, 55.9, 52. , 53.7, 56.3, 53.2, 50.8,\n",
              "       50.6, 59.8, 50.2, 52.6, 54.5, 58.3, 53.3, 54.1, 51. , 53.5, 51.4,\n",
              "       52.8, 47.8, 49.6, 55.5, 54.4, 56.5, 58.7, 54.9, 56.7, 55.4, 54.8,\n",
              "       49.4, 51.6, 54.7, 55.1, 56.1, 49.7, 56. , 50.5, 55.2, 52.5, 53. ,\n",
              "       59.1, 53.9, 55.6, 56.2, 57.5])"
            ]
          },
          "metadata": {},
          "execution_count": 137
        }
      ]
    },
    {
      "cell_type": "code",
      "metadata": {
        "colab": {
          "base_uri": "https://localhost:8080/",
          "height": 0
        },
        "id": "PBgE-4HL_Zs2",
        "outputId": "509d3724-5acf-489f-a76d-68956b683f75"
      },
      "source": [
        "df.make.unique()"
      ],
      "execution_count": 138,
      "outputs": [
        {
          "output_type": "execute_result",
          "data": {
            "text/plain": [
              "array(['alfa-romero', 'audi', 'bmw', 'chevrolet', 'dodge', 'honda',\n",
              "       'isuzu', 'jaguar', 'mazda', 'mercedes-benz', 'mercury',\n",
              "       'mitsubishi', 'nissan', 'peugot', 'plymouth', 'porsche', 'renault',\n",
              "       'saab', 'subaru', 'toyota', 'volkswagen', 'volvo'], dtype=object)"
            ]
          },
          "metadata": {},
          "execution_count": 138
        }
      ]
    },
    {
      "cell_type": "code",
      "metadata": {
        "colab": {
          "base_uri": "https://localhost:8080/",
          "height": 0
        },
        "id": "YsRIG_WnARK7",
        "outputId": "dfab0244-f55e-411a-8df3-b7f69266830f"
      },
      "source": [
        "df.aspiration.unique()"
      ],
      "execution_count": 139,
      "outputs": [
        {
          "output_type": "execute_result",
          "data": {
            "text/plain": [
              "array(['std', 'turbo'], dtype=object)"
            ]
          },
          "metadata": {},
          "execution_count": 139
        }
      ]
    },
    {
      "cell_type": "code",
      "metadata": {
        "colab": {
          "base_uri": "https://localhost:8080/",
          "height": 0
        },
        "id": "6RpGzsoSAfHc",
        "outputId": "0a8b0ede-966c-4038-bb0d-e4cbd68a64be"
      },
      "source": [
        "df.length.unique()"
      ],
      "execution_count": 140,
      "outputs": [
        {
          "output_type": "execute_result",
          "data": {
            "text/plain": [
              "array([168.8, 171.2, 176.6, 177.3, 192.7, 178.2, 176.8, 189. , 193.8,\n",
              "       197. , 141.1, 155.9, 158.8, 157.3, 174.6, 173.2, 144.6, 150. ,\n",
              "       163.4, 157.1, 167.5, 175.4, 169.1, 170.7, 172.6, 199.6, 191.7,\n",
              "       159.1, 166.8, 169. , 177.8, 175. , 190.9, 187.5, 202.6, 180.3,\n",
              "       208.1, 199.2, 178.4, 173. , 172.4, 165.3, 170.2, 165.6, 162.4,\n",
              "       173.4, 181.7, 184.6, 178.5, 186.7, 198.9, 167.3, 168.9, 175.7,\n",
              "       181.5, 186.6, 156.9, 157.9, 172. , 173.5, 173.6, 158.7, 169.7,\n",
              "       166.3, 168.7, 176.2, 175.6, 183.5, 187.8, 171.7, 159.3, 165.7,\n",
              "       180.2, 183.1, 188.8])"
            ]
          },
          "metadata": {},
          "execution_count": 140
        }
      ]
    },
    {
      "cell_type": "code",
      "metadata": {
        "colab": {
          "base_uri": "https://localhost:8080/",
          "height": 0
        },
        "id": "qh0CJWl0A0yt",
        "outputId": "32072a2e-4e76-489e-d2bb-f749fc6775be"
      },
      "source": [
        "df[\"num-of-doors\"].unique()"
      ],
      "execution_count": 141,
      "outputs": [
        {
          "output_type": "execute_result",
          "data": {
            "text/plain": [
              "array(['two', 'four', nan], dtype=object)"
            ]
          },
          "metadata": {},
          "execution_count": 141
        }
      ]
    },
    {
      "cell_type": "code",
      "metadata": {
        "colab": {
          "base_uri": "https://localhost:8080/",
          "height": 0
        },
        "id": "4ayicPF7A5FH",
        "outputId": "cea1b984-104f-4463-ab59-4a1f13e9fcb9"
      },
      "source": [
        "df[\"normalized-losses\"].unique()"
      ],
      "execution_count": 142,
      "outputs": [
        {
          "output_type": "execute_result",
          "data": {
            "text/plain": [
              "array([nan, '164', '158', '192', '188', '121', '98', '81', '118', '148',\n",
              "       '110', '145', '137', '101', '78', '106', '85', '107', '104', '113',\n",
              "       '150', '129', '115', '93', '142', '161', '153', '125', '128',\n",
              "       '122', '103', '168', '108', '194', '231', '119', '154', '74',\n",
              "       '186', '83', '102', '89', '87', '77', '91', '134', '65', '197',\n",
              "       '90', '94', '256', '95'], dtype=object)"
            ]
          },
          "metadata": {},
          "execution_count": 142
        }
      ]
    },
    {
      "cell_type": "code",
      "metadata": {
        "colab": {
          "base_uri": "https://localhost:8080/",
          "height": 0
        },
        "id": "WENI_VasA97V",
        "outputId": "751bddd5-8462-4990-8103-d8eff69819ac"
      },
      "source": [
        "df[\"engine-location\"].unique()"
      ],
      "execution_count": 143,
      "outputs": [
        {
          "output_type": "execute_result",
          "data": {
            "text/plain": [
              "array(['front[front]', 'front?', 'front,', 'front,front', 'front, ',\n",
              "       'front[engine]', 'front[location]', 'front', 'rear[end]', 'font'],\n",
              "      dtype=object)"
            ]
          },
          "metadata": {},
          "execution_count": 143
        }
      ]
    },
    {
      "cell_type": "code",
      "metadata": {
        "colab": {
          "base_uri": "https://localhost:8080/",
          "height": 0
        },
        "id": "Up66SM5BBGl5",
        "outputId": "d918a8e8-2f9f-4572-a48f-99f4c356b7c1"
      },
      "source": [
        "df[\"engine-size\"].unique()"
      ],
      "execution_count": 144,
      "outputs": [
        {
          "output_type": "execute_result",
          "data": {
            "text/plain": [
              "array([130, 152, 109, 136, 131, 108, 164, 209,  61,  90,  98, 122, 156,\n",
              "        92,  79, 110, 111, 119, 258, 326,  91,  70,  80, 140, 134, 183,\n",
              "       234, 308, 304,  97, 103, 120, 181, 151, 194, 203, 132, 121, 146,\n",
              "       171, 161, 141, 173, 145])"
            ]
          },
          "metadata": {},
          "execution_count": 144
        }
      ]
    },
    {
      "cell_type": "code",
      "metadata": {
        "colab": {
          "base_uri": "https://localhost:8080/",
          "height": 0
        },
        "id": "KZJWZv2bBLwN",
        "outputId": "c965da28-a008-40cb-b31f-22d606e02106"
      },
      "source": [
        "df.width.unique()"
      ],
      "execution_count": 145,
      "outputs": [
        {
          "output_type": "execute_result",
          "data": {
            "text/plain": [
              "array([64.1, 65.5, 66.2, 66.4, 66.3, 71.4, 67.9, 64.8, 66.9, 70.9, 60.3,\n",
              "       63.6, 63.8, 64.6, 63.9, 64. , 65.2, 62.5, 66. , 61.8, 69.6, 70.6,\n",
              "       64.2, 65.7, 66.5, 66.1, 70.3, 71.7, 70.5, 72. , 68. , 64.4, 65.4,\n",
              "       68.4, 68.3, 65. , 72.3, 66.6, 63.4, 65.6, 67.7, 67.2, 68.9, 68.8])"
            ]
          },
          "metadata": {},
          "execution_count": 145
        }
      ]
    },
    {
      "cell_type": "code",
      "metadata": {
        "colab": {
          "base_uri": "https://localhost:8080/",
          "height": 0
        },
        "id": "gTiTeUjLBQVl",
        "outputId": "cab5ad42-1286-49bb-823d-035786021932"
      },
      "source": [
        "df.price.unique()"
      ],
      "execution_count": 146,
      "outputs": [
        {
          "output_type": "execute_result",
          "data": {
            "text/plain": [
              "array(['13495', '16500', '13950', '17450', '15250', '17710', '18920',\n",
              "       '23875', nan, '16430', '16925', '20970', '21105', '24565', '30760',\n",
              "       '41315', '36880', '5151', '6295', '6575', '5572', '6377', '7957',\n",
              "       '6229', '6692', '7609', '8558', '8921', '12964', '6479', '6855',\n",
              "       '5399', '6529', '7129', '7295', '7895', '9095', '8845', '10295',\n",
              "       '12945', '10345', '6785', '11048', '32250', '35550', '36000',\n",
              "       '5195', '6095', '6795', '6695', '7395', '10945', '11845', '13645',\n",
              "       '15645', '8495', '10595', '10245', '10795', '11245', '18280',\n",
              "       '18344', '25552', '28248', '28176', '31600', '34184', '35056',\n",
              "       '40960', '45400', '16503', '5389', '6189', '6669', '7689', '9959',\n",
              "       '8499', '12629', '14869', '14489', '6989', '8189', '9279', '5499',\n",
              "       '7099', '6649', '6849', '7349', '7299', '7799', '7499', '7999',\n",
              "       '8249', '8949', '9549', '13499', '14399', '17199', '19699',\n",
              "       '18399', '11900', '13200', '12440', '13860', '15580', '16900',\n",
              "       '16695', '17075', '16630', '17950', '18150', '12764', '22018',\n",
              "       '32528', '34028', '37028', '9295', '9895', '11850', '12170',\n",
              "       '15040', '15510', '18620', '5118', '7053', '7603', '7126', '7775',\n",
              "       '9960', '9233', '11259', '7463', '10198', '8013', '11694', '5348',\n",
              "       '6338', '6488', '6918', '7898', '8778', '6938', '7198', '7788',\n",
              "       '7738', '8358', '9258', '8058', '8238', '9298', '9538', '8449',\n",
              "       '9639', '9989', '11199', '11549', '17669', '8948', '10698', '9988',\n",
              "       '10898', '11248', '16558', '15998', '15690', '15750', '7975',\n",
              "       '7995', '8195', '9495', '9995', '11595', '9980', '13295', '13845',\n",
              "       '12290', '12940', '13415', '15985', '16515', '18420', '18950',\n",
              "       '16845', '19045', '21485', '22470', '22625'], dtype=object)"
            ]
          },
          "metadata": {},
          "execution_count": 146
        }
      ]
    },
    {
      "cell_type": "code",
      "metadata": {
        "colab": {
          "base_uri": "https://localhost:8080/",
          "height": 0
        },
        "id": "NXysx211BdNi",
        "outputId": "ebd0319e-8907-45af-cc0e-56f291fbdb7b"
      },
      "source": [
        "df['fuel-type'].unique()      "
      ],
      "execution_count": 147,
      "outputs": [
        {
          "output_type": "execute_result",
          "data": {
            "text/plain": [
              "array(['gas', 'diesel'], dtype=object)"
            ]
          },
          "metadata": {},
          "execution_count": 147
        }
      ]
    },
    {
      "cell_type": "code",
      "metadata": {
        "colab": {
          "base_uri": "https://localhost:8080/",
          "height": 0
        },
        "id": "Yl3U-3h4CWGr",
        "outputId": "056443f4-c19f-45d2-b425-48c3dd9de8c7"
      },
      "source": [
        "df['body-style'].unique()"
      ],
      "execution_count": 148,
      "outputs": [
        {
          "output_type": "execute_result",
          "data": {
            "text/plain": [
              "array(['convertible', 'hatchback', 'sedan', 'wagon', 'hardtop'],\n",
              "      dtype=object)"
            ]
          },
          "metadata": {},
          "execution_count": 148
        }
      ]
    },
    {
      "cell_type": "code",
      "metadata": {
        "colab": {
          "base_uri": "https://localhost:8080/",
          "height": 0
        },
        "id": "B_5a9LarCfKF",
        "outputId": "5230b63c-a65a-4474-b385-e2bb5624bc8d"
      },
      "source": [
        "df['drive-wheels'].unique()"
      ],
      "execution_count": 149,
      "outputs": [
        {
          "output_type": "execute_result",
          "data": {
            "text/plain": [
              "array(['rwd', 'fwd', '4wd'], dtype=object)"
            ]
          },
          "metadata": {},
          "execution_count": 149
        }
      ]
    },
    {
      "cell_type": "code",
      "metadata": {
        "colab": {
          "base_uri": "https://localhost:8080/",
          "height": 0
        },
        "id": "PmM-xJ1ACkjb",
        "outputId": "dfaf422f-c9a9-4bf5-9fab-b9d02632b572"
      },
      "source": [
        "df['wheel-base'].unique()"
      ],
      "execution_count": 150,
      "outputs": [
        {
          "output_type": "execute_result",
          "data": {
            "text/plain": [
              "array([ 88.6,  94.5,  99.8,  99.4, 105.8,  99.5, 101.2, 103.5, 110. ,\n",
              "        88.4,  93.7, 103.3,  95.9,  86.6,  96.5,  94.3,  96. , 113. ,\n",
              "       102. ,  93.1,  95.3,  98.8, 104.9, 106.7, 115.6,  96.6, 120.9,\n",
              "       112. , 102.7,  93. ,  96.3,  95.1,  97.2, 100.4,  91.3,  99.2,\n",
              "       107.9, 114.2, 108. ,  89.5,  98.4,  96.1,  99.1,  93.3,  97. ,\n",
              "        96.9,  95.7, 102.4, 102.9, 104.5,  97.3, 104.3, 109.1])"
            ]
          },
          "metadata": {},
          "execution_count": 150
        }
      ]
    },
    {
      "cell_type": "code",
      "metadata": {
        "colab": {
          "base_uri": "https://localhost:8080/",
          "height": 0
        },
        "id": "EtH4p_1tCrm_",
        "outputId": "20602cac-e1ae-491c-8efb-e13e716fa621"
      },
      "source": [
        "df['curb-weight'].unique()"
      ],
      "execution_count": 151,
      "outputs": [
        {
          "output_type": "execute_result",
          "data": {
            "text/plain": [
              "array([2548, 2823, 2337, 2824, 2507, 2844, 2954, 3086, 3053, 2395, 2710,\n",
              "       2765, 3055, 3230, 3380, 3505, 1488, 1874, 1909, 1876, 2128, 1967,\n",
              "       1989, 2191, 2535, 2811, 1713, 1819, 1837, 1940, 1956, 2010, 2024,\n",
              "       2236, 2289, 2304, 2372, 2465, 2293, 2734, 4066, 3950, 1890, 1900,\n",
              "       1905, 1945, 1950, 2380, 2385, 2500, 2410, 2443, 2425, 2670, 2700,\n",
              "       3515, 3750, 3495, 3770, 3740, 3685, 3900, 3715, 2910, 1918, 1944,\n",
              "       2004, 2145, 2370, 2328, 2833, 2921, 2926, 2365, 2405, 2403, 1889,\n",
              "       2017, 1938, 1951, 2028, 1971, 2037, 2008, 2324, 2302, 3095, 3296,\n",
              "       3060, 3071, 3139, 3020, 3197, 3430, 3075, 3252, 3285, 3485, 3130,\n",
              "       2818, 2778, 2756, 2800, 3366, 2579, 2460, 2658, 2695, 2707, 2758,\n",
              "       2808, 2847, 2050, 2120, 2240, 2190, 2340, 2510, 2290, 2455, 2420,\n",
              "       2650, 1985, 2040, 2015, 2280, 3110, 2081, 2109, 2275, 2094, 2122,\n",
              "       2140, 2169, 2204, 2265, 2300, 2540, 2536, 2551, 2679, 2714, 2975,\n",
              "       2326, 2480, 2414, 2458, 2976, 3016, 3131, 3151, 2261, 2209, 2264,\n",
              "       2212, 2319, 2254, 2221, 2661, 2563, 2912, 3034, 2935, 3042, 3045,\n",
              "       3157, 2952, 3049, 3012, 3217, 3062])"
            ]
          },
          "metadata": {},
          "execution_count": 151
        }
      ]
    },
    {
      "cell_type": "code",
      "metadata": {
        "colab": {
          "base_uri": "https://localhost:8080/",
          "height": 0
        },
        "id": "-LEWX0j3CyQU",
        "outputId": "0e915f2c-10c4-4b75-b7d8-4d374a242e99"
      },
      "source": [
        "df['engine-type'].unique()"
      ],
      "execution_count": 152,
      "outputs": [
        {
          "output_type": "execute_result",
          "data": {
            "text/plain": [
              "array(['dohc', 'ohcv', 'ohc', 'l', 'rotor', 'ohcf', 'dohcv'], dtype=object)"
            ]
          },
          "metadata": {},
          "execution_count": 152
        }
      ]
    },
    {
      "cell_type": "code",
      "metadata": {
        "colab": {
          "base_uri": "https://localhost:8080/",
          "height": 0
        },
        "id": "Xce-kDhmC37p",
        "outputId": "4b4e0e53-2833-4187-df04-d35befb7b21a"
      },
      "source": [
        "df['num-of-cylinders'].unique()"
      ],
      "execution_count": 153,
      "outputs": [
        {
          "output_type": "execute_result",
          "data": {
            "text/plain": [
              "array(['four', 'six', 'five', 'three', 'twelve', 'two', 'eight', 'for'],\n",
              "      dtype=object)"
            ]
          },
          "metadata": {},
          "execution_count": 153
        }
      ]
    },
    {
      "cell_type": "code",
      "metadata": {
        "colab": {
          "base_uri": "https://localhost:8080/",
          "height": 0
        },
        "id": "idkyRoz-C89J",
        "outputId": "0fea242a-b403-4138-e538-62c8e1e8e463"
      },
      "source": [
        "df['fuel-system'].unique()"
      ],
      "execution_count": 154,
      "outputs": [
        {
          "output_type": "execute_result",
          "data": {
            "text/plain": [
              "array(['mpfi', '2bbl', 'mfi', '1bbl', 'spfi', '4bbl', 'idi', 'spdi'],\n",
              "      dtype=object)"
            ]
          },
          "metadata": {},
          "execution_count": 154
        }
      ]
    },
    {
      "cell_type": "code",
      "metadata": {
        "colab": {
          "base_uri": "https://localhost:8080/",
          "height": 0
        },
        "id": "zY4eg333DAbc",
        "outputId": "57fedde3-5abf-4128-c6bf-3afd332a877c"
      },
      "source": [
        "df['bore'].unique()"
      ],
      "execution_count": 155,
      "outputs": [
        {
          "output_type": "execute_result",
          "data": {
            "text/plain": [
              "array(['3.47', '2.68', '3.19', '3.13', '3.5', '3.31', '3.62', '2.91',\n",
              "       '3.03', '2.97', '3.34', '3.6', '2.92', '3.15', '3.43', '3.63',\n",
              "       '3.54', '3.08', nan, '3.39', '3.76', '3.58', '3.46', '3.8', '3.78',\n",
              "       '3.17', '3.35', '3.59', '2.99', '3.33', '3.7', '3.61', '3.94',\n",
              "       '3.74', '2.54', '3.05', '3.27', '3.24', '3.01'], dtype=object)"
            ]
          },
          "metadata": {},
          "execution_count": 155
        }
      ]
    },
    {
      "cell_type": "code",
      "metadata": {
        "colab": {
          "base_uri": "https://localhost:8080/",
          "height": 0
        },
        "id": "ZzUDuNs9DEhc",
        "outputId": "65fbfd38-9105-446e-847f-0d269655c43d"
      },
      "source": [
        "df['stroke'].unique()"
      ],
      "execution_count": 156,
      "outputs": [
        {
          "output_type": "execute_result",
          "data": {
            "text/plain": [
              "array(['2.68', '3.47', '3.4', '2.8', '3.19', '3.39', '3.03', '3.11',\n",
              "       '3.23', '3.46', '3.9', '3.41', '3.07', '3.58', '4.17', '2.76',\n",
              "       '3.15', nan, '3.16', '3.64', '3.1', '3.35', '3.12', '3.86', '3.29',\n",
              "       '3.27', '3.52', '2.19', '3.21', '2.9', '2.07', '2.36', '2.64',\n",
              "       '3.08', '3.5', '3.54', '2.87'], dtype=object)"
            ]
          },
          "metadata": {},
          "execution_count": 156
        }
      ]
    },
    {
      "cell_type": "code",
      "metadata": {
        "colab": {
          "base_uri": "https://localhost:8080/",
          "height": 0
        },
        "id": "DG1kP9s1DIOJ",
        "outputId": "57d530c8-1502-4d39-dffe-1ff479e5109f"
      },
      "source": [
        "df['compression-ratio'].unique()"
      ],
      "execution_count": 157,
      "outputs": [
        {
          "output_type": "execute_result",
          "data": {
            "text/plain": [
              "array([ 9.  , 10.  ,  8.  ,  8.5 ,  8.3 ,  7.  ,  8.8 ,  9.5 ,  9.6 ,\n",
              "        9.41,  9.4 ,  7.6 ,  9.2 , 10.1 ,  9.1 ,  8.1 , 11.5 ,  8.6 ,\n",
              "       22.7 , 22.  , 21.5 ,  7.5 , 21.9 ,  7.8 ,  8.4 , 21.  ,  8.7 ,\n",
              "        9.31,  9.3 ,  7.7 , 22.5 , 23.  ])"
            ]
          },
          "metadata": {},
          "execution_count": 157
        }
      ]
    },
    {
      "cell_type": "code",
      "metadata": {
        "colab": {
          "base_uri": "https://localhost:8080/",
          "height": 0
        },
        "id": "CV3xwYbkDMFs",
        "outputId": "d1556c0d-2bd6-44d0-c890-63a2b06d1b25"
      },
      "source": [
        "df['horsepower'].unique()"
      ],
      "execution_count": 158,
      "outputs": [
        {
          "output_type": "execute_result",
          "data": {
            "text/plain": [
              "array(['111', '154', '102', '115', '110', '140', '160', '101', '121',\n",
              "       '182', '48', '70', '68', '88', '145', '58', '76', '60', '86',\n",
              "       '100', '78', '90', '176', '262', '135', '84', '64', '120', '72',\n",
              "       '123', '155', '184', '175', '116', '69', '55', '97', '152', '200',\n",
              "       '95', '142', '143', '207', '288', nan, '73', '82', '94', '62',\n",
              "       '56', '112', '92', '161', '156', '52', '85', '114', '162', '134',\n",
              "       '106'], dtype=object)"
            ]
          },
          "metadata": {},
          "execution_count": 158
        }
      ]
    },
    {
      "cell_type": "code",
      "metadata": {
        "colab": {
          "base_uri": "https://localhost:8080/",
          "height": 0
        },
        "id": "Nli_wGobDQHy",
        "outputId": "1aec9cb3-db4b-4692-bffd-40d02aec631d"
      },
      "source": [
        "df['peak-rpm'].unique()"
      ],
      "execution_count": 159,
      "outputs": [
        {
          "output_type": "execute_result",
          "data": {
            "text/plain": [
              "array(['5000', '5500', '5800', '4250', '5400', '5100', '4800', '6000',\n",
              "       '4750', '4650', '4200', '4350', '4500', '5200', '4150', '5600',\n",
              "       '5900', '5750', nan, '5250', '4900', '4400', '6600', '5300'],\n",
              "      dtype=object)"
            ]
          },
          "metadata": {},
          "execution_count": 159
        }
      ]
    },
    {
      "cell_type": "code",
      "metadata": {
        "colab": {
          "base_uri": "https://localhost:8080/",
          "height": 0
        },
        "id": "pxBKRdGWDVEQ",
        "outputId": "9f0451ac-f552-4fcb-8a54-537b433da946"
      },
      "source": [
        "df['city-mpg'].unique()"
      ],
      "execution_count": 160,
      "outputs": [
        {
          "output_type": "execute_result",
          "data": {
            "text/plain": [
              "array([21, 19, 24, 18, 17, 16, 23, 20, 15, 47, 38, 37, 31, 49, 30, 27, 25,\n",
              "       13, 26, 36, 22, 14, 45, 28, 32, 35, 34, 29, 33])"
            ]
          },
          "metadata": {},
          "execution_count": 160
        }
      ]
    },
    {
      "cell_type": "code",
      "metadata": {
        "colab": {
          "base_uri": "https://localhost:8080/",
          "height": 0
        },
        "id": "lZz4IP3nDZNe",
        "outputId": "931c8020-f9e9-40fb-e459-d69d2a505a74"
      },
      "source": [
        "df['highway-mpg'].unique()"
      ],
      "execution_count": 161,
      "outputs": [
        {
          "output_type": "execute_result",
          "data": {
            "text/plain": [
              "array([27, 26, 30, 22, 25, 20, 29, 28, 53, 43, 41, 38, 24, 54, 42, 34, 33,\n",
              "       31, 19, 17, 23, 32, 39, 18, 16, 37, 50, 36, 47, 46])"
            ]
          },
          "metadata": {},
          "execution_count": 161
        }
      ]
    },
    {
      "cell_type": "code",
      "metadata": {
        "colab": {
          "base_uri": "https://localhost:8080/",
          "height": 0
        },
        "id": "fJqIBowGhVtG",
        "outputId": "5372b099-561c-47ea-de48-04c95bf52ea6"
      },
      "source": [
        "df.loc[4]"
      ],
      "execution_count": 163,
      "outputs": [
        {
          "output_type": "execute_result",
          "data": {
            "text/plain": [
              "symboling                      2\n",
              "normalized-losses            164\n",
              "make                        audi\n",
              "fuel-type                    gas\n",
              "aspiration                   std\n",
              "num-of-doors                four\n",
              "body-style                 sedan\n",
              "drive-wheels                 4wd\n",
              "engine-location      front,front\n",
              "wheel-base                  99.4\n",
              "length                     176.6\n",
              "width                       66.4\n",
              "height                      54.3\n",
              "curb-weight                 2824\n",
              "engine-type                  ohc\n",
              "num-of-cylinders            five\n",
              "engine-size                  136\n",
              "fuel-system                 mpfi\n",
              "bore                        3.19\n",
              "stroke                       3.4\n",
              "compression-ratio              8\n",
              "horsepower                   115\n",
              "peak-rpm                    5500\n",
              "city-mpg                      18\n",
              "highway-mpg                   22\n",
              "price                      17450\n",
              "Name: 4, dtype: object"
            ]
          },
          "metadata": {},
          "execution_count": 163
        }
      ]
    },
    {
      "cell_type": "code",
      "metadata": {
        "colab": {
          "base_uri": "https://localhost:8080/",
          "height": 0
        },
        "id": "7DBlI2ejSOZP",
        "outputId": "95b681c0-2852-4e22-8fb2-cb5f41b033ed"
      },
      "source": [
        "# another method to call the numer of missing values is the count and isna. function \n",
        "count = df[\"normalized-losses\"].isna().sum()\n",
        "print(count)"
      ],
      "execution_count": 164,
      "outputs": [
        {
          "output_type": "stream",
          "name": "stdout",
          "text": [
            "41\n"
          ]
        }
      ]
    },
    {
      "cell_type": "code",
      "metadata": {
        "colab": {
          "base_uri": "https://localhost:8080/",
          "height": 960
        },
        "id": "rioairoZ5N3G",
        "outputId": "84b82850-3f8d-40df-e9c7-3a906cebae66"
      },
      "source": [
        "df.head(20).T"
      ],
      "execution_count": 165,
      "outputs": [
        {
          "output_type": "execute_result",
          "data": {
            "text/html": [
              "<div>\n",
              "<style scoped>\n",
              "    .dataframe tbody tr th:only-of-type {\n",
              "        vertical-align: middle;\n",
              "    }\n",
              "\n",
              "    .dataframe tbody tr th {\n",
              "        vertical-align: top;\n",
              "    }\n",
              "\n",
              "    .dataframe thead th {\n",
              "        text-align: right;\n",
              "    }\n",
              "</style>\n",
              "<table border=\"1\" class=\"dataframe\">\n",
              "  <thead>\n",
              "    <tr style=\"text-align: right;\">\n",
              "      <th></th>\n",
              "      <th>0</th>\n",
              "      <th>1</th>\n",
              "      <th>2</th>\n",
              "      <th>3</th>\n",
              "      <th>4</th>\n",
              "      <th>5</th>\n",
              "      <th>6</th>\n",
              "      <th>7</th>\n",
              "      <th>8</th>\n",
              "      <th>9</th>\n",
              "      <th>10</th>\n",
              "      <th>11</th>\n",
              "      <th>12</th>\n",
              "      <th>13</th>\n",
              "      <th>14</th>\n",
              "      <th>15</th>\n",
              "      <th>16</th>\n",
              "      <th>17</th>\n",
              "      <th>18</th>\n",
              "      <th>19</th>\n",
              "    </tr>\n",
              "  </thead>\n",
              "  <tbody>\n",
              "    <tr>\n",
              "      <th>symboling</th>\n",
              "      <td>3</td>\n",
              "      <td>3</td>\n",
              "      <td>1</td>\n",
              "      <td>2</td>\n",
              "      <td>2</td>\n",
              "      <td>2</td>\n",
              "      <td>1</td>\n",
              "      <td>1</td>\n",
              "      <td>1</td>\n",
              "      <td>0</td>\n",
              "      <td>2</td>\n",
              "      <td>0</td>\n",
              "      <td>0</td>\n",
              "      <td>0</td>\n",
              "      <td>1</td>\n",
              "      <td>0</td>\n",
              "      <td>0</td>\n",
              "      <td>0</td>\n",
              "      <td>2</td>\n",
              "      <td>1</td>\n",
              "    </tr>\n",
              "    <tr>\n",
              "      <th>normalized-losses</th>\n",
              "      <td>NaN</td>\n",
              "      <td>NaN</td>\n",
              "      <td>NaN</td>\n",
              "      <td>164</td>\n",
              "      <td>164</td>\n",
              "      <td>NaN</td>\n",
              "      <td>158</td>\n",
              "      <td>NaN</td>\n",
              "      <td>158</td>\n",
              "      <td>NaN</td>\n",
              "      <td>192</td>\n",
              "      <td>192</td>\n",
              "      <td>188</td>\n",
              "      <td>188</td>\n",
              "      <td>NaN</td>\n",
              "      <td>NaN</td>\n",
              "      <td>NaN</td>\n",
              "      <td>NaN</td>\n",
              "      <td>121</td>\n",
              "      <td>98</td>\n",
              "    </tr>\n",
              "    <tr>\n",
              "      <th>make</th>\n",
              "      <td>alfa-romero</td>\n",
              "      <td>alfa-romero</td>\n",
              "      <td>alfa-romero</td>\n",
              "      <td>audi</td>\n",
              "      <td>audi</td>\n",
              "      <td>audi</td>\n",
              "      <td>audi</td>\n",
              "      <td>audi</td>\n",
              "      <td>audi</td>\n",
              "      <td>audi</td>\n",
              "      <td>bmw</td>\n",
              "      <td>bmw</td>\n",
              "      <td>bmw</td>\n",
              "      <td>bmw</td>\n",
              "      <td>bmw</td>\n",
              "      <td>bmw</td>\n",
              "      <td>bmw</td>\n",
              "      <td>bmw</td>\n",
              "      <td>chevrolet</td>\n",
              "      <td>chevrolet</td>\n",
              "    </tr>\n",
              "    <tr>\n",
              "      <th>fuel-type</th>\n",
              "      <td>gas</td>\n",
              "      <td>gas</td>\n",
              "      <td>gas</td>\n",
              "      <td>gas</td>\n",
              "      <td>gas</td>\n",
              "      <td>gas</td>\n",
              "      <td>gas</td>\n",
              "      <td>gas</td>\n",
              "      <td>gas</td>\n",
              "      <td>gas</td>\n",
              "      <td>gas</td>\n",
              "      <td>gas</td>\n",
              "      <td>gas</td>\n",
              "      <td>gas</td>\n",
              "      <td>gas</td>\n",
              "      <td>gas</td>\n",
              "      <td>gas</td>\n",
              "      <td>gas</td>\n",
              "      <td>gas</td>\n",
              "      <td>gas</td>\n",
              "    </tr>\n",
              "    <tr>\n",
              "      <th>aspiration</th>\n",
              "      <td>std</td>\n",
              "      <td>std</td>\n",
              "      <td>std</td>\n",
              "      <td>std</td>\n",
              "      <td>std</td>\n",
              "      <td>std</td>\n",
              "      <td>std</td>\n",
              "      <td>std</td>\n",
              "      <td>turbo</td>\n",
              "      <td>turbo</td>\n",
              "      <td>std</td>\n",
              "      <td>std</td>\n",
              "      <td>std</td>\n",
              "      <td>std</td>\n",
              "      <td>std</td>\n",
              "      <td>std</td>\n",
              "      <td>std</td>\n",
              "      <td>std</td>\n",
              "      <td>std</td>\n",
              "      <td>std</td>\n",
              "    </tr>\n",
              "    <tr>\n",
              "      <th>num-of-doors</th>\n",
              "      <td>two</td>\n",
              "      <td>two</td>\n",
              "      <td>two</td>\n",
              "      <td>four</td>\n",
              "      <td>four</td>\n",
              "      <td>two</td>\n",
              "      <td>four</td>\n",
              "      <td>four</td>\n",
              "      <td>four</td>\n",
              "      <td>two</td>\n",
              "      <td>two</td>\n",
              "      <td>four</td>\n",
              "      <td>two</td>\n",
              "      <td>four</td>\n",
              "      <td>four</td>\n",
              "      <td>four</td>\n",
              "      <td>two</td>\n",
              "      <td>four</td>\n",
              "      <td>two</td>\n",
              "      <td>two</td>\n",
              "    </tr>\n",
              "    <tr>\n",
              "      <th>body-style</th>\n",
              "      <td>convertible</td>\n",
              "      <td>convertible</td>\n",
              "      <td>hatchback</td>\n",
              "      <td>sedan</td>\n",
              "      <td>sedan</td>\n",
              "      <td>sedan</td>\n",
              "      <td>sedan</td>\n",
              "      <td>wagon</td>\n",
              "      <td>sedan</td>\n",
              "      <td>hatchback</td>\n",
              "      <td>sedan</td>\n",
              "      <td>sedan</td>\n",
              "      <td>sedan</td>\n",
              "      <td>sedan</td>\n",
              "      <td>sedan</td>\n",
              "      <td>sedan</td>\n",
              "      <td>sedan</td>\n",
              "      <td>sedan</td>\n",
              "      <td>hatchback</td>\n",
              "      <td>hatchback</td>\n",
              "    </tr>\n",
              "    <tr>\n",
              "      <th>drive-wheels</th>\n",
              "      <td>rwd</td>\n",
              "      <td>rwd</td>\n",
              "      <td>rwd</td>\n",
              "      <td>fwd</td>\n",
              "      <td>4wd</td>\n",
              "      <td>fwd</td>\n",
              "      <td>fwd</td>\n",
              "      <td>fwd</td>\n",
              "      <td>fwd</td>\n",
              "      <td>4wd</td>\n",
              "      <td>rwd</td>\n",
              "      <td>rwd</td>\n",
              "      <td>rwd</td>\n",
              "      <td>rwd</td>\n",
              "      <td>rwd</td>\n",
              "      <td>rwd</td>\n",
              "      <td>rwd</td>\n",
              "      <td>rwd</td>\n",
              "      <td>fwd</td>\n",
              "      <td>fwd</td>\n",
              "    </tr>\n",
              "    <tr>\n",
              "      <th>engine-location</th>\n",
              "      <td>front[front]</td>\n",
              "      <td>front?</td>\n",
              "      <td>front?</td>\n",
              "      <td>front,</td>\n",
              "      <td>front,front</td>\n",
              "      <td>front,</td>\n",
              "      <td>front,</td>\n",
              "      <td>front,</td>\n",
              "      <td>front,</td>\n",
              "      <td>front,</td>\n",
              "      <td>front[engine]</td>\n",
              "      <td>front[engine]</td>\n",
              "      <td>front[engine]</td>\n",
              "      <td>front[engine]</td>\n",
              "      <td>front[location]</td>\n",
              "      <td>front[location]</td>\n",
              "      <td>front[location]</td>\n",
              "      <td>front[location]</td>\n",
              "      <td>front[location]</td>\n",
              "      <td>front</td>\n",
              "    </tr>\n",
              "    <tr>\n",
              "      <th>wheel-base</th>\n",
              "      <td>88.6</td>\n",
              "      <td>88.6</td>\n",
              "      <td>94.5</td>\n",
              "      <td>99.8</td>\n",
              "      <td>99.4</td>\n",
              "      <td>99.8</td>\n",
              "      <td>105.8</td>\n",
              "      <td>105.8</td>\n",
              "      <td>105.8</td>\n",
              "      <td>99.5</td>\n",
              "      <td>101.2</td>\n",
              "      <td>101.2</td>\n",
              "      <td>101.2</td>\n",
              "      <td>101.2</td>\n",
              "      <td>103.5</td>\n",
              "      <td>103.5</td>\n",
              "      <td>103.5</td>\n",
              "      <td>110</td>\n",
              "      <td>88.4</td>\n",
              "      <td>94.5</td>\n",
              "    </tr>\n",
              "    <tr>\n",
              "      <th>length</th>\n",
              "      <td>168.8</td>\n",
              "      <td>168.8</td>\n",
              "      <td>171.2</td>\n",
              "      <td>176.6</td>\n",
              "      <td>176.6</td>\n",
              "      <td>177.3</td>\n",
              "      <td>192.7</td>\n",
              "      <td>192.7</td>\n",
              "      <td>192.7</td>\n",
              "      <td>178.2</td>\n",
              "      <td>176.8</td>\n",
              "      <td>176.8</td>\n",
              "      <td>176.8</td>\n",
              "      <td>176.8</td>\n",
              "      <td>189</td>\n",
              "      <td>189</td>\n",
              "      <td>193.8</td>\n",
              "      <td>197</td>\n",
              "      <td>141.1</td>\n",
              "      <td>155.9</td>\n",
              "    </tr>\n",
              "    <tr>\n",
              "      <th>width</th>\n",
              "      <td>64.1</td>\n",
              "      <td>64.1</td>\n",
              "      <td>65.5</td>\n",
              "      <td>66.2</td>\n",
              "      <td>66.4</td>\n",
              "      <td>66.3</td>\n",
              "      <td>71.4</td>\n",
              "      <td>71.4</td>\n",
              "      <td>71.4</td>\n",
              "      <td>67.9</td>\n",
              "      <td>64.8</td>\n",
              "      <td>64.8</td>\n",
              "      <td>64.8</td>\n",
              "      <td>64.8</td>\n",
              "      <td>66.9</td>\n",
              "      <td>66.9</td>\n",
              "      <td>67.9</td>\n",
              "      <td>70.9</td>\n",
              "      <td>60.3</td>\n",
              "      <td>63.6</td>\n",
              "    </tr>\n",
              "    <tr>\n",
              "      <th>height</th>\n",
              "      <td>48.8</td>\n",
              "      <td>48.8</td>\n",
              "      <td>52.4</td>\n",
              "      <td>54.3</td>\n",
              "      <td>54.3</td>\n",
              "      <td>53.1</td>\n",
              "      <td>55.7</td>\n",
              "      <td>55.7</td>\n",
              "      <td>55.9</td>\n",
              "      <td>52</td>\n",
              "      <td>54.3</td>\n",
              "      <td>54.3</td>\n",
              "      <td>54.3</td>\n",
              "      <td>54.3</td>\n",
              "      <td>55.7</td>\n",
              "      <td>55.7</td>\n",
              "      <td>53.7</td>\n",
              "      <td>56.3</td>\n",
              "      <td>53.2</td>\n",
              "      <td>52</td>\n",
              "    </tr>\n",
              "    <tr>\n",
              "      <th>curb-weight</th>\n",
              "      <td>2548</td>\n",
              "      <td>2548</td>\n",
              "      <td>2823</td>\n",
              "      <td>2337</td>\n",
              "      <td>2824</td>\n",
              "      <td>2507</td>\n",
              "      <td>2844</td>\n",
              "      <td>2954</td>\n",
              "      <td>3086</td>\n",
              "      <td>3053</td>\n",
              "      <td>2395</td>\n",
              "      <td>2395</td>\n",
              "      <td>2710</td>\n",
              "      <td>2765</td>\n",
              "      <td>3055</td>\n",
              "      <td>3230</td>\n",
              "      <td>3380</td>\n",
              "      <td>3505</td>\n",
              "      <td>1488</td>\n",
              "      <td>1874</td>\n",
              "    </tr>\n",
              "    <tr>\n",
              "      <th>engine-type</th>\n",
              "      <td>dohc</td>\n",
              "      <td>dohc</td>\n",
              "      <td>ohcv</td>\n",
              "      <td>ohc</td>\n",
              "      <td>ohc</td>\n",
              "      <td>ohc</td>\n",
              "      <td>ohc</td>\n",
              "      <td>ohc</td>\n",
              "      <td>ohc</td>\n",
              "      <td>ohc</td>\n",
              "      <td>ohc</td>\n",
              "      <td>ohc</td>\n",
              "      <td>ohc</td>\n",
              "      <td>ohc</td>\n",
              "      <td>ohc</td>\n",
              "      <td>ohc</td>\n",
              "      <td>ohc</td>\n",
              "      <td>ohc</td>\n",
              "      <td>l</td>\n",
              "      <td>ohc</td>\n",
              "    </tr>\n",
              "    <tr>\n",
              "      <th>num-of-cylinders</th>\n",
              "      <td>four</td>\n",
              "      <td>four</td>\n",
              "      <td>six</td>\n",
              "      <td>four</td>\n",
              "      <td>five</td>\n",
              "      <td>five</td>\n",
              "      <td>five</td>\n",
              "      <td>five</td>\n",
              "      <td>five</td>\n",
              "      <td>five</td>\n",
              "      <td>four</td>\n",
              "      <td>four</td>\n",
              "      <td>six</td>\n",
              "      <td>six</td>\n",
              "      <td>six</td>\n",
              "      <td>six</td>\n",
              "      <td>six</td>\n",
              "      <td>six</td>\n",
              "      <td>three</td>\n",
              "      <td>four</td>\n",
              "    </tr>\n",
              "    <tr>\n",
              "      <th>engine-size</th>\n",
              "      <td>130</td>\n",
              "      <td>130</td>\n",
              "      <td>152</td>\n",
              "      <td>109</td>\n",
              "      <td>136</td>\n",
              "      <td>136</td>\n",
              "      <td>136</td>\n",
              "      <td>136</td>\n",
              "      <td>131</td>\n",
              "      <td>131</td>\n",
              "      <td>108</td>\n",
              "      <td>108</td>\n",
              "      <td>164</td>\n",
              "      <td>164</td>\n",
              "      <td>164</td>\n",
              "      <td>209</td>\n",
              "      <td>209</td>\n",
              "      <td>209</td>\n",
              "      <td>61</td>\n",
              "      <td>90</td>\n",
              "    </tr>\n",
              "    <tr>\n",
              "      <th>fuel-system</th>\n",
              "      <td>mpfi</td>\n",
              "      <td>mpfi</td>\n",
              "      <td>mpfi</td>\n",
              "      <td>mpfi</td>\n",
              "      <td>mpfi</td>\n",
              "      <td>mpfi</td>\n",
              "      <td>mpfi</td>\n",
              "      <td>mpfi</td>\n",
              "      <td>mpfi</td>\n",
              "      <td>mpfi</td>\n",
              "      <td>mpfi</td>\n",
              "      <td>mpfi</td>\n",
              "      <td>mpfi</td>\n",
              "      <td>mpfi</td>\n",
              "      <td>mpfi</td>\n",
              "      <td>mpfi</td>\n",
              "      <td>mpfi</td>\n",
              "      <td>mpfi</td>\n",
              "      <td>2bbl</td>\n",
              "      <td>2bbl</td>\n",
              "    </tr>\n",
              "    <tr>\n",
              "      <th>bore</th>\n",
              "      <td>3.47</td>\n",
              "      <td>3.47</td>\n",
              "      <td>2.68</td>\n",
              "      <td>3.19</td>\n",
              "      <td>3.19</td>\n",
              "      <td>3.19</td>\n",
              "      <td>3.19</td>\n",
              "      <td>3.19</td>\n",
              "      <td>3.13</td>\n",
              "      <td>3.13</td>\n",
              "      <td>3.5</td>\n",
              "      <td>3.5</td>\n",
              "      <td>3.31</td>\n",
              "      <td>3.31</td>\n",
              "      <td>3.31</td>\n",
              "      <td>3.62</td>\n",
              "      <td>3.62</td>\n",
              "      <td>3.62</td>\n",
              "      <td>2.91</td>\n",
              "      <td>3.03</td>\n",
              "    </tr>\n",
              "    <tr>\n",
              "      <th>stroke</th>\n",
              "      <td>2.68</td>\n",
              "      <td>2.68</td>\n",
              "      <td>3.47</td>\n",
              "      <td>3.4</td>\n",
              "      <td>3.4</td>\n",
              "      <td>3.4</td>\n",
              "      <td>3.4</td>\n",
              "      <td>3.4</td>\n",
              "      <td>3.4</td>\n",
              "      <td>3.4</td>\n",
              "      <td>2.8</td>\n",
              "      <td>2.8</td>\n",
              "      <td>3.19</td>\n",
              "      <td>3.19</td>\n",
              "      <td>3.19</td>\n",
              "      <td>3.39</td>\n",
              "      <td>3.39</td>\n",
              "      <td>3.39</td>\n",
              "      <td>3.03</td>\n",
              "      <td>3.11</td>\n",
              "    </tr>\n",
              "    <tr>\n",
              "      <th>compression-ratio</th>\n",
              "      <td>9</td>\n",
              "      <td>9</td>\n",
              "      <td>9</td>\n",
              "      <td>10</td>\n",
              "      <td>8</td>\n",
              "      <td>8.5</td>\n",
              "      <td>8.5</td>\n",
              "      <td>8.5</td>\n",
              "      <td>8.3</td>\n",
              "      <td>7</td>\n",
              "      <td>8.8</td>\n",
              "      <td>8.8</td>\n",
              "      <td>9</td>\n",
              "      <td>9</td>\n",
              "      <td>9</td>\n",
              "      <td>8</td>\n",
              "      <td>8</td>\n",
              "      <td>8</td>\n",
              "      <td>9.5</td>\n",
              "      <td>9.6</td>\n",
              "    </tr>\n",
              "    <tr>\n",
              "      <th>horsepower</th>\n",
              "      <td>111</td>\n",
              "      <td>111</td>\n",
              "      <td>154</td>\n",
              "      <td>102</td>\n",
              "      <td>115</td>\n",
              "      <td>110</td>\n",
              "      <td>110</td>\n",
              "      <td>110</td>\n",
              "      <td>140</td>\n",
              "      <td>160</td>\n",
              "      <td>101</td>\n",
              "      <td>101</td>\n",
              "      <td>121</td>\n",
              "      <td>121</td>\n",
              "      <td>121</td>\n",
              "      <td>182</td>\n",
              "      <td>182</td>\n",
              "      <td>182</td>\n",
              "      <td>48</td>\n",
              "      <td>70</td>\n",
              "    </tr>\n",
              "    <tr>\n",
              "      <th>peak-rpm</th>\n",
              "      <td>5000</td>\n",
              "      <td>5000</td>\n",
              "      <td>5000</td>\n",
              "      <td>5500</td>\n",
              "      <td>5500</td>\n",
              "      <td>5500</td>\n",
              "      <td>5500</td>\n",
              "      <td>5500</td>\n",
              "      <td>5500</td>\n",
              "      <td>5500</td>\n",
              "      <td>5800</td>\n",
              "      <td>5800</td>\n",
              "      <td>4250</td>\n",
              "      <td>4250</td>\n",
              "      <td>4250</td>\n",
              "      <td>5400</td>\n",
              "      <td>5400</td>\n",
              "      <td>5400</td>\n",
              "      <td>5100</td>\n",
              "      <td>5400</td>\n",
              "    </tr>\n",
              "    <tr>\n",
              "      <th>city-mpg</th>\n",
              "      <td>21</td>\n",
              "      <td>21</td>\n",
              "      <td>19</td>\n",
              "      <td>24</td>\n",
              "      <td>18</td>\n",
              "      <td>19</td>\n",
              "      <td>19</td>\n",
              "      <td>19</td>\n",
              "      <td>17</td>\n",
              "      <td>16</td>\n",
              "      <td>23</td>\n",
              "      <td>23</td>\n",
              "      <td>21</td>\n",
              "      <td>21</td>\n",
              "      <td>20</td>\n",
              "      <td>16</td>\n",
              "      <td>16</td>\n",
              "      <td>15</td>\n",
              "      <td>47</td>\n",
              "      <td>38</td>\n",
              "    </tr>\n",
              "    <tr>\n",
              "      <th>highway-mpg</th>\n",
              "      <td>27</td>\n",
              "      <td>27</td>\n",
              "      <td>26</td>\n",
              "      <td>30</td>\n",
              "      <td>22</td>\n",
              "      <td>25</td>\n",
              "      <td>25</td>\n",
              "      <td>25</td>\n",
              "      <td>20</td>\n",
              "      <td>22</td>\n",
              "      <td>29</td>\n",
              "      <td>29</td>\n",
              "      <td>28</td>\n",
              "      <td>28</td>\n",
              "      <td>25</td>\n",
              "      <td>22</td>\n",
              "      <td>22</td>\n",
              "      <td>20</td>\n",
              "      <td>53</td>\n",
              "      <td>43</td>\n",
              "    </tr>\n",
              "    <tr>\n",
              "      <th>price</th>\n",
              "      <td>13495</td>\n",
              "      <td>16500</td>\n",
              "      <td>16500</td>\n",
              "      <td>13950</td>\n",
              "      <td>17450</td>\n",
              "      <td>15250</td>\n",
              "      <td>17710</td>\n",
              "      <td>18920</td>\n",
              "      <td>23875</td>\n",
              "      <td>NaN</td>\n",
              "      <td>16430</td>\n",
              "      <td>16925</td>\n",
              "      <td>20970</td>\n",
              "      <td>21105</td>\n",
              "      <td>24565</td>\n",
              "      <td>30760</td>\n",
              "      <td>41315</td>\n",
              "      <td>36880</td>\n",
              "      <td>5151</td>\n",
              "      <td>6295</td>\n",
              "    </tr>\n",
              "  </tbody>\n",
              "</table>\n",
              "</div>"
            ],
            "text/plain": [
              "                             0            1   ...               18         19\n",
              "symboling                     3            3  ...                2          1\n",
              "normalized-losses           NaN          NaN  ...              121         98\n",
              "make                alfa-romero  alfa-romero  ...        chevrolet  chevrolet\n",
              "fuel-type                   gas          gas  ...              gas        gas\n",
              "aspiration                  std          std  ...              std        std\n",
              "num-of-doors                two          two  ...              two        two\n",
              "body-style          convertible  convertible  ...        hatchback  hatchback\n",
              "drive-wheels                rwd          rwd  ...              fwd        fwd\n",
              "engine-location    front[front]       front?  ...  front[location]      front\n",
              "wheel-base                 88.6         88.6  ...             88.4       94.5\n",
              "length                    168.8        168.8  ...            141.1      155.9\n",
              "width                      64.1         64.1  ...             60.3       63.6\n",
              "height                     48.8         48.8  ...             53.2         52\n",
              "curb-weight                2548         2548  ...             1488       1874\n",
              "engine-type                dohc         dohc  ...                l        ohc\n",
              "num-of-cylinders           four         four  ...            three       four\n",
              "engine-size                 130          130  ...               61         90\n",
              "fuel-system                mpfi         mpfi  ...             2bbl       2bbl\n",
              "bore                       3.47         3.47  ...             2.91       3.03\n",
              "stroke                     2.68         2.68  ...             3.03       3.11\n",
              "compression-ratio             9            9  ...              9.5        9.6\n",
              "horsepower                  111          111  ...               48         70\n",
              "peak-rpm                   5000         5000  ...             5100       5400\n",
              "city-mpg                     21           21  ...               47         38\n",
              "highway-mpg                  27           27  ...               53         43\n",
              "price                     13495        16500  ...             5151       6295\n",
              "\n",
              "[26 rows x 20 columns]"
            ]
          },
          "metadata": {},
          "execution_count": 165
        }
      ]
    },
    {
      "cell_type": "code",
      "metadata": {
        "id": "btrymqE2CONm"
      },
      "source": [
        "demovars = ['price', 'horsepower', 'peak-rpm', 'stroke', 'bore', 'num-of-doors', 'normalized-losses']"
      ],
      "execution_count": 166,
      "outputs": []
    },
    {
      "cell_type": "code",
      "metadata": {
        "colab": {
          "base_uri": "https://localhost:8080/",
          "height": 0
        },
        "id": "odXaqUkCEiS8",
        "outputId": "354aef30-58d7-42b1-99c8-7ca0ffd6abde"
      },
      "source": [
        "df[demovars].isnull().sum(axis=0)"
      ],
      "execution_count": 167,
      "outputs": [
        {
          "output_type": "execute_result",
          "data": {
            "text/plain": [
              "price                 4\n",
              "horsepower            2\n",
              "peak-rpm              2\n",
              "stroke                4\n",
              "bore                  4\n",
              "num-of-doors          2\n",
              "normalized-losses    41\n",
              "dtype: int64"
            ]
          },
          "metadata": {},
          "execution_count": 167
        }
      ]
    },
    {
      "cell_type": "code",
      "metadata": {
        "colab": {
          "base_uri": "https://localhost:8080/",
          "height": 0
        },
        "id": "JNZ9NQIAG-kp",
        "outputId": "be34970a-6e5e-4a45-92b6-f3c4d41583e9"
      },
      "source": [
        "catcols = df.select_dtypes(include=[\"object\"]).columns\n",
        "df[catcols].isnull().sum()"
      ],
      "execution_count": 168,
      "outputs": [
        {
          "output_type": "execute_result",
          "data": {
            "text/plain": [
              "normalized-losses    41\n",
              "make                  0\n",
              "fuel-type             0\n",
              "aspiration            0\n",
              "num-of-doors          2\n",
              "body-style            0\n",
              "drive-wheels          0\n",
              "engine-location       0\n",
              "engine-type           0\n",
              "num-of-cylinders      0\n",
              "fuel-system           0\n",
              "bore                  4\n",
              "stroke                4\n",
              "horsepower            2\n",
              "peak-rpm              2\n",
              "price                 4\n",
              "dtype: int64"
            ]
          },
          "metadata": {},
          "execution_count": 168
        }
      ]
    },
    {
      "cell_type": "code",
      "metadata": {
        "colab": {
          "resources": {
            "http://localhost:8080/nbextensions/google.colab/files.js": {
              "data": "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",
              "ok": true,
              "headers": [
                [
                  "content-type",
                  "application/javascript"
                ]
              ],
              "status": 200,
              "status_text": ""
            }
          },
          "base_uri": "https://localhost:8080/",
          "height": 72
        },
        "id": "wjj-eTsvLQSl",
        "outputId": "62d6f06f-97e5-4870-9acb-de453ec93435"
      },
      "source": [
        "from google.colab import files\n",
        "uploaded = files.upload()"
      ],
      "execution_count": 169,
      "outputs": [
        {
          "output_type": "display_data",
          "data": {
            "text/html": [
              "\n",
              "     <input type=\"file\" id=\"files-18745021-ecd3-4ecd-b8f7-227dfcc01203\" name=\"files[]\" multiple disabled\n",
              "        style=\"border:none\" />\n",
              "     <output id=\"result-18745021-ecd3-4ecd-b8f7-227dfcc01203\">\n",
              "      Upload widget is only available when the cell has been executed in the\n",
              "      current browser session. Please rerun this cell to enable.\n",
              "      </output>\n",
              "      <script src=\"/nbextensions/google.colab/files.js\"></script> "
            ],
            "text/plain": [
              "<IPython.core.display.HTML object>"
            ]
          },
          "metadata": {}
        },
        {
          "output_type": "stream",
          "name": "stdout",
          "text": [
            "Saving Automobile_data.csv to Automobile_data (3).csv\n"
          ]
        }
      ]
    },
    {
      "cell_type": "code",
      "metadata": {
        "colab": {
          "base_uri": "https://localhost:8080/",
          "height": 0
        },
        "id": "3H-w48yFL6ht",
        "outputId": "e84b13d3-fc76-4442-e814-fc71557eeceb"
      },
      "source": [
        "df = pd.read_csv('Automobile_data.csv')\n",
        "df.orig = df"
      ],
      "execution_count": 170,
      "outputs": [
        {
          "output_type": "stream",
          "name": "stderr",
          "text": [
            "/usr/local/lib/python3.7/dist-packages/ipykernel_launcher.py:2: UserWarning: Pandas doesn't allow columns to be created via a new attribute name - see https://pandas.pydata.org/pandas-docs/stable/indexing.html#attribute-access\n",
            "  \n"
          ]
        }
      ]
    },
    {
      "cell_type": "code",
      "metadata": {
        "id": "zOAst7M7noFj"
      },
      "source": [
        " df['normalized-losses'] = df['normalized-losses'].replace('?',0)"
      ],
      "execution_count": 171,
      "outputs": []
    },
    {
      "cell_type": "code",
      "metadata": {
        "id": "3RBvj98upD1C"
      },
      "source": [
        "df[\"normalized-losses\"] = pd.to_numeric(df[\"normalized-losses\"])"
      ],
      "execution_count": 172,
      "outputs": []
    },
    {
      "cell_type": "code",
      "metadata": {
        "colab": {
          "base_uri": "https://localhost:8080/",
          "height": 0
        },
        "id": "9iEatCshphQD",
        "outputId": "dc72db2a-a432-4e36-b8c7-8108228cc810"
      },
      "source": [
        "df.dtypes"
      ],
      "execution_count": 173,
      "outputs": [
        {
          "output_type": "execute_result",
          "data": {
            "text/plain": [
              "symboling              int64\n",
              "normalized-losses      int64\n",
              "make                  object\n",
              "fuel-type             object\n",
              "aspiration            object\n",
              "num-of-doors          object\n",
              "body-style            object\n",
              "drive-wheels          object\n",
              "engine-location       object\n",
              "wheel-base           float64\n",
              "length               float64\n",
              "width                float64\n",
              "height               float64\n",
              "curb-weight            int64\n",
              "engine-type           object\n",
              "num-of-cylinders      object\n",
              "engine-size            int64\n",
              "fuel-system           object\n",
              "bore                  object\n",
              "stroke                object\n",
              "compression-ratio    float64\n",
              "horsepower            object\n",
              "peak-rpm              object\n",
              "city-mpg               int64\n",
              "highway-mpg            int64\n",
              "price                 object\n",
              "dtype: object"
            ]
          },
          "metadata": {},
          "execution_count": 173
        }
      ]
    },
    {
      "cell_type": "code",
      "metadata": {
        "colab": {
          "base_uri": "https://localhost:8080/",
          "height": 0
        },
        "id": "3gP6kTE6pk3h",
        "outputId": "5a225f1c-75f9-49a1-da77-62eb3012badb"
      },
      "source": [
        "df['normalized-losses'].describe()"
      ],
      "execution_count": 174,
      "outputs": [
        {
          "output_type": "execute_result",
          "data": {
            "text/plain": [
              "count    205.000000\n",
              "mean      97.600000\n",
              "std       58.282073\n",
              "min        0.000000\n",
              "25%       77.000000\n",
              "50%      103.000000\n",
              "75%      137.000000\n",
              "max      256.000000\n",
              "Name: normalized-losses, dtype: float64"
            ]
          },
          "metadata": {},
          "execution_count": 174
        }
      ]
    },
    {
      "cell_type": "code",
      "metadata": {
        "colab": {
          "base_uri": "https://localhost:8080/",
          "height": 0
        },
        "id": "4q1IsgO-q8je",
        "outputId": "312ce09e-a437-4a99-bc3c-d8fdc2432bdd"
      },
      "source": [
        "df['normalized-losses'].describe()"
      ],
      "execution_count": 175,
      "outputs": [
        {
          "output_type": "execute_result",
          "data": {
            "text/plain": [
              "count    205.000000\n",
              "mean      97.600000\n",
              "std       58.282073\n",
              "min        0.000000\n",
              "25%       77.000000\n",
              "50%      103.000000\n",
              "75%      137.000000\n",
              "max      256.000000\n",
              "Name: normalized-losses, dtype: float64"
            ]
          },
          "metadata": {},
          "execution_count": 175
        }
      ]
    },
    {
      "cell_type": "code",
      "metadata": {
        "colab": {
          "base_uri": "https://localhost:8080/",
          "height": 0
        },
        "id": "vvJp-J2YrQEq",
        "outputId": "1e2a07f3-caf5-4307-8165-49fb7d269f04"
      },
      "source": [
        "df[\"normalized-losses\"]"
      ],
      "execution_count": 177,
      "outputs": [
        {
          "output_type": "execute_result",
          "data": {
            "text/plain": [
              "0        0\n",
              "1        0\n",
              "2        0\n",
              "3      164\n",
              "4      164\n",
              "      ... \n",
              "200     95\n",
              "201     95\n",
              "202     95\n",
              "203     95\n",
              "204     95\n",
              "Name: normalized-losses, Length: 205, dtype: int64"
            ]
          },
          "metadata": {},
          "execution_count": 177
        }
      ]
    },
    {
      "cell_type": "code",
      "metadata": {
        "id": "CWDJQApTrWcR"
      },
      "source": [
        "df['normalized-losses'] = df['normalized-losses'].replace(0,97.6)"
      ],
      "execution_count": 178,
      "outputs": []
    },
    {
      "cell_type": "code",
      "metadata": {
        "colab": {
          "base_uri": "https://localhost:8080/",
          "height": 0
        },
        "id": "Cv2ZlSoXrfkx",
        "outputId": "b7528b15-dfba-4f10-972c-947cafd7f449"
      },
      "source": [
        "# Result of cleaning, dervied the mean and replaced the unknown values \"?\" wiht mean - 97.6\n",
        "df[\"normalized-losses\"]"
      ],
      "execution_count": 179,
      "outputs": [
        {
          "output_type": "execute_result",
          "data": {
            "text/plain": [
              "0       97.6\n",
              "1       97.6\n",
              "2       97.6\n",
              "3      164.0\n",
              "4      164.0\n",
              "       ...  \n",
              "200     95.0\n",
              "201     95.0\n",
              "202     95.0\n",
              "203     95.0\n",
              "204     95.0\n",
              "Name: normalized-losses, Length: 205, dtype: float64"
            ]
          },
          "metadata": {},
          "execution_count": 179
        }
      ]
    },
    {
      "cell_type": "code",
      "metadata": {
        "colab": {
          "base_uri": "https://localhost:8080/",
          "height": 0
        },
        "id": "ttcXV1cMriIn",
        "outputId": "7ba7f43a-9604-42a2-fa5c-6b6c597831f8"
      },
      "source": [
        "df['normalized-losses'].describe()"
      ],
      "execution_count": 180,
      "outputs": [
        {
          "output_type": "execute_result",
          "data": {
            "text/plain": [
              "count    205.000000\n",
              "mean     117.120000\n",
              "std       33.157365\n",
              "min       65.000000\n",
              "25%       97.600000\n",
              "50%      103.000000\n",
              "75%      137.000000\n",
              "max      256.000000\n",
              "Name: normalized-losses, dtype: float64"
            ]
          },
          "metadata": {},
          "execution_count": 180
        }
      ]
    },
    {
      "cell_type": "code",
      "metadata": {
        "colab": {
          "base_uri": "https://localhost:8080/",
          "height": 0
        },
        "id": "UPOEaUqSrlk3",
        "outputId": "a0be8064-42c6-4df9-ed99-e57968783806"
      },
      "source": [
        "df[\"engine-location\"].unique()"
      ],
      "execution_count": 181,
      "outputs": [
        {
          "output_type": "execute_result",
          "data": {
            "text/plain": [
              "array(['front[front]', 'front?', 'front,', 'front,front', 'front, ',\n",
              "       'front[engine]', 'front[location]', 'front', 'rear[end]', 'font'],\n",
              "      dtype=object)"
            ]
          },
          "metadata": {},
          "execution_count": 181
        }
      ]
    },
    {
      "cell_type": "code",
      "metadata": {
        "colab": {
          "base_uri": "https://localhost:8080/",
          "height": 0
        },
        "id": "BPuz3bcwslAW",
        "outputId": "851864e9-54ca-4e1c-fd0d-8511951c756f"
      },
      "source": [
        "df[\"engine-location\"].shape"
      ],
      "execution_count": 182,
      "outputs": [
        {
          "output_type": "execute_result",
          "data": {
            "text/plain": [
              "(205,)"
            ]
          },
          "metadata": {},
          "execution_count": 182
        }
      ]
    },
    {
      "cell_type": "code",
      "metadata": {
        "id": "R5M9N_w2s5vr"
      },
      "source": [
        " df[\"engine-location\"] = df[\"engine-location\"].replace(['front[front]', 'front?', 'front,', 'front,front', 'front, ',\n",
        "       'front[engine]', 'front[location]', 'font'], 'front')"
      ],
      "execution_count": 184,
      "outputs": []
    },
    {
      "cell_type": "code",
      "metadata": {
        "colab": {
          "base_uri": "https://localhost:8080/",
          "height": 0
        },
        "id": "SI49zxA3utlN",
        "outputId": "345b90d6-9835-42f4-87b8-51011872e862"
      },
      "source": [
        "df[\"engine-location\"].unique()"
      ],
      "execution_count": 185,
      "outputs": [
        {
          "output_type": "execute_result",
          "data": {
            "text/plain": [
              "array(['front', 'rear[end]'], dtype=object)"
            ]
          },
          "metadata": {},
          "execution_count": 185
        }
      ]
    },
    {
      "cell_type": "code",
      "metadata": {
        "id": "NOILee3wuxEv"
      },
      "source": [
        "df[\"engine-location\"] = df[\"engine-location\"].replace('rear[end]', 'rear')"
      ],
      "execution_count": 186,
      "outputs": []
    },
    {
      "cell_type": "code",
      "metadata": {
        "colab": {
          "base_uri": "https://localhost:8080/",
          "height": 0
        },
        "id": "zHFy0cwHvb9W",
        "outputId": "5cc48152-e9d9-49f7-8f6a-36370a434d7b"
      },
      "source": [
        "# Result of cleaning the column, only 2 unique values with no missing/unknown values\n",
        "df[\"engine-location\"].unique()"
      ],
      "execution_count": 187,
      "outputs": [
        {
          "output_type": "execute_result",
          "data": {
            "text/plain": [
              "array(['front', 'rear'], dtype=object)"
            ]
          },
          "metadata": {},
          "execution_count": 187
        }
      ]
    },
    {
      "cell_type": "code",
      "metadata": {
        "id": "KXxs-czjviLT"
      },
      "source": [
        "df[\"engine-location\"] = df[\"engine-location\"].astype('str')"
      ],
      "execution_count": 188,
      "outputs": []
    },
    {
      "cell_type": "code",
      "metadata": {
        "colab": {
          "base_uri": "https://localhost:8080/",
          "height": 0
        },
        "id": "VE9jNE1Hwbm_",
        "outputId": "1a1739e9-e1f2-432a-8873-f58096957a76"
      },
      "source": [
        "df[\"engine-location\"].unique()"
      ],
      "execution_count": 189,
      "outputs": [
        {
          "output_type": "execute_result",
          "data": {
            "text/plain": [
              "array(['front', 'rear'], dtype=object)"
            ]
          },
          "metadata": {},
          "execution_count": 189
        }
      ]
    },
    {
      "cell_type": "code",
      "metadata": {
        "colab": {
          "base_uri": "https://localhost:8080/",
          "height": 0
        },
        "id": "OkMfzmIkweCc",
        "outputId": "01ff3ff0-0420-46dc-8a16-ff40a9d0c5cf"
      },
      "source": [
        "df.dtypes"
      ],
      "execution_count": 190,
      "outputs": [
        {
          "output_type": "execute_result",
          "data": {
            "text/plain": [
              "symboling              int64\n",
              "normalized-losses    float64\n",
              "make                  object\n",
              "fuel-type             object\n",
              "aspiration            object\n",
              "num-of-doors          object\n",
              "body-style            object\n",
              "drive-wheels          object\n",
              "engine-location       object\n",
              "wheel-base           float64\n",
              "length               float64\n",
              "width                float64\n",
              "height               float64\n",
              "curb-weight            int64\n",
              "engine-type           object\n",
              "num-of-cylinders      object\n",
              "engine-size            int64\n",
              "fuel-system           object\n",
              "bore                  object\n",
              "stroke                object\n",
              "compression-ratio    float64\n",
              "horsepower            object\n",
              "peak-rpm              object\n",
              "city-mpg               int64\n",
              "highway-mpg            int64\n",
              "price                 object\n",
              "dtype: object"
            ]
          },
          "metadata": {},
          "execution_count": 190
        }
      ]
    },
    {
      "cell_type": "code",
      "metadata": {
        "colab": {
          "base_uri": "https://localhost:8080/",
          "height": 0
        },
        "id": "QCQngue4I-PC",
        "outputId": "aaa94778-f8e7-4646-9daf-237dd3678cb1"
      },
      "source": [
        "df[\"num-of-doors\"].head()"
      ],
      "execution_count": 191,
      "outputs": [
        {
          "output_type": "execute_result",
          "data": {
            "text/plain": [
              "0     two\n",
              "1     two\n",
              "2     two\n",
              "3    four\n",
              "4    four\n",
              "Name: num-of-doors, dtype: object"
            ]
          },
          "metadata": {},
          "execution_count": 191
        }
      ]
    },
    {
      "cell_type": "code",
      "metadata": {
        "colab": {
          "base_uri": "https://localhost:8080/",
          "height": 0
        },
        "id": "jZF0y6J_6tME",
        "outputId": "b4b04bd3-10da-4225-b9d8-c316646d350f"
      },
      "source": [
        "df[\"num-of-doors\"].unique()"
      ],
      "execution_count": 192,
      "outputs": [
        {
          "output_type": "execute_result",
          "data": {
            "text/plain": [
              "array(['two', 'four', '?'], dtype=object)"
            ]
          },
          "metadata": {},
          "execution_count": 192
        }
      ]
    },
    {
      "cell_type": "code",
      "metadata": {
        "id": "DMWcuGnaDX_d"
      },
      "source": [
        "df['num-of-doors'] = df['num-of-doors'].replace('two', 2)"
      ],
      "execution_count": 193,
      "outputs": []
    },
    {
      "cell_type": "code",
      "metadata": {
        "id": "I2fUD_-zDsDJ"
      },
      "source": [
        "df['num-of-doors'] = df['num-of-doors'].replace('four', 4)"
      ],
      "execution_count": 194,
      "outputs": []
    },
    {
      "cell_type": "code",
      "metadata": {
        "id": "xYIB9OJ8D0KJ"
      },
      "source": [
        "df['num-of-doors'] = df['num-of-doors'].replace(0, \"?\")"
      ],
      "execution_count": 195,
      "outputs": []
    },
    {
      "cell_type": "code",
      "metadata": {
        "id": "dLSfcZEHD4gA"
      },
      "source": [
        "doors = df[df[\"num-of-doors\"] == \"?\"]"
      ],
      "execution_count": 196,
      "outputs": []
    },
    {
      "cell_type": "code",
      "metadata": {
        "colab": {
          "base_uri": "https://localhost:8080/",
          "height": 165
        },
        "id": "UmpvVmbmHo4k",
        "outputId": "b8594198-39ae-4753-e9a0-35b8af02ad30"
      },
      "source": [
        "doors"
      ],
      "execution_count": 198,
      "outputs": [
        {
          "output_type": "execute_result",
          "data": {
            "text/html": [
              "<div>\n",
              "<style scoped>\n",
              "    .dataframe tbody tr th:only-of-type {\n",
              "        vertical-align: middle;\n",
              "    }\n",
              "\n",
              "    .dataframe tbody tr th {\n",
              "        vertical-align: top;\n",
              "    }\n",
              "\n",
              "    .dataframe thead th {\n",
              "        text-align: right;\n",
              "    }\n",
              "</style>\n",
              "<table border=\"1\" class=\"dataframe\">\n",
              "  <thead>\n",
              "    <tr style=\"text-align: right;\">\n",
              "      <th></th>\n",
              "      <th>symboling</th>\n",
              "      <th>normalized-losses</th>\n",
              "      <th>make</th>\n",
              "      <th>fuel-type</th>\n",
              "      <th>aspiration</th>\n",
              "      <th>num-of-doors</th>\n",
              "      <th>body-style</th>\n",
              "      <th>drive-wheels</th>\n",
              "      <th>engine-location</th>\n",
              "      <th>wheel-base</th>\n",
              "      <th>length</th>\n",
              "      <th>width</th>\n",
              "      <th>height</th>\n",
              "      <th>curb-weight</th>\n",
              "      <th>engine-type</th>\n",
              "      <th>num-of-cylinders</th>\n",
              "      <th>engine-size</th>\n",
              "      <th>fuel-system</th>\n",
              "      <th>bore</th>\n",
              "      <th>stroke</th>\n",
              "      <th>compression-ratio</th>\n",
              "      <th>horsepower</th>\n",
              "      <th>peak-rpm</th>\n",
              "      <th>city-mpg</th>\n",
              "      <th>highway-mpg</th>\n",
              "      <th>price</th>\n",
              "    </tr>\n",
              "  </thead>\n",
              "  <tbody>\n",
              "    <tr>\n",
              "      <th>27</th>\n",
              "      <td>1</td>\n",
              "      <td>148.0</td>\n",
              "      <td>dodge</td>\n",
              "      <td>gas</td>\n",
              "      <td>turbo</td>\n",
              "      <td>?</td>\n",
              "      <td>sedan</td>\n",
              "      <td>fwd</td>\n",
              "      <td>front</td>\n",
              "      <td>93.7</td>\n",
              "      <td>157.3</td>\n",
              "      <td>63.8</td>\n",
              "      <td>50.6</td>\n",
              "      <td>2191</td>\n",
              "      <td>ohc</td>\n",
              "      <td>four</td>\n",
              "      <td>98</td>\n",
              "      <td>mpfi</td>\n",
              "      <td>3.03</td>\n",
              "      <td>3.39</td>\n",
              "      <td>7.6</td>\n",
              "      <td>102</td>\n",
              "      <td>5500</td>\n",
              "      <td>24</td>\n",
              "      <td>30</td>\n",
              "      <td>8558</td>\n",
              "    </tr>\n",
              "    <tr>\n",
              "      <th>63</th>\n",
              "      <td>0</td>\n",
              "      <td>97.6</td>\n",
              "      <td>mazda</td>\n",
              "      <td>diesel</td>\n",
              "      <td>std</td>\n",
              "      <td>?</td>\n",
              "      <td>sedan</td>\n",
              "      <td>fwd</td>\n",
              "      <td>front</td>\n",
              "      <td>98.8</td>\n",
              "      <td>177.8</td>\n",
              "      <td>66.5</td>\n",
              "      <td>55.5</td>\n",
              "      <td>2443</td>\n",
              "      <td>ohc</td>\n",
              "      <td>four</td>\n",
              "      <td>122</td>\n",
              "      <td>idi</td>\n",
              "      <td>3.39</td>\n",
              "      <td>3.39</td>\n",
              "      <td>22.7</td>\n",
              "      <td>64</td>\n",
              "      <td>4650</td>\n",
              "      <td>36</td>\n",
              "      <td>42</td>\n",
              "      <td>10795</td>\n",
              "    </tr>\n",
              "  </tbody>\n",
              "</table>\n",
              "</div>"
            ],
            "text/plain": [
              "    symboling  normalized-losses   make  ... city-mpg highway-mpg  price\n",
              "27          1              148.0  dodge  ...       24          30   8558\n",
              "63          0               97.6  mazda  ...       36          42  10795\n",
              "\n",
              "[2 rows x 26 columns]"
            ]
          },
          "metadata": {},
          "execution_count": 198
        }
      ]
    },
    {
      "cell_type": "code",
      "metadata": {
        "id": "bwlrh9v1HrcV"
      },
      "source": [
        "df['num-of-doors'] = df['num-of-doors'].replace(\"?\", 4)"
      ],
      "execution_count": 199,
      "outputs": []
    },
    {
      "cell_type": "code",
      "metadata": {
        "colab": {
          "base_uri": "https://localhost:8080/",
          "height": 0
        },
        "id": "4oarQK9zIFvx",
        "outputId": "75b72e8d-6157-4c34-eb3b-f7e9d99e20a3"
      },
      "source": [
        "# Result of cleaning, changed categorical data to numercial data and replaced \"?\" calues with 2 or 4 based on the body style of the data\n",
        "df['num-of-doors'].unique()"
      ],
      "execution_count": 200,
      "outputs": [
        {
          "output_type": "execute_result",
          "data": {
            "text/plain": [
              "array([2, 4])"
            ]
          },
          "metadata": {},
          "execution_count": 200
        }
      ]
    },
    {
      "cell_type": "code",
      "metadata": {
        "colab": {
          "base_uri": "https://localhost:8080/",
          "height": 0
        },
        "id": "N1diDUpsWsXP",
        "outputId": "b6034390-3bcd-4b19-f3af-73a928b57d47"
      },
      "source": [
        "# Extra cleaning: Cleaning 4th variable \n",
        "df['num-of-cylinders'].unique()"
      ],
      "execution_count": 201,
      "outputs": [
        {
          "output_type": "execute_result",
          "data": {
            "text/plain": [
              "array(['four', 'six', 'five', 'three', 'twelve', 'two', 'eight', 'for'],\n",
              "      dtype=object)"
            ]
          },
          "metadata": {},
          "execution_count": 201
        }
      ]
    },
    {
      "cell_type": "code",
      "metadata": {
        "id": "LLQoUH2bWzY-"
      },
      "source": [
        "df['num-of-cylinders'] = df['num-of-cylinders'].replace('for', \"four\")"
      ],
      "execution_count": 202,
      "outputs": []
    },
    {
      "cell_type": "code",
      "metadata": {
        "colab": {
          "base_uri": "https://localhost:8080/",
          "height": 0
        },
        "id": "sV2v646aY-hI",
        "outputId": "ee15b133-5fb0-4626-ba5c-e24e24d1470e"
      },
      "source": [
        "df['num-of-cylinders'].unique()"
      ],
      "execution_count": 203,
      "outputs": [
        {
          "output_type": "execute_result",
          "data": {
            "text/plain": [
              "array(['four', 'six', 'five', 'three', 'twelve', 'two', 'eight'],\n",
              "      dtype=object)"
            ]
          },
          "metadata": {},
          "execution_count": 203
        }
      ]
    },
    {
      "cell_type": "code",
      "metadata": {
        "id": "3_AlKw9RZCBk"
      },
      "source": [
        "df['num-of-cylinders'] = df['num-of-cylinders'].replace('two', 2)"
      ],
      "execution_count": 204,
      "outputs": []
    },
    {
      "cell_type": "code",
      "metadata": {
        "id": "dEKBeUc1ZNky"
      },
      "source": [
        "df['num-of-cylinders'] = df['num-of-cylinders'].replace('three', 3)"
      ],
      "execution_count": 205,
      "outputs": []
    },
    {
      "cell_type": "code",
      "metadata": {
        "id": "xSfm7AFxZTAE"
      },
      "source": [
        "df['num-of-cylinders'] = df['num-of-cylinders'].replace('four', 4)"
      ],
      "execution_count": 206,
      "outputs": []
    },
    {
      "cell_type": "code",
      "metadata": {
        "id": "5IjzNb4UZXxT"
      },
      "source": [
        "df['num-of-cylinders'] = df['num-of-cylinders'].replace('five', 5)"
      ],
      "execution_count": 207,
      "outputs": []
    },
    {
      "cell_type": "code",
      "metadata": {
        "id": "c0gPjE0kZaxr"
      },
      "source": [
        "df['num-of-cylinders'] = df['num-of-cylinders'].replace('six', 6)"
      ],
      "execution_count": 208,
      "outputs": []
    },
    {
      "cell_type": "code",
      "metadata": {
        "id": "MfeFLFUhZdgS"
      },
      "source": [
        "df['num-of-cylinders'] = df['num-of-cylinders'].replace('eight', 8)"
      ],
      "execution_count": 209,
      "outputs": []
    },
    {
      "cell_type": "code",
      "metadata": {
        "id": "20qe4SB-ZgtC"
      },
      "source": [
        "df['num-of-cylinders'] = df['num-of-cylinders'].replace('twelve', 12)"
      ],
      "execution_count": 210,
      "outputs": []
    },
    {
      "cell_type": "code",
      "metadata": {
        "colab": {
          "base_uri": "https://localhost:8080/",
          "height": 0
        },
        "id": "uPtzQg-3ZkP6",
        "outputId": "16d5c61a-15f7-4a49-b417-a6bb456f1db7"
      },
      "source": [
        "df['num-of-cylinders'].unique()"
      ],
      "execution_count": 211,
      "outputs": [
        {
          "output_type": "execute_result",
          "data": {
            "text/plain": [
              "array([ 4,  6,  5,  3, 12,  2,  8])"
            ]
          },
          "metadata": {},
          "execution_count": 211
        }
      ]
    },
    {
      "cell_type": "code",
      "metadata": {
        "id": "QEZ57CW2ZndR"
      },
      "source": [
        "df[\"num-of-cylinders\"] = df[\"num-of-cylinders\"].astype('int')"
      ],
      "execution_count": 212,
      "outputs": []
    },
    {
      "cell_type": "code",
      "metadata": {
        "colab": {
          "base_uri": "https://localhost:8080/",
          "height": 0
        },
        "id": "TCRDFYgAaCv-",
        "outputId": "ba493e15-f704-402f-c1d5-be164541eeed"
      },
      "source": [
        "df.dtypes"
      ],
      "execution_count": 213,
      "outputs": [
        {
          "output_type": "execute_result",
          "data": {
            "text/plain": [
              "symboling              int64\n",
              "normalized-losses    float64\n",
              "make                  object\n",
              "fuel-type             object\n",
              "aspiration            object\n",
              "num-of-doors           int64\n",
              "body-style            object\n",
              "drive-wheels          object\n",
              "engine-location       object\n",
              "wheel-base           float64\n",
              "length               float64\n",
              "width                float64\n",
              "height               float64\n",
              "curb-weight            int64\n",
              "engine-type           object\n",
              "num-of-cylinders       int64\n",
              "engine-size            int64\n",
              "fuel-system           object\n",
              "bore                  object\n",
              "stroke                object\n",
              "compression-ratio    float64\n",
              "horsepower            object\n",
              "peak-rpm              object\n",
              "city-mpg               int64\n",
              "highway-mpg            int64\n",
              "price                 object\n",
              "dtype: object"
            ]
          },
          "metadata": {},
          "execution_count": 213
        }
      ]
    },
    {
      "cell_type": "markdown",
      "metadata": {
        "id": "um1huYFckCrH"
      },
      "source": [
        "##TASK 2 \n",
        "\n",
        "\n",
        "\n",
        "\n",
        "\n",
        "##1.  ANALYZE EACH VARIABLE & IDENTIFY MISSING VALUES, OUTLIERS, TYPOS & SYBMOLS AND EXPLAIN WHAT PROBLEMS WERE FOUND IN THOSE COLUMNS\n",
        "  EXPLAIN WHAT PROBLEMS YOU FOUND IN THESE COLOUMNS \n",
        "\n",
        "* Normalized losses has 41 missing values, missing values present as “?”\n",
        "\n",
        "* No of doors has 2  missing values, missing values are present as “?” \n",
        "\n",
        "* Bore column has 4 missing values, missing values are present as “?”\n",
        "\n",
        "* Stroke variable has 4 missing values, missing values are present as “?”\n",
        "\n",
        "* Horsepower has 2 missing values, missing values are present as “?”\n",
        "\n",
        "* Peak rpm has 2 missing values, missing values are present as “?”\n",
        "\n",
        "* Price has 4 missing values, missing values are present as “?” \n",
        "\n",
        "* engine location variable has typos in some of their data points.Only 2 unique values must be present - front and rear \n",
        "\n",
        "\n",
        "\n",
        "\n",
        "##2. EXPLAIN DATA CLEANSING STRATEGIES SUITABLE FOR THESE COLUMNS  \n",
        "\n",
        "Most of the columns, as observed, have missing values denoted by “?”. Not all messy columns can be treated the same way, before we can treat them, we need to understand if the variable is related to another variable in order to replace the values. For eg: horsepower of automobiles depend on their engine power, in this case engine size, so replacing the value with mean will not necessarily make the dataset close to the true dataset. \n",
        "\n",
        "For missing values in the number of doors variable, the value can be replaced with “two” or “four” based on the body style of the car, if the body style is hatchback then number of doors will be 2 whereas if it’s sedan then it will be 4.\n",
        "\n",
        "For errors in bore and stroke,  we will have to look at the same make and number of cylinders \n",
        "\n",
        "For unknown values in Normalizes- losses, we can take the mean of the entire column and replace “?” Values with the mean. \n",
        "\n",
        "Some data points of Engine locations variable have typos. The variable must have only two unique values - front and rear. All the typos similar to front must be replaced with “front” and all the typos similar to rear/end need to be replaced with “rear” \n",
        "\n",
        "For missing values in the peak rpm column, we will need to look at vehicles with similar engine size, fuel type to be able to replace “?”\n",
        "\n",
        "\n",
        "##3. CHOOSE 3 VARIABLES TO PERFORM DATA CLEANSING\n",
        "Three variables chosen for cleaning - normalized losses, engine location and number of doors. \n",
        "I have chosen these variables because they have different data types and hence they will need to be treated in a different manner. This way we can explore different strategies for data cleaning \n",
        "\n",
        "* For normalized losses, the mean of the column is used to replace “?” Values. Here we cant drop drop them because there are 41 (many) missing alues, so dropping the values will alter the while dataset and result in misleading output, i.e may deviate from the real dataset. While deriving the mean, the Statistical summary can’t be drawn with “?” Values in the column, so first that value is replaced with 0 and then the mean is derived. The mean is: 97.6. The value 97.6 is replaced in place of “?” Value. \n",
        "\n",
        "* Engine location column has categorical data - Front and rear. This column \n",
        "\n",
        "is observed to have typos, so all the typos change to “front” and “rear” values.\n",
        "\n",
        "* Number of doors variable has categorical data which needs to be changed to numerical and replace “?” Values. To change the data type of the column, .astyle function is used. The missing values were dealt on the basis of the body style of cars . The “?” value is replaced with “two” or “four” based on the body style of the car, if the body style is hatchback then number of doors will be 2 whereas if it’s sedan then it will be 4.\n",
        "\n",
        "\n"
      ]
    },
    {
      "cell_type": "markdown",
      "metadata": {
        "id": "Xi9WbsIaYXqO"
      },
      "source": [
        "##Task 3 \n",
        "1. Explore and transform dataset for future analysis\n",
        "2. Explain why transformation is required within data sets, use examples from the dataset.\n",
        "3. what kind of transformation would make the data said better for analysis.\n",
        "4. Choose two columns and visually compare.\n",
        "5. Plot a chart showing the overlapping distribution before transforming the data\n",
        "6. Decide and apply suitable transformation\n",
        "7. Visualize overlapping distribution again\n",
        "8. what plot is better to compare the data justify for your choice for the transformation you used\n",
        "\n"
      ]
    },
    {
      "cell_type": "code",
      "metadata": {
        "id": "JQmueitZaxIR"
      },
      "source": [
        " import matplotlib.pyplot as plt"
      ],
      "execution_count": 214,
      "outputs": []
    },
    {
      "cell_type": "code",
      "metadata": {
        "id": "0VInhDKnHAic"
      },
      "source": [
        "import seaborn as sns\n",
        "# Use seaborn to create distribution plot\n"
      ],
      "execution_count": 254,
      "outputs": []
    },
    {
      "cell_type": "code",
      "metadata": {
        "colab": {
          "base_uri": "https://localhost:8080/",
          "height": 771
        },
        "id": "f-SeNes-X2DO",
        "outputId": "d417693d-f124-4d7a-91d4-8c0ecc955ed8"
      },
      "source": [
        "plt.figure(figsize=(12,5))\n",
        "plt.title(\"engine-size\")\n",
        "ax = sns.distplot(df[\"engine-size\"], color = 'r')\n",
        "plt.grid()\n",
        "plt.figure(figsize=(12,5))\n",
        "plt.title(\"wheel-base\")\n",
        "ax = sns.distplot(df[\"wheel-base\"], color = 'g')\n",
        "plt.grid()"
      ],
      "execution_count": 246,
      "outputs": [
        {
          "output_type": "stream",
          "name": "stderr",
          "text": [
            "/usr/local/lib/python3.7/dist-packages/seaborn/distributions.py:2557: FutureWarning: `distplot` is a deprecated function and will be removed in a future version. Please adapt your code to use either `displot` (a figure-level function with similar flexibility) or `histplot` (an axes-level function for histograms).\n",
            "  warnings.warn(msg, FutureWarning)\n",
            "/usr/local/lib/python3.7/dist-packages/seaborn/distributions.py:2557: FutureWarning: `distplot` is a deprecated function and will be removed in a future version. Please adapt your code to use either `displot` (a figure-level function with similar flexibility) or `histplot` (an axes-level function for histograms).\n",
            "  warnings.warn(msg, FutureWarning)\n"
          ]
        },
        {
          "output_type": "display_data",
          "data": {
            "image/png": "[encoded data removed]",
            "text/plain": [
              "<Figure size 864x360 with 1 Axes>"
            ]
          },
          "metadata": {
            "needs_background": "light"
          }
        },
        {
          "output_type": "display_data",
          "data": {
            "image/png": "[encoded data removed]",
            "text/plain": [
              "<Figure size 864x360 with 1 Axes>"
            ]
          },
          "metadata": {
            "needs_background": "light"
          }
        }
      ]
    },
    {
      "cell_type": "code",
      "metadata": {
        "colab": {
          "base_uri": "https://localhost:8080/",
          "height": 323
        },
        "id": "gkDdtnb5Zvu-",
        "outputId": "8dc83e89-cea8-4a8e-bef5-034dcdb9e928"
      },
      "source": [
        "# libraries & dataset\n",
        "import seaborn as sns\n",
        "import matplotlib.pyplot as plt\n",
        "# set a grey background (use sns.set_theme() if seaborn version 0.11.0 or above) \n",
        "sns.set(style=\"darkgrid\")\n",
        "plt.figure(figsize=(20,8))\n",
        "\n",
        "\n",
        "\n",
        "sns.histplot(data=df, x=\"engine-size\", color=\"skyblue\", label=\"engine-size\", kde=True)\n",
        "sns.histplot(data=df, x=\"wheel-base\", color=\"red\", label=\"wheel-base\", kde=True)\n",
        "\n",
        "plt.legend() \n",
        "plt.show()"
      ],
      "execution_count": 252,
      "outputs": [
        {
          "output_type": "display_data",
          "data": {
            "image/png": "[encoded data removed]",
            "text/plain": [
              "<Figure size 1440x576 with 1 Axes>"
            ]
          },
          "metadata": {}
        }
      ]
    },
    {
      "cell_type": "code",
      "metadata": {
        "id": "CzDZnyfaZfgw"
      },
      "source": [
        "df['log_engine-size'] = np.log10(df['engine-size'])\n",
        "df['log_wheel-base'] = np.log10(df['wheel-base'])"
      ],
      "execution_count": 248,
      "outputs": []
    },
    {
      "cell_type": "code",
      "metadata": {
        "colab": {
          "base_uri": "https://localhost:8080/",
          "height": 781
        },
        "id": "veVNGINqaLE1",
        "outputId": "edf1c693-f7c4-4a8e-8be1-fe2edcfcf249"
      },
      "source": [
        "plt.figure(figsize=(12,5))\n",
        "plt.title(\"log_engine-size\")\n",
        "ax = sns.distplot(df[\"log_engine-size\"], color = 'r')\n",
        "plt.grid()\n",
        "plt.figure(figsize=(12,5))\n",
        "plt.title(\"log_wheel-base\")\n",
        "ax = sns.distplot(df[\"log_wheel-base\"], color = 'g')\n",
        "plt.grid()"
      ],
      "execution_count": 253,
      "outputs": [
        {
          "output_type": "stream",
          "name": "stderr",
          "text": [
            "/usr/local/lib/python3.7/dist-packages/seaborn/distributions.py:2557: FutureWarning: `distplot` is a deprecated function and will be removed in a future version. Please adapt your code to use either `displot` (a figure-level function with similar flexibility) or `histplot` (an axes-level function for histograms).\n",
            "  warnings.warn(msg, FutureWarning)\n",
            "/usr/local/lib/python3.7/dist-packages/seaborn/distributions.py:2557: FutureWarning: `distplot` is a deprecated function and will be removed in a future version. Please adapt your code to use either `displot` (a figure-level function with similar flexibility) or `histplot` (an axes-level function for histograms).\n",
            "  warnings.warn(msg, FutureWarning)\n"
          ]
        },
        {
          "output_type": "display_data",
          "data": {
            "image/png": "[encoded data removed]",
            "text/plain": [
              "<Figure size 864x360 with 1 Axes>"
            ]
          },
          "metadata": {}
        },
        {
          "output_type": "display_data",
          "data": {
            "image/png": "[encoded data removed]",
            "text/plain": [
              "<Figure size 864x360 with 1 Axes>"
            ]
          },
          "metadata": {}
        }
      ]
    },
    {
      "cell_type": "code",
      "metadata": {
        "colab": {
          "base_uri": "https://localhost:8080/",
          "height": 502
        },
        "id": "Nb63HbWNZQQf",
        "outputId": "b3a0c002-7b4f-4928-9911-29a4fcbee6e3"
      },
      "source": [
        "import seaborn as sns\n",
        "import matplotlib.pyplot as plt\n",
        "# set a grey background (use sns.set_theme() if seaborn version 0.11.0 or above) \n",
        "sns.set(style=\"darkgrid\")\n",
        "plt.figure(figsize=(20,8))\n",
        "\n",
        "\n",
        "\n",
        "sns.histplot(data=df, x=\"log_engine-size\", color=\"skyblue\", label=\"log_engine-size\", kde=True)\n",
        "sns.histplot(data=df, x=\"log_wheel-base\", color=\"red\", label=\"log_wheel-base\", kde=True)\n",
        "\n",
        "plt.legend() \n",
        "plt.show()"
      ],
      "execution_count": 249,
      "outputs": [
        {
          "output_type": "display_data",
          "data": {
            "image/png": "[encoded data removed]",
            "text/plain": [
              "<Figure size 1440x576 with 1 Axes>"
            ]
          },
          "metadata": {}
        }
      ]
    },
    {
      "cell_type": "markdown",
      "metadata": {
        "id": "J1J192xNYmAQ"
      },
      "source": [
        "## Explain why transformation is required within the dataset, use examples from the dataset. \n",
        "\n",
        "####Transformation is required for the dataset to pull all the data points together so that the dataset can be close to the assumptions of the statistical inference. For example, in our dataset, we have some columns which are skewed and have outliers, so transformation pulls those data points together to make it close to normal.  The logarithmic is a strong transformation that has a major effect on distribution shape. This technique is oftenly used for reducing right skewness.  Also, Data transformation is important as it organises the data in much sorted way so that the approach towards analysis can be much easier. Transformation not only helps in narrowing down the data it also helps in validating the data so that it not only increases the quality but also makes it possible for an analyst to overcome all the difficulties in visualisation.\n",
        "\n",
        "\n",
        "##What kind of transformation would make the dataset better for analysis? \n",
        "####Depending on the column, we can decide on normalization, standardization or log transformation. For this dataset, log transformation will work the best because, as we saw in task 1, most of the columns are skewed and have outliers. \n",
        "\n",
        "##Decide and apply suitable transformation \n",
        "####Log transformation is applied to both the chosen variables \n",
        "\n",
        "##What Plot is better to compare the data and justify for your choice of transformation you used\n",
        "####Log transformation helps reduce right skewness when you have skewed data. So columns city mpg and engine size are highly skilled to the right. After transformation plots are better because it follows normal distribution and will help the model in better accuracy in future analysis when extracting the output.\n"
      ]
    }
  ]
}